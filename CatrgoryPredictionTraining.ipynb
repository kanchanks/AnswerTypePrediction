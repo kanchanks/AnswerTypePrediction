{
  "nbformat": 4,
  "nbformat_minor": 0,
  "metadata": {
    "accelerator": "GPU",
    "colab": {
      "name": "CatrgoryClassifier_DBPedia_(3).ipynb",
      "provenance": [],
      "collapsed_sections": []
    },
    "kernelspec": {
      "display_name": "Python 3",
      "name": "python3"
    },
    "widgets": {
      "application/vnd.jupyter.widget-state+json": {
        "ba91be23a04b4e69841c7dcb7e3b826c": {
          "model_module": "@jupyter-widgets/controls",
          "model_name": "HBoxModel",
          "model_module_version": "1.5.0",
          "state": {
            "_view_name": "HBoxView",
            "_dom_classes": [],
            "_model_name": "HBoxModel",
            "_view_module": "@jupyter-widgets/controls",
            "_model_module_version": "1.5.0",
            "_view_count": null,
            "_view_module_version": "1.5.0",
            "box_style": "",
            "layout": "IPY_MODEL_e071dd5bfcc947ad860749be02c75878",
            "_model_module": "@jupyter-widgets/controls",
            "children": [
              "IPY_MODEL_5c2eb8364a264e82aec589b2bd44db21",
              "IPY_MODEL_8598507b16bc4285afefdacd14e40679",
              "IPY_MODEL_4fbac1bbe68e4dc7a5a9f1d6459208fe"
            ]
          }
        },
        "e071dd5bfcc947ad860749be02c75878": {
          "model_module": "@jupyter-widgets/base",
          "model_name": "LayoutModel",
          "model_module_version": "1.2.0",
          "state": {
            "_view_name": "LayoutView",
            "grid_template_rows": null,
            "right": null,
            "justify_content": null,
            "_view_module": "@jupyter-widgets/base",
            "overflow": null,
            "_model_module_version": "1.2.0",
            "_view_count": null,
            "flex_flow": null,
            "width": null,
            "min_width": null,
            "border": null,
            "align_items": null,
            "bottom": null,
            "_model_module": "@jupyter-widgets/base",
            "top": null,
            "grid_column": null,
            "overflow_y": null,
            "overflow_x": null,
            "grid_auto_flow": null,
            "grid_area": null,
            "grid_template_columns": null,
            "flex": null,
            "_model_name": "LayoutModel",
            "justify_items": null,
            "grid_row": null,
            "max_height": null,
            "align_content": null,
            "visibility": null,
            "align_self": null,
            "height": null,
            "min_height": null,
            "padding": null,
            "grid_auto_rows": null,
            "grid_gap": null,
            "max_width": null,
            "order": null,
            "_view_module_version": "1.2.0",
            "grid_template_areas": null,
            "object_position": null,
            "object_fit": null,
            "grid_auto_columns": null,
            "margin": null,
            "display": null,
            "left": null
          }
        },
        "5c2eb8364a264e82aec589b2bd44db21": {
          "model_module": "@jupyter-widgets/controls",
          "model_name": "HTMLModel",
          "model_module_version": "1.5.0",
          "state": {
            "_view_name": "HTMLView",
            "style": "IPY_MODEL_815b916a0cea47f7aa4cd42401df014a",
            "_dom_classes": [],
            "description": "",
            "_model_name": "HTMLModel",
            "placeholder": "​",
            "_view_module": "@jupyter-widgets/controls",
            "_model_module_version": "1.5.0",
            "value": "Downloading: 100%",
            "_view_count": null,
            "_view_module_version": "1.5.0",
            "description_tooltip": null,
            "_model_module": "@jupyter-widgets/controls",
            "layout": "IPY_MODEL_f5ae72ae033e4b619312e6d54c103bef"
          }
        },
        "8598507b16bc4285afefdacd14e40679": {
          "model_module": "@jupyter-widgets/controls",
          "model_name": "FloatProgressModel",
          "model_module_version": "1.5.0",
          "state": {
            "_view_name": "ProgressView",
            "style": "IPY_MODEL_375c6b98753a4c8c952a31d40c143d0a",
            "_dom_classes": [],
            "description": "",
            "_model_name": "FloatProgressModel",
            "bar_style": "success",
            "max": 481,
            "_view_module": "@jupyter-widgets/controls",
            "_model_module_version": "1.5.0",
            "value": 481,
            "_view_count": null,
            "_view_module_version": "1.5.0",
            "orientation": "horizontal",
            "min": 0,
            "description_tooltip": null,
            "_model_module": "@jupyter-widgets/controls",
            "layout": "IPY_MODEL_f384efa076bd41af98de379de1552b0c"
          }
        },
        "4fbac1bbe68e4dc7a5a9f1d6459208fe": {
          "model_module": "@jupyter-widgets/controls",
          "model_name": "HTMLModel",
          "model_module_version": "1.5.0",
          "state": {
            "_view_name": "HTMLView",
            "style": "IPY_MODEL_543c6afe9b074948aa0b96f378843fd4",
            "_dom_classes": [],
            "description": "",
            "_model_name": "HTMLModel",
            "placeholder": "​",
            "_view_module": "@jupyter-widgets/controls",
            "_model_module_version": "1.5.0",
            "value": " 481/481 [00:00&lt;00:00, 9.14kB/s]",
            "_view_count": null,
            "_view_module_version": "1.5.0",
            "description_tooltip": null,
            "_model_module": "@jupyter-widgets/controls",
            "layout": "IPY_MODEL_daf1686349f04b03847c2ba144e7412c"
          }
        },
        "815b916a0cea47f7aa4cd42401df014a": {
          "model_module": "@jupyter-widgets/controls",
          "model_name": "DescriptionStyleModel",
          "model_module_version": "1.5.0",
          "state": {
            "_view_name": "StyleView",
            "_model_name": "DescriptionStyleModel",
            "description_width": "",
            "_view_module": "@jupyter-widgets/base",
            "_model_module_version": "1.5.0",
            "_view_count": null,
            "_view_module_version": "1.2.0",
            "_model_module": "@jupyter-widgets/controls"
          }
        },
        "f5ae72ae033e4b619312e6d54c103bef": {
          "model_module": "@jupyter-widgets/base",
          "model_name": "LayoutModel",
          "model_module_version": "1.2.0",
          "state": {
            "_view_name": "LayoutView",
            "grid_template_rows": null,
            "right": null,
            "justify_content": null,
            "_view_module": "@jupyter-widgets/base",
            "overflow": null,
            "_model_module_version": "1.2.0",
            "_view_count": null,
            "flex_flow": null,
            "width": null,
            "min_width": null,
            "border": null,
            "align_items": null,
            "bottom": null,
            "_model_module": "@jupyter-widgets/base",
            "top": null,
            "grid_column": null,
            "overflow_y": null,
            "overflow_x": null,
            "grid_auto_flow": null,
            "grid_area": null,
            "grid_template_columns": null,
            "flex": null,
            "_model_name": "LayoutModel",
            "justify_items": null,
            "grid_row": null,
            "max_height": null,
            "align_content": null,
            "visibility": null,
            "align_self": null,
            "height": null,
            "min_height": null,
            "padding": null,
            "grid_auto_rows": null,
            "grid_gap": null,
            "max_width": null,
            "order": null,
            "_view_module_version": "1.2.0",
            "grid_template_areas": null,
            "object_position": null,
            "object_fit": null,
            "grid_auto_columns": null,
            "margin": null,
            "display": null,
            "left": null
          }
        },
        "375c6b98753a4c8c952a31d40c143d0a": {
          "model_module": "@jupyter-widgets/controls",
          "model_name": "ProgressStyleModel",
          "model_module_version": "1.5.0",
          "state": {
            "_view_name": "StyleView",
            "_model_name": "ProgressStyleModel",
            "description_width": "",
            "_view_module": "@jupyter-widgets/base",
            "_model_module_version": "1.5.0",
            "_view_count": null,
            "_view_module_version": "1.2.0",
            "bar_color": null,
            "_model_module": "@jupyter-widgets/controls"
          }
        },
        "f384efa076bd41af98de379de1552b0c": {
          "model_module": "@jupyter-widgets/base",
          "model_name": "LayoutModel",
          "model_module_version": "1.2.0",
          "state": {
            "_view_name": "LayoutView",
            "grid_template_rows": null,
            "right": null,
            "justify_content": null,
            "_view_module": "@jupyter-widgets/base",
            "overflow": null,
            "_model_module_version": "1.2.0",
            "_view_count": null,
            "flex_flow": null,
            "width": null,
            "min_width": null,
            "border": null,
            "align_items": null,
            "bottom": null,
            "_model_module": "@jupyter-widgets/base",
            "top": null,
            "grid_column": null,
            "overflow_y": null,
            "overflow_x": null,
            "grid_auto_flow": null,
            "grid_area": null,
            "grid_template_columns": null,
            "flex": null,
            "_model_name": "LayoutModel",
            "justify_items": null,
            "grid_row": null,
            "max_height": null,
            "align_content": null,
            "visibility": null,
            "align_self": null,
            "height": null,
            "min_height": null,
            "padding": null,
            "grid_auto_rows": null,
            "grid_gap": null,
            "max_width": null,
            "order": null,
            "_view_module_version": "1.2.0",
            "grid_template_areas": null,
            "object_position": null,
            "object_fit": null,
            "grid_auto_columns": null,
            "margin": null,
            "display": null,
            "left": null
          }
        },
        "543c6afe9b074948aa0b96f378843fd4": {
          "model_module": "@jupyter-widgets/controls",
          "model_name": "DescriptionStyleModel",
          "model_module_version": "1.5.0",
          "state": {
            "_view_name": "StyleView",
            "_model_name": "DescriptionStyleModel",
            "description_width": "",
            "_view_module": "@jupyter-widgets/base",
            "_model_module_version": "1.5.0",
            "_view_count": null,
            "_view_module_version": "1.2.0",
            "_model_module": "@jupyter-widgets/controls"
          }
        },
        "daf1686349f04b03847c2ba144e7412c": {
          "model_module": "@jupyter-widgets/base",
          "model_name": "LayoutModel",
          "model_module_version": "1.2.0",
          "state": {
            "_view_name": "LayoutView",
            "grid_template_rows": null,
            "right": null,
            "justify_content": null,
            "_view_module": "@jupyter-widgets/base",
            "overflow": null,
            "_model_module_version": "1.2.0",
            "_view_count": null,
            "flex_flow": null,
            "width": null,
            "min_width": null,
            "border": null,
            "align_items": null,
            "bottom": null,
            "_model_module": "@jupyter-widgets/base",
            "top": null,
            "grid_column": null,
            "overflow_y": null,
            "overflow_x": null,
            "grid_auto_flow": null,
            "grid_area": null,
            "grid_template_columns": null,
            "flex": null,
            "_model_name": "LayoutModel",
            "justify_items": null,
            "grid_row": null,
            "max_height": null,
            "align_content": null,
            "visibility": null,
            "align_self": null,
            "height": null,
            "min_height": null,
            "padding": null,
            "grid_auto_rows": null,
            "grid_gap": null,
            "max_width": null,
            "order": null,
            "_view_module_version": "1.2.0",
            "grid_template_areas": null,
            "object_position": null,
            "object_fit": null,
            "grid_auto_columns": null,
            "margin": null,
            "display": null,
            "left": null
          }
        },
        "207f5e1309ff41e68893d7a00a2f1198": {
          "model_module": "@jupyter-widgets/controls",
          "model_name": "HBoxModel",
          "model_module_version": "1.5.0",
          "state": {
            "_view_name": "HBoxView",
            "_dom_classes": [],
            "_model_name": "HBoxModel",
            "_view_module": "@jupyter-widgets/controls",
            "_model_module_version": "1.5.0",
            "_view_count": null,
            "_view_module_version": "1.5.0",
            "box_style": "",
            "layout": "IPY_MODEL_a9777dccd39a4414a27ffe864f813c45",
            "_model_module": "@jupyter-widgets/controls",
            "children": [
              "IPY_MODEL_9310c2a15c2149559ecc1cfe31bfbde9",
              "IPY_MODEL_677c54e9ec5043d7b8e18fecacd8cfe9",
              "IPY_MODEL_8e184319b5964399b78925dc46186494"
            ]
          }
        },
        "a9777dccd39a4414a27ffe864f813c45": {
          "model_module": "@jupyter-widgets/base",
          "model_name": "LayoutModel",
          "model_module_version": "1.2.0",
          "state": {
            "_view_name": "LayoutView",
            "grid_template_rows": null,
            "right": null,
            "justify_content": null,
            "_view_module": "@jupyter-widgets/base",
            "overflow": null,
            "_model_module_version": "1.2.0",
            "_view_count": null,
            "flex_flow": null,
            "width": null,
            "min_width": null,
            "border": null,
            "align_items": null,
            "bottom": null,
            "_model_module": "@jupyter-widgets/base",
            "top": null,
            "grid_column": null,
            "overflow_y": null,
            "overflow_x": null,
            "grid_auto_flow": null,
            "grid_area": null,
            "grid_template_columns": null,
            "flex": null,
            "_model_name": "LayoutModel",
            "justify_items": null,
            "grid_row": null,
            "max_height": null,
            "align_content": null,
            "visibility": null,
            "align_self": null,
            "height": null,
            "min_height": null,
            "padding": null,
            "grid_auto_rows": null,
            "grid_gap": null,
            "max_width": null,
            "order": null,
            "_view_module_version": "1.2.0",
            "grid_template_areas": null,
            "object_position": null,
            "object_fit": null,
            "grid_auto_columns": null,
            "margin": null,
            "display": null,
            "left": null
          }
        },
        "9310c2a15c2149559ecc1cfe31bfbde9": {
          "model_module": "@jupyter-widgets/controls",
          "model_name": "HTMLModel",
          "model_module_version": "1.5.0",
          "state": {
            "_view_name": "HTMLView",
            "style": "IPY_MODEL_d577731937fa4e8b8a99c28102380eab",
            "_dom_classes": [],
            "description": "",
            "_model_name": "HTMLModel",
            "placeholder": "​",
            "_view_module": "@jupyter-widgets/controls",
            "_model_module_version": "1.5.0",
            "value": "Downloading: 100%",
            "_view_count": null,
            "_view_module_version": "1.5.0",
            "description_tooltip": null,
            "_model_module": "@jupyter-widgets/controls",
            "layout": "IPY_MODEL_ec4ee40e563d49a8a78f0a1232c3a682"
          }
        },
        "677c54e9ec5043d7b8e18fecacd8cfe9": {
          "model_module": "@jupyter-widgets/controls",
          "model_name": "FloatProgressModel",
          "model_module_version": "1.5.0",
          "state": {
            "_view_name": "ProgressView",
            "style": "IPY_MODEL_3509f9303f9a430287566f879555322c",
            "_dom_classes": [],
            "description": "",
            "_model_name": "FloatProgressModel",
            "bar_style": "success",
            "max": 657434796,
            "_view_module": "@jupyter-widgets/controls",
            "_model_module_version": "1.5.0",
            "value": 657434796,
            "_view_count": null,
            "_view_module_version": "1.5.0",
            "orientation": "horizontal",
            "min": 0,
            "description_tooltip": null,
            "_model_module": "@jupyter-widgets/controls",
            "layout": "IPY_MODEL_59ba8e0d563e47a88466559e070047d1"
          }
        },
        "8e184319b5964399b78925dc46186494": {
          "model_module": "@jupyter-widgets/controls",
          "model_name": "HTMLModel",
          "model_module_version": "1.5.0",
          "state": {
            "_view_name": "HTMLView",
            "style": "IPY_MODEL_49c460b544e648639f7fc0553bf47810",
            "_dom_classes": [],
            "description": "",
            "_model_name": "HTMLModel",
            "placeholder": "​",
            "_view_module": "@jupyter-widgets/controls",
            "_model_module_version": "1.5.0",
            "value": " 657M/657M [00:20&lt;00:00, 35.5MB/s]",
            "_view_count": null,
            "_view_module_version": "1.5.0",
            "description_tooltip": null,
            "_model_module": "@jupyter-widgets/controls",
            "layout": "IPY_MODEL_29f6e2d3db7d405b9e104f95a273360a"
          }
        },
        "d577731937fa4e8b8a99c28102380eab": {
          "model_module": "@jupyter-widgets/controls",
          "model_name": "DescriptionStyleModel",
          "model_module_version": "1.5.0",
          "state": {
            "_view_name": "StyleView",
            "_model_name": "DescriptionStyleModel",
            "description_width": "",
            "_view_module": "@jupyter-widgets/base",
            "_model_module_version": "1.5.0",
            "_view_count": null,
            "_view_module_version": "1.2.0",
            "_model_module": "@jupyter-widgets/controls"
          }
        },
        "ec4ee40e563d49a8a78f0a1232c3a682": {
          "model_module": "@jupyter-widgets/base",
          "model_name": "LayoutModel",
          "model_module_version": "1.2.0",
          "state": {
            "_view_name": "LayoutView",
            "grid_template_rows": null,
            "right": null,
            "justify_content": null,
            "_view_module": "@jupyter-widgets/base",
            "overflow": null,
            "_model_module_version": "1.2.0",
            "_view_count": null,
            "flex_flow": null,
            "width": null,
            "min_width": null,
            "border": null,
            "align_items": null,
            "bottom": null,
            "_model_module": "@jupyter-widgets/base",
            "top": null,
            "grid_column": null,
            "overflow_y": null,
            "overflow_x": null,
            "grid_auto_flow": null,
            "grid_area": null,
            "grid_template_columns": null,
            "flex": null,
            "_model_name": "LayoutModel",
            "justify_items": null,
            "grid_row": null,
            "max_height": null,
            "align_content": null,
            "visibility": null,
            "align_self": null,
            "height": null,
            "min_height": null,
            "padding": null,
            "grid_auto_rows": null,
            "grid_gap": null,
            "max_width": null,
            "order": null,
            "_view_module_version": "1.2.0",
            "grid_template_areas": null,
            "object_position": null,
            "object_fit": null,
            "grid_auto_columns": null,
            "margin": null,
            "display": null,
            "left": null
          }
        },
        "3509f9303f9a430287566f879555322c": {
          "model_module": "@jupyter-widgets/controls",
          "model_name": "ProgressStyleModel",
          "model_module_version": "1.5.0",
          "state": {
            "_view_name": "StyleView",
            "_model_name": "ProgressStyleModel",
            "description_width": "",
            "_view_module": "@jupyter-widgets/base",
            "_model_module_version": "1.5.0",
            "_view_count": null,
            "_view_module_version": "1.2.0",
            "bar_color": null,
            "_model_module": "@jupyter-widgets/controls"
          }
        },
        "59ba8e0d563e47a88466559e070047d1": {
          "model_module": "@jupyter-widgets/base",
          "model_name": "LayoutModel",
          "model_module_version": "1.2.0",
          "state": {
            "_view_name": "LayoutView",
            "grid_template_rows": null,
            "right": null,
            "justify_content": null,
            "_view_module": "@jupyter-widgets/base",
            "overflow": null,
            "_model_module_version": "1.2.0",
            "_view_count": null,
            "flex_flow": null,
            "width": null,
            "min_width": null,
            "border": null,
            "align_items": null,
            "bottom": null,
            "_model_module": "@jupyter-widgets/base",
            "top": null,
            "grid_column": null,
            "overflow_y": null,
            "overflow_x": null,
            "grid_auto_flow": null,
            "grid_area": null,
            "grid_template_columns": null,
            "flex": null,
            "_model_name": "LayoutModel",
            "justify_items": null,
            "grid_row": null,
            "max_height": null,
            "align_content": null,
            "visibility": null,
            "align_self": null,
            "height": null,
            "min_height": null,
            "padding": null,
            "grid_auto_rows": null,
            "grid_gap": null,
            "max_width": null,
            "order": null,
            "_view_module_version": "1.2.0",
            "grid_template_areas": null,
            "object_position": null,
            "object_fit": null,
            "grid_auto_columns": null,
            "margin": null,
            "display": null,
            "left": null
          }
        },
        "49c460b544e648639f7fc0553bf47810": {
          "model_module": "@jupyter-widgets/controls",
          "model_name": "DescriptionStyleModel",
          "model_module_version": "1.5.0",
          "state": {
            "_view_name": "StyleView",
            "_model_name": "DescriptionStyleModel",
            "description_width": "",
            "_view_module": "@jupyter-widgets/base",
            "_model_module_version": "1.5.0",
            "_view_count": null,
            "_view_module_version": "1.2.0",
            "_model_module": "@jupyter-widgets/controls"
          }
        },
        "29f6e2d3db7d405b9e104f95a273360a": {
          "model_module": "@jupyter-widgets/base",
          "model_name": "LayoutModel",
          "model_module_version": "1.2.0",
          "state": {
            "_view_name": "LayoutView",
            "grid_template_rows": null,
            "right": null,
            "justify_content": null,
            "_view_module": "@jupyter-widgets/base",
            "overflow": null,
            "_model_module_version": "1.2.0",
            "_view_count": null,
            "flex_flow": null,
            "width": null,
            "min_width": null,
            "border": null,
            "align_items": null,
            "bottom": null,
            "_model_module": "@jupyter-widgets/base",
            "top": null,
            "grid_column": null,
            "overflow_y": null,
            "overflow_x": null,
            "grid_auto_flow": null,
            "grid_area": null,
            "grid_template_columns": null,
            "flex": null,
            "_model_name": "LayoutModel",
            "justify_items": null,
            "grid_row": null,
            "max_height": null,
            "align_content": null,
            "visibility": null,
            "align_self": null,
            "height": null,
            "min_height": null,
            "padding": null,
            "grid_auto_rows": null,
            "grid_gap": null,
            "max_width": null,
            "order": null,
            "_view_module_version": "1.2.0",
            "grid_template_areas": null,
            "object_position": null,
            "object_fit": null,
            "grid_auto_columns": null,
            "margin": null,
            "display": null,
            "left": null
          }
        },
        "6dc348621589420293047df01f7e2d53": {
          "model_module": "@jupyter-widgets/controls",
          "model_name": "HBoxModel",
          "model_module_version": "1.5.0",
          "state": {
            "_view_name": "HBoxView",
            "_dom_classes": [],
            "_model_name": "HBoxModel",
            "_view_module": "@jupyter-widgets/controls",
            "_model_module_version": "1.5.0",
            "_view_count": null,
            "_view_module_version": "1.5.0",
            "box_style": "",
            "layout": "IPY_MODEL_46efd00d5b994b2ea878be2e192120ce",
            "_model_module": "@jupyter-widgets/controls",
            "children": [
              "IPY_MODEL_63142d10c4cb4ef8ae9c6eeb318d73f6",
              "IPY_MODEL_fd1dee89348d41699fbd7f7cb7907794",
              "IPY_MODEL_f05d832298994e309bd8f6750e266730"
            ]
          }
        },
        "46efd00d5b994b2ea878be2e192120ce": {
          "model_module": "@jupyter-widgets/base",
          "model_name": "LayoutModel",
          "model_module_version": "1.2.0",
          "state": {
            "_view_name": "LayoutView",
            "grid_template_rows": null,
            "right": null,
            "justify_content": null,
            "_view_module": "@jupyter-widgets/base",
            "overflow": null,
            "_model_module_version": "1.2.0",
            "_view_count": null,
            "flex_flow": null,
            "width": null,
            "min_width": null,
            "border": null,
            "align_items": null,
            "bottom": null,
            "_model_module": "@jupyter-widgets/base",
            "top": null,
            "grid_column": null,
            "overflow_y": null,
            "overflow_x": null,
            "grid_auto_flow": null,
            "grid_area": null,
            "grid_template_columns": null,
            "flex": null,
            "_model_name": "LayoutModel",
            "justify_items": null,
            "grid_row": null,
            "max_height": null,
            "align_content": null,
            "visibility": null,
            "align_self": null,
            "height": null,
            "min_height": null,
            "padding": null,
            "grid_auto_rows": null,
            "grid_gap": null,
            "max_width": null,
            "order": null,
            "_view_module_version": "1.2.0",
            "grid_template_areas": null,
            "object_position": null,
            "object_fit": null,
            "grid_auto_columns": null,
            "margin": null,
            "display": null,
            "left": null
          }
        },
        "63142d10c4cb4ef8ae9c6eeb318d73f6": {
          "model_module": "@jupyter-widgets/controls",
          "model_name": "HTMLModel",
          "model_module_version": "1.5.0",
          "state": {
            "_view_name": "HTMLView",
            "style": "IPY_MODEL_6e397e9bbc344aa5a746163f1a489269",
            "_dom_classes": [],
            "description": "",
            "_model_name": "HTMLModel",
            "placeholder": "​",
            "_view_module": "@jupyter-widgets/controls",
            "_model_module_version": "1.5.0",
            "value": "Downloading: 100%",
            "_view_count": null,
            "_view_module_version": "1.5.0",
            "description_tooltip": null,
            "_model_module": "@jupyter-widgets/controls",
            "layout": "IPY_MODEL_3cc3b3f1b629487e9b0ab5eaeed839fd"
          }
        },
        "fd1dee89348d41699fbd7f7cb7907794": {
          "model_module": "@jupyter-widgets/controls",
          "model_name": "FloatProgressModel",
          "model_module_version": "1.5.0",
          "state": {
            "_view_name": "ProgressView",
            "style": "IPY_MODEL_1a990437cadb4428b6fb113b62d51b60",
            "_dom_classes": [],
            "description": "",
            "_model_name": "FloatProgressModel",
            "bar_style": "success",
            "max": 898823,
            "_view_module": "@jupyter-widgets/controls",
            "_model_module_version": "1.5.0",
            "value": 898823,
            "_view_count": null,
            "_view_module_version": "1.5.0",
            "orientation": "horizontal",
            "min": 0,
            "description_tooltip": null,
            "_model_module": "@jupyter-widgets/controls",
            "layout": "IPY_MODEL_36a6ce96b13f47f99fa24c8757af8563"
          }
        },
        "f05d832298994e309bd8f6750e266730": {
          "model_module": "@jupyter-widgets/controls",
          "model_name": "HTMLModel",
          "model_module_version": "1.5.0",
          "state": {
            "_view_name": "HTMLView",
            "style": "IPY_MODEL_ce7a8f43256b405c9ebf66253f98e563",
            "_dom_classes": [],
            "description": "",
            "_model_name": "HTMLModel",
            "placeholder": "​",
            "_view_module": "@jupyter-widgets/controls",
            "_model_module_version": "1.5.0",
            "value": " 899k/899k [00:00&lt;00:00, 954kB/s]",
            "_view_count": null,
            "_view_module_version": "1.5.0",
            "description_tooltip": null,
            "_model_module": "@jupyter-widgets/controls",
            "layout": "IPY_MODEL_7a581160174c43a9a24e3b97d7851bea"
          }
        },
        "6e397e9bbc344aa5a746163f1a489269": {
          "model_module": "@jupyter-widgets/controls",
          "model_name": "DescriptionStyleModel",
          "model_module_version": "1.5.0",
          "state": {
            "_view_name": "StyleView",
            "_model_name": "DescriptionStyleModel",
            "description_width": "",
            "_view_module": "@jupyter-widgets/base",
            "_model_module_version": "1.5.0",
            "_view_count": null,
            "_view_module_version": "1.2.0",
            "_model_module": "@jupyter-widgets/controls"
          }
        },
        "3cc3b3f1b629487e9b0ab5eaeed839fd": {
          "model_module": "@jupyter-widgets/base",
          "model_name": "LayoutModel",
          "model_module_version": "1.2.0",
          "state": {
            "_view_name": "LayoutView",
            "grid_template_rows": null,
            "right": null,
            "justify_content": null,
            "_view_module": "@jupyter-widgets/base",
            "overflow": null,
            "_model_module_version": "1.2.0",
            "_view_count": null,
            "flex_flow": null,
            "width": null,
            "min_width": null,
            "border": null,
            "align_items": null,
            "bottom": null,
            "_model_module": "@jupyter-widgets/base",
            "top": null,
            "grid_column": null,
            "overflow_y": null,
            "overflow_x": null,
            "grid_auto_flow": null,
            "grid_area": null,
            "grid_template_columns": null,
            "flex": null,
            "_model_name": "LayoutModel",
            "justify_items": null,
            "grid_row": null,
            "max_height": null,
            "align_content": null,
            "visibility": null,
            "align_self": null,
            "height": null,
            "min_height": null,
            "padding": null,
            "grid_auto_rows": null,
            "grid_gap": null,
            "max_width": null,
            "order": null,
            "_view_module_version": "1.2.0",
            "grid_template_areas": null,
            "object_position": null,
            "object_fit": null,
            "grid_auto_columns": null,
            "margin": null,
            "display": null,
            "left": null
          }
        },
        "1a990437cadb4428b6fb113b62d51b60": {
          "model_module": "@jupyter-widgets/controls",
          "model_name": "ProgressStyleModel",
          "model_module_version": "1.5.0",
          "state": {
            "_view_name": "StyleView",
            "_model_name": "ProgressStyleModel",
            "description_width": "",
            "_view_module": "@jupyter-widgets/base",
            "_model_module_version": "1.5.0",
            "_view_count": null,
            "_view_module_version": "1.2.0",
            "bar_color": null,
            "_model_module": "@jupyter-widgets/controls"
          }
        },
        "36a6ce96b13f47f99fa24c8757af8563": {
          "model_module": "@jupyter-widgets/base",
          "model_name": "LayoutModel",
          "model_module_version": "1.2.0",
          "state": {
            "_view_name": "LayoutView",
            "grid_template_rows": null,
            "right": null,
            "justify_content": null,
            "_view_module": "@jupyter-widgets/base",
            "overflow": null,
            "_model_module_version": "1.2.0",
            "_view_count": null,
            "flex_flow": null,
            "width": null,
            "min_width": null,
            "border": null,
            "align_items": null,
            "bottom": null,
            "_model_module": "@jupyter-widgets/base",
            "top": null,
            "grid_column": null,
            "overflow_y": null,
            "overflow_x": null,
            "grid_auto_flow": null,
            "grid_area": null,
            "grid_template_columns": null,
            "flex": null,
            "_model_name": "LayoutModel",
            "justify_items": null,
            "grid_row": null,
            "max_height": null,
            "align_content": null,
            "visibility": null,
            "align_self": null,
            "height": null,
            "min_height": null,
            "padding": null,
            "grid_auto_rows": null,
            "grid_gap": null,
            "max_width": null,
            "order": null,
            "_view_module_version": "1.2.0",
            "grid_template_areas": null,
            "object_position": null,
            "object_fit": null,
            "grid_auto_columns": null,
            "margin": null,
            "display": null,
            "left": null
          }
        },
        "ce7a8f43256b405c9ebf66253f98e563": {
          "model_module": "@jupyter-widgets/controls",
          "model_name": "DescriptionStyleModel",
          "model_module_version": "1.5.0",
          "state": {
            "_view_name": "StyleView",
            "_model_name": "DescriptionStyleModel",
            "description_width": "",
            "_view_module": "@jupyter-widgets/base",
            "_model_module_version": "1.5.0",
            "_view_count": null,
            "_view_module_version": "1.2.0",
            "_model_module": "@jupyter-widgets/controls"
          }
        },
        "7a581160174c43a9a24e3b97d7851bea": {
          "model_module": "@jupyter-widgets/base",
          "model_name": "LayoutModel",
          "model_module_version": "1.2.0",
          "state": {
            "_view_name": "LayoutView",
            "grid_template_rows": null,
            "right": null,
            "justify_content": null,
            "_view_module": "@jupyter-widgets/base",
            "overflow": null,
            "_model_module_version": "1.2.0",
            "_view_count": null,
            "flex_flow": null,
            "width": null,
            "min_width": null,
            "border": null,
            "align_items": null,
            "bottom": null,
            "_model_module": "@jupyter-widgets/base",
            "top": null,
            "grid_column": null,
            "overflow_y": null,
            "overflow_x": null,
            "grid_auto_flow": null,
            "grid_area": null,
            "grid_template_columns": null,
            "flex": null,
            "_model_name": "LayoutModel",
            "justify_items": null,
            "grid_row": null,
            "max_height": null,
            "align_content": null,
            "visibility": null,
            "align_self": null,
            "height": null,
            "min_height": null,
            "padding": null,
            "grid_auto_rows": null,
            "grid_gap": null,
            "max_width": null,
            "order": null,
            "_view_module_version": "1.2.0",
            "grid_template_areas": null,
            "object_position": null,
            "object_fit": null,
            "grid_auto_columns": null,
            "margin": null,
            "display": null,
            "left": null
          }
        },
        "3d47bfc2b3374bbdb19274ddf93a5bc2": {
          "model_module": "@jupyter-widgets/controls",
          "model_name": "HBoxModel",
          "model_module_version": "1.5.0",
          "state": {
            "_view_name": "HBoxView",
            "_dom_classes": [],
            "_model_name": "HBoxModel",
            "_view_module": "@jupyter-widgets/controls",
            "_model_module_version": "1.5.0",
            "_view_count": null,
            "_view_module_version": "1.5.0",
            "box_style": "",
            "layout": "IPY_MODEL_c9721b9f01784b98b6cf92f41479e807",
            "_model_module": "@jupyter-widgets/controls",
            "children": [
              "IPY_MODEL_c16d22da5c87446697729cf77b77ad92",
              "IPY_MODEL_25b8f43d17f94612bb32d630628b942f",
              "IPY_MODEL_a635367eec124f809fc51d0cd1e25e66"
            ]
          }
        },
        "c9721b9f01784b98b6cf92f41479e807": {
          "model_module": "@jupyter-widgets/base",
          "model_name": "LayoutModel",
          "model_module_version": "1.2.0",
          "state": {
            "_view_name": "LayoutView",
            "grid_template_rows": null,
            "right": null,
            "justify_content": null,
            "_view_module": "@jupyter-widgets/base",
            "overflow": null,
            "_model_module_version": "1.2.0",
            "_view_count": null,
            "flex_flow": null,
            "width": null,
            "min_width": null,
            "border": null,
            "align_items": null,
            "bottom": null,
            "_model_module": "@jupyter-widgets/base",
            "top": null,
            "grid_column": null,
            "overflow_y": null,
            "overflow_x": null,
            "grid_auto_flow": null,
            "grid_area": null,
            "grid_template_columns": null,
            "flex": null,
            "_model_name": "LayoutModel",
            "justify_items": null,
            "grid_row": null,
            "max_height": null,
            "align_content": null,
            "visibility": null,
            "align_self": null,
            "height": null,
            "min_height": null,
            "padding": null,
            "grid_auto_rows": null,
            "grid_gap": null,
            "max_width": null,
            "order": null,
            "_view_module_version": "1.2.0",
            "grid_template_areas": null,
            "object_position": null,
            "object_fit": null,
            "grid_auto_columns": null,
            "margin": null,
            "display": null,
            "left": null
          }
        },
        "c16d22da5c87446697729cf77b77ad92": {
          "model_module": "@jupyter-widgets/controls",
          "model_name": "HTMLModel",
          "model_module_version": "1.5.0",
          "state": {
            "_view_name": "HTMLView",
            "style": "IPY_MODEL_78f723e99cc9499285e69e3f90a2e9cc",
            "_dom_classes": [],
            "description": "",
            "_model_name": "HTMLModel",
            "placeholder": "​",
            "_view_module": "@jupyter-widgets/controls",
            "_model_module_version": "1.5.0",
            "value": "Downloading: 100%",
            "_view_count": null,
            "_view_module_version": "1.5.0",
            "description_tooltip": null,
            "_model_module": "@jupyter-widgets/controls",
            "layout": "IPY_MODEL_c42b8984bd84486c8307b150e7bd52d5"
          }
        },
        "25b8f43d17f94612bb32d630628b942f": {
          "model_module": "@jupyter-widgets/controls",
          "model_name": "FloatProgressModel",
          "model_module_version": "1.5.0",
          "state": {
            "_view_name": "ProgressView",
            "style": "IPY_MODEL_c0680577d4a64b2d8fab717624f83194",
            "_dom_classes": [],
            "description": "",
            "_model_name": "FloatProgressModel",
            "bar_style": "success",
            "max": 456318,
            "_view_module": "@jupyter-widgets/controls",
            "_model_module_version": "1.5.0",
            "value": 456318,
            "_view_count": null,
            "_view_module_version": "1.5.0",
            "orientation": "horizontal",
            "min": 0,
            "description_tooltip": null,
            "_model_module": "@jupyter-widgets/controls",
            "layout": "IPY_MODEL_6141ddf102c648babe04e9bd1ce89cb4"
          }
        },
        "a635367eec124f809fc51d0cd1e25e66": {
          "model_module": "@jupyter-widgets/controls",
          "model_name": "HTMLModel",
          "model_module_version": "1.5.0",
          "state": {
            "_view_name": "HTMLView",
            "style": "IPY_MODEL_082dd9b3d7bc4705b74488cce5b89183",
            "_dom_classes": [],
            "description": "",
            "_model_name": "HTMLModel",
            "placeholder": "​",
            "_view_module": "@jupyter-widgets/controls",
            "_model_module_version": "1.5.0",
            "value": " 456k/456k [00:00&lt;00:00, 680kB/s]",
            "_view_count": null,
            "_view_module_version": "1.5.0",
            "description_tooltip": null,
            "_model_module": "@jupyter-widgets/controls",
            "layout": "IPY_MODEL_23c9a27e03b4484cacdd02d41e9f0b76"
          }
        },
        "78f723e99cc9499285e69e3f90a2e9cc": {
          "model_module": "@jupyter-widgets/controls",
          "model_name": "DescriptionStyleModel",
          "model_module_version": "1.5.0",
          "state": {
            "_view_name": "StyleView",
            "_model_name": "DescriptionStyleModel",
            "description_width": "",
            "_view_module": "@jupyter-widgets/base",
            "_model_module_version": "1.5.0",
            "_view_count": null,
            "_view_module_version": "1.2.0",
            "_model_module": "@jupyter-widgets/controls"
          }
        },
        "c42b8984bd84486c8307b150e7bd52d5": {
          "model_module": "@jupyter-widgets/base",
          "model_name": "LayoutModel",
          "model_module_version": "1.2.0",
          "state": {
            "_view_name": "LayoutView",
            "grid_template_rows": null,
            "right": null,
            "justify_content": null,
            "_view_module": "@jupyter-widgets/base",
            "overflow": null,
            "_model_module_version": "1.2.0",
            "_view_count": null,
            "flex_flow": null,
            "width": null,
            "min_width": null,
            "border": null,
            "align_items": null,
            "bottom": null,
            "_model_module": "@jupyter-widgets/base",
            "top": null,
            "grid_column": null,
            "overflow_y": null,
            "overflow_x": null,
            "grid_auto_flow": null,
            "grid_area": null,
            "grid_template_columns": null,
            "flex": null,
            "_model_name": "LayoutModel",
            "justify_items": null,
            "grid_row": null,
            "max_height": null,
            "align_content": null,
            "visibility": null,
            "align_self": null,
            "height": null,
            "min_height": null,
            "padding": null,
            "grid_auto_rows": null,
            "grid_gap": null,
            "max_width": null,
            "order": null,
            "_view_module_version": "1.2.0",
            "grid_template_areas": null,
            "object_position": null,
            "object_fit": null,
            "grid_auto_columns": null,
            "margin": null,
            "display": null,
            "left": null
          }
        },
        "c0680577d4a64b2d8fab717624f83194": {
          "model_module": "@jupyter-widgets/controls",
          "model_name": "ProgressStyleModel",
          "model_module_version": "1.5.0",
          "state": {
            "_view_name": "StyleView",
            "_model_name": "ProgressStyleModel",
            "description_width": "",
            "_view_module": "@jupyter-widgets/base",
            "_model_module_version": "1.5.0",
            "_view_count": null,
            "_view_module_version": "1.2.0",
            "bar_color": null,
            "_model_module": "@jupyter-widgets/controls"
          }
        },
        "6141ddf102c648babe04e9bd1ce89cb4": {
          "model_module": "@jupyter-widgets/base",
          "model_name": "LayoutModel",
          "model_module_version": "1.2.0",
          "state": {
            "_view_name": "LayoutView",
            "grid_template_rows": null,
            "right": null,
            "justify_content": null,
            "_view_module": "@jupyter-widgets/base",
            "overflow": null,
            "_model_module_version": "1.2.0",
            "_view_count": null,
            "flex_flow": null,
            "width": null,
            "min_width": null,
            "border": null,
            "align_items": null,
            "bottom": null,
            "_model_module": "@jupyter-widgets/base",
            "top": null,
            "grid_column": null,
            "overflow_y": null,
            "overflow_x": null,
            "grid_auto_flow": null,
            "grid_area": null,
            "grid_template_columns": null,
            "flex": null,
            "_model_name": "LayoutModel",
            "justify_items": null,
            "grid_row": null,
            "max_height": null,
            "align_content": null,
            "visibility": null,
            "align_self": null,
            "height": null,
            "min_height": null,
            "padding": null,
            "grid_auto_rows": null,
            "grid_gap": null,
            "max_width": null,
            "order": null,
            "_view_module_version": "1.2.0",
            "grid_template_areas": null,
            "object_position": null,
            "object_fit": null,
            "grid_auto_columns": null,
            "margin": null,
            "display": null,
            "left": null
          }
        },
        "082dd9b3d7bc4705b74488cce5b89183": {
          "model_module": "@jupyter-widgets/controls",
          "model_name": "DescriptionStyleModel",
          "model_module_version": "1.5.0",
          "state": {
            "_view_name": "StyleView",
            "_model_name": "DescriptionStyleModel",
            "description_width": "",
            "_view_module": "@jupyter-widgets/base",
            "_model_module_version": "1.5.0",
            "_view_count": null,
            "_view_module_version": "1.2.0",
            "_model_module": "@jupyter-widgets/controls"
          }
        },
        "23c9a27e03b4484cacdd02d41e9f0b76": {
          "model_module": "@jupyter-widgets/base",
          "model_name": "LayoutModel",
          "model_module_version": "1.2.0",
          "state": {
            "_view_name": "LayoutView",
            "grid_template_rows": null,
            "right": null,
            "justify_content": null,
            "_view_module": "@jupyter-widgets/base",
            "overflow": null,
            "_model_module_version": "1.2.0",
            "_view_count": null,
            "flex_flow": null,
            "width": null,
            "min_width": null,
            "border": null,
            "align_items": null,
            "bottom": null,
            "_model_module": "@jupyter-widgets/base",
            "top": null,
            "grid_column": null,
            "overflow_y": null,
            "overflow_x": null,
            "grid_auto_flow": null,
            "grid_area": null,
            "grid_template_columns": null,
            "flex": null,
            "_model_name": "LayoutModel",
            "justify_items": null,
            "grid_row": null,
            "max_height": null,
            "align_content": null,
            "visibility": null,
            "align_self": null,
            "height": null,
            "min_height": null,
            "padding": null,
            "grid_auto_rows": null,
            "grid_gap": null,
            "max_width": null,
            "order": null,
            "_view_module_version": "1.2.0",
            "grid_template_areas": null,
            "object_position": null,
            "object_fit": null,
            "grid_auto_columns": null,
            "margin": null,
            "display": null,
            "left": null
          }
        },
        "1abef58d51cb4d8c9a52d13f25f02455": {
          "model_module": "@jupyter-widgets/controls",
          "model_name": "HBoxModel",
          "model_module_version": "1.5.0",
          "state": {
            "_view_name": "HBoxView",
            "_dom_classes": [],
            "_model_name": "HBoxModel",
            "_view_module": "@jupyter-widgets/controls",
            "_model_module_version": "1.5.0",
            "_view_count": null,
            "_view_module_version": "1.5.0",
            "box_style": "",
            "layout": "IPY_MODEL_f4ecf3fac91142e0964a57f925191436",
            "_model_module": "@jupyter-widgets/controls",
            "children": [
              "IPY_MODEL_f258d37824f342dfa4e1eac7dd957d22",
              "IPY_MODEL_2901936e946f4e1e8ecdc2b269c274b0",
              "IPY_MODEL_3d09e8a0aa544ef28f478b891307fb77"
            ]
          }
        },
        "f4ecf3fac91142e0964a57f925191436": {
          "model_module": "@jupyter-widgets/base",
          "model_name": "LayoutModel",
          "model_module_version": "1.2.0",
          "state": {
            "_view_name": "LayoutView",
            "grid_template_rows": null,
            "right": null,
            "justify_content": null,
            "_view_module": "@jupyter-widgets/base",
            "overflow": null,
            "_model_module_version": "1.2.0",
            "_view_count": null,
            "flex_flow": null,
            "width": null,
            "min_width": null,
            "border": null,
            "align_items": null,
            "bottom": null,
            "_model_module": "@jupyter-widgets/base",
            "top": null,
            "grid_column": null,
            "overflow_y": null,
            "overflow_x": null,
            "grid_auto_flow": null,
            "grid_area": null,
            "grid_template_columns": null,
            "flex": null,
            "_model_name": "LayoutModel",
            "justify_items": null,
            "grid_row": null,
            "max_height": null,
            "align_content": null,
            "visibility": null,
            "align_self": null,
            "height": null,
            "min_height": null,
            "padding": null,
            "grid_auto_rows": null,
            "grid_gap": null,
            "max_width": null,
            "order": null,
            "_view_module_version": "1.2.0",
            "grid_template_areas": null,
            "object_position": null,
            "object_fit": null,
            "grid_auto_columns": null,
            "margin": null,
            "display": null,
            "left": null
          }
        },
        "f258d37824f342dfa4e1eac7dd957d22": {
          "model_module": "@jupyter-widgets/controls",
          "model_name": "HTMLModel",
          "model_module_version": "1.5.0",
          "state": {
            "_view_name": "HTMLView",
            "style": "IPY_MODEL_7c5f074fcdac4724b15948b3d532a767",
            "_dom_classes": [],
            "description": "",
            "_model_name": "HTMLModel",
            "placeholder": "​",
            "_view_module": "@jupyter-widgets/controls",
            "_model_module_version": "1.5.0",
            "value": "Downloading: 100%",
            "_view_count": null,
            "_view_module_version": "1.5.0",
            "description_tooltip": null,
            "_model_module": "@jupyter-widgets/controls",
            "layout": "IPY_MODEL_f081245d6ac340aaac4838baf59900b2"
          }
        },
        "2901936e946f4e1e8ecdc2b269c274b0": {
          "model_module": "@jupyter-widgets/controls",
          "model_name": "FloatProgressModel",
          "model_module_version": "1.5.0",
          "state": {
            "_view_name": "ProgressView",
            "style": "IPY_MODEL_89cfbb349401445b853735735efb6351",
            "_dom_classes": [],
            "description": "",
            "_model_name": "FloatProgressModel",
            "bar_style": "success",
            "max": 1355863,
            "_view_module": "@jupyter-widgets/controls",
            "_model_module_version": "1.5.0",
            "value": 1355863,
            "_view_count": null,
            "_view_module_version": "1.5.0",
            "orientation": "horizontal",
            "min": 0,
            "description_tooltip": null,
            "_model_module": "@jupyter-widgets/controls",
            "layout": "IPY_MODEL_6289ea7163dd42d792b22ba3cfddd4f8"
          }
        },
        "3d09e8a0aa544ef28f478b891307fb77": {
          "model_module": "@jupyter-widgets/controls",
          "model_name": "HTMLModel",
          "model_module_version": "1.5.0",
          "state": {
            "_view_name": "HTMLView",
            "style": "IPY_MODEL_39169b1bbdc3470bb09ee2a525f482df",
            "_dom_classes": [],
            "description": "",
            "_model_name": "HTMLModel",
            "placeholder": "​",
            "_view_module": "@jupyter-widgets/controls",
            "_model_module_version": "1.5.0",
            "value": " 1.36M/1.36M [00:01&lt;00:00, 1.17MB/s]",
            "_view_count": null,
            "_view_module_version": "1.5.0",
            "description_tooltip": null,
            "_model_module": "@jupyter-widgets/controls",
            "layout": "IPY_MODEL_10d7db42561e4fc883be613d9e851cfc"
          }
        },
        "7c5f074fcdac4724b15948b3d532a767": {
          "model_module": "@jupyter-widgets/controls",
          "model_name": "DescriptionStyleModel",
          "model_module_version": "1.5.0",
          "state": {
            "_view_name": "StyleView",
            "_model_name": "DescriptionStyleModel",
            "description_width": "",
            "_view_module": "@jupyter-widgets/base",
            "_model_module_version": "1.5.0",
            "_view_count": null,
            "_view_module_version": "1.2.0",
            "_model_module": "@jupyter-widgets/controls"
          }
        },
        "f081245d6ac340aaac4838baf59900b2": {
          "model_module": "@jupyter-widgets/base",
          "model_name": "LayoutModel",
          "model_module_version": "1.2.0",
          "state": {
            "_view_name": "LayoutView",
            "grid_template_rows": null,
            "right": null,
            "justify_content": null,
            "_view_module": "@jupyter-widgets/base",
            "overflow": null,
            "_model_module_version": "1.2.0",
            "_view_count": null,
            "flex_flow": null,
            "width": null,
            "min_width": null,
            "border": null,
            "align_items": null,
            "bottom": null,
            "_model_module": "@jupyter-widgets/base",
            "top": null,
            "grid_column": null,
            "overflow_y": null,
            "overflow_x": null,
            "grid_auto_flow": null,
            "grid_area": null,
            "grid_template_columns": null,
            "flex": null,
            "_model_name": "LayoutModel",
            "justify_items": null,
            "grid_row": null,
            "max_height": null,
            "align_content": null,
            "visibility": null,
            "align_self": null,
            "height": null,
            "min_height": null,
            "padding": null,
            "grid_auto_rows": null,
            "grid_gap": null,
            "max_width": null,
            "order": null,
            "_view_module_version": "1.2.0",
            "grid_template_areas": null,
            "object_position": null,
            "object_fit": null,
            "grid_auto_columns": null,
            "margin": null,
            "display": null,
            "left": null
          }
        },
        "89cfbb349401445b853735735efb6351": {
          "model_module": "@jupyter-widgets/controls",
          "model_name": "ProgressStyleModel",
          "model_module_version": "1.5.0",
          "state": {
            "_view_name": "StyleView",
            "_model_name": "ProgressStyleModel",
            "description_width": "",
            "_view_module": "@jupyter-widgets/base",
            "_model_module_version": "1.5.0",
            "_view_count": null,
            "_view_module_version": "1.2.0",
            "bar_color": null,
            "_model_module": "@jupyter-widgets/controls"
          }
        },
        "6289ea7163dd42d792b22ba3cfddd4f8": {
          "model_module": "@jupyter-widgets/base",
          "model_name": "LayoutModel",
          "model_module_version": "1.2.0",
          "state": {
            "_view_name": "LayoutView",
            "grid_template_rows": null,
            "right": null,
            "justify_content": null,
            "_view_module": "@jupyter-widgets/base",
            "overflow": null,
            "_model_module_version": "1.2.0",
            "_view_count": null,
            "flex_flow": null,
            "width": null,
            "min_width": null,
            "border": null,
            "align_items": null,
            "bottom": null,
            "_model_module": "@jupyter-widgets/base",
            "top": null,
            "grid_column": null,
            "overflow_y": null,
            "overflow_x": null,
            "grid_auto_flow": null,
            "grid_area": null,
            "grid_template_columns": null,
            "flex": null,
            "_model_name": "LayoutModel",
            "justify_items": null,
            "grid_row": null,
            "max_height": null,
            "align_content": null,
            "visibility": null,
            "align_self": null,
            "height": null,
            "min_height": null,
            "padding": null,
            "grid_auto_rows": null,
            "grid_gap": null,
            "max_width": null,
            "order": null,
            "_view_module_version": "1.2.0",
            "grid_template_areas": null,
            "object_position": null,
            "object_fit": null,
            "grid_auto_columns": null,
            "margin": null,
            "display": null,
            "left": null
          }
        },
        "39169b1bbdc3470bb09ee2a525f482df": {
          "model_module": "@jupyter-widgets/controls",
          "model_name": "DescriptionStyleModel",
          "model_module_version": "1.5.0",
          "state": {
            "_view_name": "StyleView",
            "_model_name": "DescriptionStyleModel",
            "description_width": "",
            "_view_module": "@jupyter-widgets/base",
            "_model_module_version": "1.5.0",
            "_view_count": null,
            "_view_module_version": "1.2.0",
            "_model_module": "@jupyter-widgets/controls"
          }
        },
        "10d7db42561e4fc883be613d9e851cfc": {
          "model_module": "@jupyter-widgets/base",
          "model_name": "LayoutModel",
          "model_module_version": "1.2.0",
          "state": {
            "_view_name": "LayoutView",
            "grid_template_rows": null,
            "right": null,
            "justify_content": null,
            "_view_module": "@jupyter-widgets/base",
            "overflow": null,
            "_model_module_version": "1.2.0",
            "_view_count": null,
            "flex_flow": null,
            "width": null,
            "min_width": null,
            "border": null,
            "align_items": null,
            "bottom": null,
            "_model_module": "@jupyter-widgets/base",
            "top": null,
            "grid_column": null,
            "overflow_y": null,
            "overflow_x": null,
            "grid_auto_flow": null,
            "grid_area": null,
            "grid_template_columns": null,
            "flex": null,
            "_model_name": "LayoutModel",
            "justify_items": null,
            "grid_row": null,
            "max_height": null,
            "align_content": null,
            "visibility": null,
            "align_self": null,
            "height": null,
            "min_height": null,
            "padding": null,
            "grid_auto_rows": null,
            "grid_gap": null,
            "max_width": null,
            "order": null,
            "_view_module_version": "1.2.0",
            "grid_template_areas": null,
            "object_position": null,
            "object_fit": null,
            "grid_auto_columns": null,
            "margin": null,
            "display": null,
            "left": null
          }
        }
      }
    }
  },
  "cells": [
    {
      "cell_type": "markdown",
      "metadata": {
        "id": "4k8XVPSZfyoE"
      },
      "source": [
        "# Category classification DBPedia using RoBerta"
      ]
    },
    {
      "cell_type": "code",
      "metadata": {
        "colab": {
          "base_uri": "https://localhost:8080/"
        },
        "id": "KbVi3wUdv9jE",
        "outputId": "685e8eaf-1b60-4120-bd9a-76adf5793d81"
      },
      "source": [
        "pip install scikit-learn==0.19.1"
      ],
      "execution_count": null,
      "outputs": [
        {
          "output_type": "stream",
          "name": "stdout",
          "text": [
            "Collecting scikit-learn==0.19.1\n",
            "  Downloading scikit-learn-0.19.1.tar.gz (9.5 MB)\n",
            "\u001b[K     |████████████████████████████████| 9.5 MB 4.1 MB/s \n",
            "\u001b[?25hBuilding wheels for collected packages: scikit-learn\n",
            "  Building wheel for scikit-learn (setup.py) ... \u001b[?25lerror\n",
            "\u001b[31m  ERROR: Failed building wheel for scikit-learn\u001b[0m\n",
            "\u001b[?25h  Running setup.py clean for scikit-learn\n",
            "Failed to build scikit-learn\n",
            "Installing collected packages: scikit-learn\n",
            "  Attempting uninstall: scikit-learn\n",
            "    Found existing installation: scikit-learn 0.22.2.post1\n",
            "    Uninstalling scikit-learn-0.22.2.post1:\n",
            "      Successfully uninstalled scikit-learn-0.22.2.post1\n",
            "    Running setup.py install for scikit-learn ... \u001b[?25l\u001b[?25herror\n",
            "  Rolling back uninstall of scikit-learn\n",
            "  Moving to /usr/local/lib/python3.7/dist-packages/scikit_learn-0.22.2.post1.dist-info/\n",
            "   from /usr/local/lib/python3.7/dist-packages/~cikit_learn-0.22.2.post1.dist-info\n",
            "  Moving to /usr/local/lib/python3.7/dist-packages/sklearn/\n",
            "   from /usr/local/lib/python3.7/dist-packages/~klearn\n",
            "\u001b[31mERROR: Command errored out with exit status 1: /usr/bin/python3 -u -c 'import io, os, sys, setuptools, tokenize; sys.argv[0] = '\"'\"'/tmp/pip-install-rpb3z7qa/scikit-learn_be750f3c71654193b9671158179c7047/setup.py'\"'\"'; __file__='\"'\"'/tmp/pip-install-rpb3z7qa/scikit-learn_be750f3c71654193b9671158179c7047/setup.py'\"'\"';f = getattr(tokenize, '\"'\"'open'\"'\"', open)(__file__) if os.path.exists(__file__) else io.StringIO('\"'\"'from setuptools import setup; setup()'\"'\"');code = f.read().replace('\"'\"'\\r\\n'\"'\"', '\"'\"'\\n'\"'\"');f.close();exec(compile(code, __file__, '\"'\"'exec'\"'\"'))' install --record /tmp/pip-record-f3bg1r1a/install-record.txt --single-version-externally-managed --compile --install-headers /usr/local/include/python3.7/scikit-learn Check the logs for full command output.\u001b[0m\n"
          ]
        }
      ]
    },
    {
      "cell_type": "code",
      "metadata": {
        "colab": {
          "base_uri": "https://localhost:8080/"
        },
        "id": "OHWQbC9wGI87",
        "outputId": "7f99e61f-0a12-4288-8bc6-9ef91f6a0e88"
      },
      "source": [
        "!pip install transformers"
      ],
      "execution_count": null,
      "outputs": [
        {
          "output_type": "stream",
          "name": "stdout",
          "text": [
            "Collecting transformers\n",
            "  Downloading transformers-4.10.3-py3-none-any.whl (2.8 MB)\n",
            "\u001b[K     |████████████████████████████████| 2.8 MB 3.9 MB/s \n",
            "\u001b[?25hCollecting pyyaml>=5.1\n",
            "  Downloading PyYAML-5.4.1-cp37-cp37m-manylinux1_x86_64.whl (636 kB)\n",
            "\u001b[K     |████████████████████████████████| 636 kB 50.7 MB/s \n",
            "\u001b[?25hRequirement already satisfied: numpy>=1.17 in /usr/local/lib/python3.7/dist-packages (from transformers) (1.19.5)\n",
            "Collecting tokenizers<0.11,>=0.10.1\n",
            "  Downloading tokenizers-0.10.3-cp37-cp37m-manylinux_2_5_x86_64.manylinux1_x86_64.manylinux_2_12_x86_64.manylinux2010_x86_64.whl (3.3 MB)\n",
            "\u001b[K     |████████████████████████████████| 3.3 MB 33.1 MB/s \n",
            "\u001b[?25hCollecting sacremoses\n",
            "  Downloading sacremoses-0.0.45-py3-none-any.whl (895 kB)\n",
            "\u001b[K     |████████████████████████████████| 895 kB 55.2 MB/s \n",
            "\u001b[?25hRequirement already satisfied: importlib-metadata in /usr/local/lib/python3.7/dist-packages (from transformers) (4.8.1)\n",
            "Requirement already satisfied: packaging in /usr/local/lib/python3.7/dist-packages (from transformers) (21.0)\n",
            "Collecting huggingface-hub>=0.0.12\n",
            "  Downloading huggingface_hub-0.0.17-py3-none-any.whl (52 kB)\n",
            "\u001b[K     |████████████████████████████████| 52 kB 1.6 MB/s \n",
            "\u001b[?25hRequirement already satisfied: regex!=2019.12.17 in /usr/local/lib/python3.7/dist-packages (from transformers) (2019.12.20)\n",
            "Requirement already satisfied: requests in /usr/local/lib/python3.7/dist-packages (from transformers) (2.23.0)\n",
            "Requirement already satisfied: tqdm>=4.27 in /usr/local/lib/python3.7/dist-packages (from transformers) (4.62.2)\n",
            "Requirement already satisfied: filelock in /usr/local/lib/python3.7/dist-packages (from transformers) (3.0.12)\n",
            "Requirement already satisfied: typing-extensions in /usr/local/lib/python3.7/dist-packages (from huggingface-hub>=0.0.12->transformers) (3.7.4.3)\n",
            "Requirement already satisfied: pyparsing>=2.0.2 in /usr/local/lib/python3.7/dist-packages (from packaging->transformers) (2.4.7)\n",
            "Requirement already satisfied: zipp>=0.5 in /usr/local/lib/python3.7/dist-packages (from importlib-metadata->transformers) (3.5.0)\n",
            "Requirement already satisfied: idna<3,>=2.5 in /usr/local/lib/python3.7/dist-packages (from requests->transformers) (2.10)\n",
            "Requirement already satisfied: urllib3!=1.25.0,!=1.25.1,<1.26,>=1.21.1 in /usr/local/lib/python3.7/dist-packages (from requests->transformers) (1.24.3)\n",
            "Requirement already satisfied: chardet<4,>=3.0.2 in /usr/local/lib/python3.7/dist-packages (from requests->transformers) (3.0.4)\n",
            "Requirement already satisfied: certifi>=2017.4.17 in /usr/local/lib/python3.7/dist-packages (from requests->transformers) (2021.5.30)\n",
            "Requirement already satisfied: joblib in /usr/local/lib/python3.7/dist-packages (from sacremoses->transformers) (1.0.1)\n",
            "Requirement already satisfied: click in /usr/local/lib/python3.7/dist-packages (from sacremoses->transformers) (7.1.2)\n",
            "Requirement already satisfied: six in /usr/local/lib/python3.7/dist-packages (from sacremoses->transformers) (1.15.0)\n",
            "Installing collected packages: tokenizers, sacremoses, pyyaml, huggingface-hub, transformers\n",
            "  Attempting uninstall: pyyaml\n",
            "    Found existing installation: PyYAML 3.13\n",
            "    Uninstalling PyYAML-3.13:\n",
            "      Successfully uninstalled PyYAML-3.13\n",
            "Successfully installed huggingface-hub-0.0.17 pyyaml-5.4.1 sacremoses-0.0.45 tokenizers-0.10.3 transformers-4.10.3\n"
          ]
        }
      ]
    },
    {
      "cell_type": "code",
      "metadata": {
        "id": "Fr7AihO1F1H1"
      },
      "source": [
        "import pandas as pd\n",
        "import tensorflow as tf\n",
        "import numpy as np\n",
        "from sklearn.model_selection import train_test_split\n",
        "#import transformers\n",
        "#from transformers import TFRobertaForSequenceClassification, RobertaTokenizer, RobertaConfig"
      ],
      "execution_count": null,
      "outputs": []
    },
    {
      "cell_type": "code",
      "metadata": {
        "id": "hL4iXBaFQWcW"
      },
      "source": [
        "#read training data (old and new) from SMART Task\n",
        "url = 'https://raw.githubusercontent.com/smart-task/smart-dataset/master/datasets/DBpedia/smarttask_dbpedia_train.json'\n",
        "\n",
        "df1 = pd.read_json(url)\n",
        "\n",
        "url1 = 'https://raw.githubusercontent.com/smart-task/smart-2021-dataset/main/smart2021-AT_Answer_Type_Prediction/dbpedia/task1_dbpedia_train.json'\n",
        "\n",
        "df2 = pd.read_json(url1)"
      ],
      "execution_count": null,
      "outputs": []
    },
    {
      "cell_type": "code",
      "metadata": {
        "id": "oW7y_7LVDozf",
        "colab": {
          "base_uri": "https://localhost:8080/",
          "height": 494
        },
        "outputId": "47e47af4-8dbc-40da-dc32-30512aed1a78"
      },
      "source": [
        "#combine old and new data\n",
        "print(len(df1))\n",
        "print(len(df2))\n",
        "df = df1.append(df2)\n",
        "print(len(df))\n",
        "#drop duplicates and empty rows or values\n",
        "df = df.drop_duplicates(subset=['question'])\n",
        "print(len(df))\n",
        "#drop rows containing null values\n",
        "df.dropna()\n",
        "nan_value = float(\"NaN\")\n",
        "df.replace(\"\", nan_value, inplace=True)\n",
        "df.dropna(subset = [\"question\"], inplace=True)\n",
        "df = df.reset_index(drop=True)\n",
        "print(len(df))\n",
        "df"
      ],
      "execution_count": null,
      "outputs": [
        {
          "output_type": "stream",
          "name": "stdout",
          "text": [
            "17571\n",
            "36670\n",
            "54241\n",
            "39509\n",
            "39508\n"
          ]
        },
        {
          "output_type": "execute_result",
          "data": {
            "text/html": [
              "<div>\n",
              "<style scoped>\n",
              "    .dataframe tbody tr th:only-of-type {\n",
              "        vertical-align: middle;\n",
              "    }\n",
              "\n",
              "    .dataframe tbody tr th {\n",
              "        vertical-align: top;\n",
              "    }\n",
              "\n",
              "    .dataframe thead th {\n",
              "        text-align: right;\n",
              "    }\n",
              "</style>\n",
              "<table border=\"1\" class=\"dataframe\">\n",
              "  <thead>\n",
              "    <tr style=\"text-align: right;\">\n",
              "      <th></th>\n",
              "      <th>id</th>\n",
              "      <th>question</th>\n",
              "      <th>category</th>\n",
              "      <th>type</th>\n",
              "    </tr>\n",
              "  </thead>\n",
              "  <tbody>\n",
              "    <tr>\n",
              "      <th>0</th>\n",
              "      <td>dbpedia_1177</td>\n",
              "      <td>Was Jacqueline Kennedy Onassis a follower of M...</td>\n",
              "      <td>boolean</td>\n",
              "      <td>[boolean]</td>\n",
              "    </tr>\n",
              "    <tr>\n",
              "      <th>1</th>\n",
              "      <td>dbpedia_14427</td>\n",
              "      <td>What is the name of the opera based on Twelfth...</td>\n",
              "      <td>resource</td>\n",
              "      <td>[dbo:Opera, dbo:MusicalWork, dbo:Work]</td>\n",
              "    </tr>\n",
              "    <tr>\n",
              "      <th>2</th>\n",
              "      <td>dbpedia_16615</td>\n",
              "      <td>When did Lena Horne receive the Grammy Award f...</td>\n",
              "      <td>literal</td>\n",
              "      <td>[date]</td>\n",
              "    </tr>\n",
              "    <tr>\n",
              "      <th>3</th>\n",
              "      <td>dbpedia_23480</td>\n",
              "      <td>Do Prince Harry and Prince William have the sa...</td>\n",
              "      <td>boolean</td>\n",
              "      <td>[boolean]</td>\n",
              "    </tr>\n",
              "    <tr>\n",
              "      <th>4</th>\n",
              "      <td>dbpedia_3681</td>\n",
              "      <td>What is the subsidiary company working for Leo...</td>\n",
              "      <td>resource</td>\n",
              "      <td>[dbo:EducationalInstitution, dbo:Organisation,...</td>\n",
              "    </tr>\n",
              "    <tr>\n",
              "      <th>...</th>\n",
              "      <td>...</td>\n",
              "      <td>...</td>\n",
              "      <td>...</td>\n",
              "      <td>...</td>\n",
              "    </tr>\n",
              "    <tr>\n",
              "      <th>39503</th>\n",
              "      <td>50708</td>\n",
              "      <td>what kinds of music is played by season's end</td>\n",
              "      <td>resource</td>\n",
              "      <td>[dbo:Genre, dbo:TopicalConcept, dbo:MusicGenre]</td>\n",
              "    </tr>\n",
              "    <tr>\n",
              "      <th>39504</th>\n",
              "      <td>50709</td>\n",
              "      <td>which asteroid group is 6753 fursenko a member...</td>\n",
              "      <td>resource</td>\n",
              "      <td>[dbo:Album]</td>\n",
              "    </tr>\n",
              "    <tr>\n",
              "      <th>39505</th>\n",
              "      <td>50710</td>\n",
              "      <td>What language is azhakiya ravanan filmed in?</td>\n",
              "      <td>resource</td>\n",
              "      <td>[dbo:Language]</td>\n",
              "    </tr>\n",
              "    <tr>\n",
              "      <th>39506</th>\n",
              "      <td>50712</td>\n",
              "      <td>which position did herby fortunat play in foot...</td>\n",
              "      <td>resource</td>\n",
              "      <td>[dbo:Person]</td>\n",
              "    </tr>\n",
              "    <tr>\n",
              "      <th>39507</th>\n",
              "      <td>50713</td>\n",
              "      <td>who is a person that was born in sao paulo</td>\n",
              "      <td>resource</td>\n",
              "      <td>[dbo:Person, dbo:Artist, dbo:MusicalArtist, db...</td>\n",
              "    </tr>\n",
              "  </tbody>\n",
              "</table>\n",
              "<p>39508 rows × 4 columns</p>\n",
              "</div>"
            ],
            "text/plain": [
              "                  id  ...                                               type\n",
              "0       dbpedia_1177  ...                                          [boolean]\n",
              "1      dbpedia_14427  ...             [dbo:Opera, dbo:MusicalWork, dbo:Work]\n",
              "2      dbpedia_16615  ...                                             [date]\n",
              "3      dbpedia_23480  ...                                          [boolean]\n",
              "4       dbpedia_3681  ...  [dbo:EducationalInstitution, dbo:Organisation,...\n",
              "...              ...  ...                                                ...\n",
              "39503          50708  ...    [dbo:Genre, dbo:TopicalConcept, dbo:MusicGenre]\n",
              "39504          50709  ...                                        [dbo:Album]\n",
              "39505          50710  ...                                     [dbo:Language]\n",
              "39506          50712  ...                                       [dbo:Person]\n",
              "39507          50713  ...  [dbo:Person, dbo:Artist, dbo:MusicalArtist, db...\n",
              "\n",
              "[39508 rows x 4 columns]"
            ]
          },
          "metadata": {},
          "execution_count": 4
        }
      ]
    },
    {
      "cell_type": "code",
      "metadata": {
        "colab": {
          "base_uri": "https://localhost:8080/"
        },
        "id": "T15VsFh7_GXM",
        "outputId": "6a5e9a79-4191-4924-be6b-41cb072e5de6"
      },
      "source": [
        "df.loc[1]"
      ],
      "execution_count": null,
      "outputs": [
        {
          "output_type": "execute_result",
          "data": {
            "text/plain": [
              "id                                              dbpedia_14427\n",
              "question    What is the name of the opera based on Twelfth...\n",
              "category                                             resource\n",
              "type                   [dbo:Opera, dbo:MusicalWork, dbo:Work]\n",
              "Name: 1, dtype: object"
            ]
          },
          "metadata": {},
          "execution_count": 6
        }
      ]
    },
    {
      "cell_type": "code",
      "metadata": {
        "id": "DlhzSGe-Pnof"
      },
      "source": [
        "#concatenate to flatten category into 5 types\n",
        "df.loc[df['category'].map(str) == 'literal', 'cat'] = df['category'].map(str) + df['type'].map(str)\n",
        "df.loc[df['category'].map(str) != 'literal', 'cat'] = df['category'].map(str)"
      ],
      "execution_count": null,
      "outputs": []
    },
    {
      "cell_type": "code",
      "metadata": {
        "id": "OADN2NdsmocX"
      },
      "source": [
        "#split training and testing data\n",
        "quest_train, quest_valid = np.split(df['question'], [int(.8*len(df))])\n",
        "ans_cat_train, ans_cat_valid = np.split(df['cat'], [int(.8*len(df))])\n",
        "ans_typ_train, ans_typ_valid = np.split(df['type'], [int(.8*len(df))])"
      ],
      "execution_count": null,
      "outputs": []
    },
    {
      "cell_type": "code",
      "metadata": {
        "colab": {
          "base_uri": "https://localhost:8080/"
        },
        "id": "ZeC1JXOCjFyj",
        "outputId": "8b07eb8c-7474-46b3-a998-119db539890e"
      },
      "source": [
        "print(quest_train.shape,\n",
        "quest_valid.shape)"
      ],
      "execution_count": null,
      "outputs": [
        {
          "output_type": "stream",
          "name": "stdout",
          "text": [
            "(31905,) (7977,)\n"
          ]
        }
      ]
    },
    {
      "cell_type": "code",
      "metadata": {
        "colab": {
          "base_uri": "https://localhost:8080/",
          "height": 267,
          "referenced_widgets": [
            "ba91be23a04b4e69841c7dcb7e3b826c",
            "e071dd5bfcc947ad860749be02c75878",
            "5c2eb8364a264e82aec589b2bd44db21",
            "8598507b16bc4285afefdacd14e40679",
            "4fbac1bbe68e4dc7a5a9f1d6459208fe",
            "815b916a0cea47f7aa4cd42401df014a",
            "f5ae72ae033e4b619312e6d54c103bef",
            "375c6b98753a4c8c952a31d40c143d0a",
            "f384efa076bd41af98de379de1552b0c",
            "543c6afe9b074948aa0b96f378843fd4",
            "daf1686349f04b03847c2ba144e7412c",
            "207f5e1309ff41e68893d7a00a2f1198",
            "a9777dccd39a4414a27ffe864f813c45",
            "9310c2a15c2149559ecc1cfe31bfbde9",
            "677c54e9ec5043d7b8e18fecacd8cfe9",
            "8e184319b5964399b78925dc46186494",
            "d577731937fa4e8b8a99c28102380eab",
            "ec4ee40e563d49a8a78f0a1232c3a682",
            "3509f9303f9a430287566f879555322c",
            "59ba8e0d563e47a88466559e070047d1",
            "49c460b544e648639f7fc0553bf47810",
            "29f6e2d3db7d405b9e104f95a273360a",
            "6dc348621589420293047df01f7e2d53",
            "46efd00d5b994b2ea878be2e192120ce",
            "63142d10c4cb4ef8ae9c6eeb318d73f6",
            "fd1dee89348d41699fbd7f7cb7907794",
            "f05d832298994e309bd8f6750e266730",
            "6e397e9bbc344aa5a746163f1a489269",
            "3cc3b3f1b629487e9b0ab5eaeed839fd",
            "1a990437cadb4428b6fb113b62d51b60",
            "36a6ce96b13f47f99fa24c8757af8563",
            "ce7a8f43256b405c9ebf66253f98e563",
            "7a581160174c43a9a24e3b97d7851bea",
            "3d47bfc2b3374bbdb19274ddf93a5bc2",
            "c9721b9f01784b98b6cf92f41479e807",
            "c16d22da5c87446697729cf77b77ad92",
            "25b8f43d17f94612bb32d630628b942f",
            "a635367eec124f809fc51d0cd1e25e66",
            "78f723e99cc9499285e69e3f90a2e9cc",
            "c42b8984bd84486c8307b150e7bd52d5",
            "c0680577d4a64b2d8fab717624f83194",
            "6141ddf102c648babe04e9bd1ce89cb4",
            "082dd9b3d7bc4705b74488cce5b89183",
            "23c9a27e03b4484cacdd02d41e9f0b76",
            "1abef58d51cb4d8c9a52d13f25f02455",
            "f4ecf3fac91142e0964a57f925191436",
            "f258d37824f342dfa4e1eac7dd957d22",
            "2901936e946f4e1e8ecdc2b269c274b0",
            "3d09e8a0aa544ef28f478b891307fb77",
            "7c5f074fcdac4724b15948b3d532a767",
            "f081245d6ac340aaac4838baf59900b2",
            "89cfbb349401445b853735735efb6351",
            "6289ea7163dd42d792b22ba3cfddd4f8",
            "39169b1bbdc3470bb09ee2a525f482df",
            "10d7db42561e4fc883be613d9e851cfc"
          ]
        },
        "id": "yEfRUrk6_R-c",
        "outputId": "5d78fd33-2319-4cdd-c5ce-ed8e0e0a0781"
      },
      "source": [
        "#load pretrained Roberta models\n",
        "\n",
        "bert = TFRobertaForSequenceClassification.from_pretrained('roberta-base', num_labels=5)\n",
        "\n",
        "tokenizer = RobertaTokenizer.from_pretrained('roberta-base')"
      ],
      "execution_count": null,
      "outputs": [
        {
          "output_type": "display_data",
          "data": {
            "application/vnd.jupyter.widget-view+json": {
              "model_id": "ba91be23a04b4e69841c7dcb7e3b826c",
              "version_minor": 0,
              "version_major": 2
            },
            "text/plain": [
              "Downloading:   0%|          | 0.00/481 [00:00<?, ?B/s]"
            ]
          },
          "metadata": {}
        },
        {
          "output_type": "display_data",
          "data": {
            "application/vnd.jupyter.widget-view+json": {
              "model_id": "207f5e1309ff41e68893d7a00a2f1198",
              "version_minor": 0,
              "version_major": 2
            },
            "text/plain": [
              "Downloading:   0%|          | 0.00/657M [00:00<?, ?B/s]"
            ]
          },
          "metadata": {}
        },
        {
          "output_type": "stream",
          "name": "stderr",
          "text": [
            "All model checkpoint layers were used when initializing TFRobertaForSequenceClassification.\n",
            "\n",
            "Some layers of TFRobertaForSequenceClassification were not initialized from the model checkpoint at roberta-base and are newly initialized: ['classifier']\n",
            "You should probably TRAIN this model on a down-stream task to be able to use it for predictions and inference.\n"
          ]
        },
        {
          "output_type": "display_data",
          "data": {
            "application/vnd.jupyter.widget-view+json": {
              "model_id": "6dc348621589420293047df01f7e2d53",
              "version_minor": 0,
              "version_major": 2
            },
            "text/plain": [
              "Downloading:   0%|          | 0.00/899k [00:00<?, ?B/s]"
            ]
          },
          "metadata": {}
        },
        {
          "output_type": "display_data",
          "data": {
            "application/vnd.jupyter.widget-view+json": {
              "model_id": "3d47bfc2b3374bbdb19274ddf93a5bc2",
              "version_minor": 0,
              "version_major": 2
            },
            "text/plain": [
              "Downloading:   0%|          | 0.00/456k [00:00<?, ?B/s]"
            ]
          },
          "metadata": {}
        },
        {
          "output_type": "display_data",
          "data": {
            "application/vnd.jupyter.widget-view+json": {
              "model_id": "1abef58d51cb4d8c9a52d13f25f02455",
              "version_minor": 0,
              "version_major": 2
            },
            "text/plain": [
              "Downloading:   0%|          | 0.00/1.36M [00:00<?, ?B/s]"
            ]
          },
          "metadata": {}
        }
      ]
    },
    {
      "cell_type": "code",
      "metadata": {
        "id": "9iXeJ_i82Yxp"
      },
      "source": [
        "#preprocessing\n",
        "question = df['question'].astype(str).values.tolist()\n",
        "\n",
        "category = df['cat'].values.tolist()"
      ],
      "execution_count": null,
      "outputs": []
    },
    {
      "cell_type": "code",
      "metadata": {
        "id": "WbI0uXsSIHWb"
      },
      "source": [
        "#preprocessing - tokenize, add CLS, SEP and PAD\n",
        "input_ids=[]\n",
        "attention_masks=[]\n",
        "\n",
        "bert_inp = tokenizer.batch_encode_plus(question, add_special_tokens=True, max_length=64, padding=True, return_attention_mask = True)\n",
        "\n",
        "input_ids.append(bert_inp['input_ids'])\n",
        "attention_masks.append(bert_inp['attention_mask'])\n",
        "\n",
        "input_ids=np.asarray(input_ids)\n",
        "attention_masks=np.array(attention_masks)\n",
        "labels=np.array(category)"
      ],
      "execution_count": null,
      "outputs": []
    },
    {
      "cell_type": "code",
      "metadata": {
        "colab": {
          "base_uri": "https://localhost:8080/",
          "height": 139
        },
        "id": "EB_TQPhjSX9g",
        "outputId": "34fc6f2e-7755-48f4-cd3b-34460047c5c7"
      },
      "source": [
        "#decoder\n",
        "tokenizer.decode(bert_inp['input_ids'][1])"
      ],
      "execution_count": null,
      "outputs": [
        {
          "output_type": "execute_result",
          "data": {
            "application/vnd.google.colaboratory.intrinsic+json": {
              "type": "string"
            },
            "text/plain": [
              "'<s>What is the name of the opera based on Twelfth Night?</s><pad><pad><pad><pad><pad><pad><pad><pad><pad><pad><pad><pad><pad><pad><pad><pad><pad><pad><pad><pad><pad><pad><pad><pad><pad><pad><pad><pad><pad><pad><pad><pad><pad><pad><pad><pad><pad><pad><pad><pad><pad><pad><pad><pad><pad><pad><pad><pad><pad><pad><pad><pad><pad><pad><pad><pad><pad><pad><pad><pad><pad><pad><pad><pad><pad><pad><pad><pad><pad><pad><pad><pad><pad><pad><pad><pad><pad><pad><pad><pad><pad><pad><pad><pad><pad><pad><pad><pad><pad><pad><pad><pad><pad><pad><pad><pad><pad><pad><pad><pad><pad><pad><pad><pad><pad><pad><pad><pad><pad><pad><pad><pad><pad><pad><pad><pad><pad><pad><pad><pad><pad><pad><pad><pad><pad><pad><pad><pad><pad><pad><pad><pad><pad><pad><pad><pad><pad><pad><pad><pad><pad><pad><pad><pad><pad><pad><pad><pad><pad><pad><pad><pad><pad><pad><pad><pad><pad><pad><pad><pad><pad><pad><pad><pad><pad><pad><pad><pad><pad><pad><pad>'"
            ]
          },
          "metadata": {},
          "execution_count": 12
        }
      ]
    },
    {
      "cell_type": "code",
      "metadata": {
        "colab": {
          "base_uri": "https://localhost:8080/"
        },
        "id": "qq4zPLlY6mYn",
        "outputId": "27e90350-4cd9-4686-850d-45637e1d2b97"
      },
      "source": [
        "#one hot encoding\n",
        "from numpy import array\n",
        "from numpy import argmax\n",
        "from tensorflow.keras.utils import to_categorical\n",
        "# define example\n",
        "data = array(category)\n",
        "convert_data = []\n",
        "# manual change values to integer\n",
        "for d in data:\n",
        "    if d == \"resource\":\n",
        "        convert_data.append(0)\n",
        "    elif d == \"literal['number']\":\n",
        "        convert_data.append(1)\n",
        "    elif d == \"literal['string']\":\n",
        "        convert_data.append(2)\n",
        "    elif d == \"literal['date']\":\n",
        "        convert_data.append(3)        \n",
        "    else:\n",
        "        convert_data.append(4)\n",
        "print(convert_data)\n",
        "# one hot encode\n",
        "encoded = to_categorical(convert_data)\n",
        "print(encoded)\n",
        "# invert encoding\n",
        "inverted = argmax(encoded[0])\n",
        "print(inverted)"
      ],
      "execution_count": null,
      "outputs": [
        {
          "output_type": "stream",
          "name": "stdout",
          "text": [
            "[4, 0, 3, 4, 0, 2, 0, 4, 2, 0, 1, 0, 0, 4, 0, 0, 0, 0, 3, 0, 0, 4, 3, 0, 0, 0, 0, 3, 0, 3, 1, 0, 4, 1, 0, 0, 4, 0, 0, 0, 0, 2, 0, 3, 4, 3, 1, 0, 3, 0, 0, 1, 0, 2, 0, 0, 2, 0, 0, 0, 0, 0, 4, 1, 0, 3, 3, 2, 0, 0, 1, 0, 2, 0, 0, 0, 4, 3, 0, 4, 4, 4, 0, 4, 0, 0, 2, 0, 0, 4, 0, 0, 2, 0, 3, 0, 4, 0, 2, 0, 0, 0, 0, 0, 0, 4, 0, 4, 3, 3, 1, 2, 0, 3, 4, 1, 0, 2, 0, 0, 2, 0, 0, 0, 0, 0, 3, 2, 1, 0, 4, 1, 1, 0, 0, 0, 0, 0, 3, 0, 0, 0, 2, 0, 0, 1, 0, 0, 0, 1, 0, 4, 0, 3, 0, 1, 2, 0, 0, 4, 1, 0, 0, 4, 0, 0, 1, 3, 1, 0, 0, 0, 4, 0, 0, 3, 2, 3, 0, 0, 4, 0, 3, 0, 4, 2, 0, 0, 0, 0, 1, 0, 0, 4, 1, 4, 4, 0, 0, 0, 0, 3, 4, 3, 1, 3, 0, 0, 0, 0, 0, 0, 4, 0, 4, 0, 1, 3, 0, 0, 0, 0, 4, 0, 0, 0, 1, 0, 4, 0, 0, 0, 0, 0, 0, 0, 4, 4, 0, 0, 4, 0, 0, 1, 0, 0, 0, 3, 0, 4, 0, 4, 0, 0, 0, 3, 4, 0, 2, 4, 2, 2, 4, 0, 0, 2, 4, 2, 1, 4, 4, 1, 3, 4, 0, 0, 4, 0, 0, 0, 0, 4, 0, 0, 0, 1, 0, 0, 0, 0, 2, 0, 4, 0, 0, 0, 2, 0, 0, 1, 0, 2, 0, 4, 3, 0, 2, 0, 3, 0, 0, 0, 0, 0, 1, 4, 0, 2, 0, 0, 2, 2, 0, 0, 0, 0, 0, 0, 0, 1, 2, 2, 0, 0, 1, 0, 4, 4, 4, 0, 3, 3, 0, 0, 0, 0, 4, 2, 4, 0, 4, 0, 0, 0, 0, 0, 4, 2, 0, 0, 4, 0, 0, 3, 0, 0, 0, 0, 0, 0, 0, 0, 0, 0, 0, 0, 0, 4, 0, 1, 0, 2, 0, 4, 0, 4, 0, 1, 2, 1, 1, 0, 4, 0, 1, 0, 0, 0, 0, 2, 1, 4, 0, 1, 2, 1, 4, 2, 0, 0, 0, 0, 0, 0, 0, 0, 0, 0, 0, 3, 0, 1, 0, 3, 0, 0, 2, 0, 0, 3, 2, 0, 0, 0, 0, 0, 0, 4, 0, 4, 0, 0, 4, 0, 0, 0, 0, 3, 0, 4, 3, 0, 0, 4, 2, 3, 1, 0, 0, 0, 0, 0, 0, 0, 0, 0, 3, 0, 4, 0, 4, 0, 0, 2, 4, 0, 0, 4, 0, 4, 4, 0, 1, 0, 0, 0, 0, 0, 1, 0, 0, 0, 0, 1, 1, 0, 4, 4, 3, 0, 1, 2, 0, 2, 2, 1, 0, 0, 0, 3, 2, 2, 2, 0, 1, 0, 1, 0, 0, 0, 0, 0, 1, 0, 0, 2, 0, 0, 0, 4, 0, 2, 3, 0, 2, 4, 4, 0, 0, 0, 3, 0, 1, 0, 4, 0, 0, 0, 4, 0, 4, 3, 0, 3, 3, 1, 0, 1, 1, 0, 1, 0, 4, 0, 3, 1, 0, 0, 1, 4, 4, 0, 1, 4, 1, 0, 0, 4, 2, 1, 0, 2, 0, 0, 0, 3, 0, 0, 0, 4, 1, 0, 0, 0, 2, 0, 0, 0, 0, 4, 0, 4, 2, 0, 0, 4, 0, 0, 0, 1, 1, 0, 2, 0, 0, 1, 0, 0, 4, 3, 0, 0, 0, 0, 0, 3, 2, 0, 1, 1, 0, 3, 2, 0, 2, 0, 0, 0, 0, 3, 0, 0, 4, 0, 0, 0, 0, 4, 2, 0, 0, 0, 0, 3, 0, 0, 0, 3, 0, 0, 2, 4, 0, 4, 4, 2, 3, 0, 2, 0, 0, 0, 4, 3, 4, 4, 0, 0, 0, 0, 3, 3, 0, 3, 0, 2, 0, 2, 2, 0, 0, 0, 0, 4, 4, 4, 4, 4, 4, 0, 1, 2, 0, 0, 0, 4, 3, 4, 0, 0, 1, 0, 0, 2, 4, 0, 4, 1, 0, 0, 0, 0, 3, 0, 0, 0, 0, 0, 4, 0, 0, 2, 2, 0, 4, 4, 2, 2, 0, 0, 0, 3, 2, 0, 0, 0, 0, 0, 0, 2, 0, 0, 0, 1, 0, 0, 0, 0, 4, 0, 0, 0, 0, 0, 2, 3, 4, 2, 4, 4, 0, 0, 3, 0, 0, 2, 0, 0, 3, 3, 4, 1, 0, 1, 4, 2, 1, 0, 0, 0, 4, 0, 1, 2, 0, 0, 1, 1, 3, 4, 3, 0, 0, 1, 0, 2, 3, 4, 0, 1, 0, 0, 0, 0, 0, 4, 0, 1, 0, 4, 0, 0, 2, 0, 2, 3, 3, 0, 0, 0, 4, 4, 4, 0, 4, 4, 0, 0, 2, 0, 4, 0, 0, 0, 2, 0, 0, 0, 0, 4, 3, 2, 0, 3, 0, 0, 2, 1, 0, 0, 3, 2, 0, 0, 4, 0, 4, 0, 3, 2, 0, 4, 0, 3, 0, 1, 0, 2, 0, 4, 4, 0, 0, 0, 4, 0, 0, 0, 0, 2, 1, 4, 4, 0, 1, 0, 3, 0, 0, 0, 0, 4, 0, 0, 1, 2, 0, 2, 1, 0, 4, 0, 0, 0, 0, 0, 0, 0, 1, 0, 0, 0, 2, 0, 1, 0, 2, 1, 2, 0, 0, 2, 3, 0, 0, 4, 0, 3, 2, 4, 0, 2, 0, 0, 0, 0, 2, 0, 4, 0, 0, 3, 0, 2, 0, 4, 1, 0, 0, 0, 3, 0, 0, 3, 0, 2, 4, 3, 0, 2, 1, 0, 3, 0, 0, 0, 2, 0, 3, 0, 2, 0, 0, 0, 0, 4, 0, 1, 4, 0, 0, 1, 0, 4, 0, 0, 2, 0, 0, 0, 1, 0, 4, 0, 0, 0, 2, 4, 0, 0, 2, 0, 2, 0, 0, 0, 1, 4, 0, 0, 0, 0, 0, 0, 4, 0, 0, 4, 3, 4, 2, 2, 0, 0, 0, 0, 1, 0, 0, 0, 0, 4, 4, 3, 3, 4, 0, 4, 0, 0, 4, 4, 1, 1, 0, 0, 4, 4, 1, 0, 4, 0, 4, 0, 0, 4, 0, 0, 3, 0, 0, 0, 4, 0, 2, 0, 2, 4, 4, 0, 2, 0, 0, 2, 0, 0, 0, 0, 3, 0, 0, 4, 0, 0, 4, 0, 2, 0, 0, 3, 2, 0, 4, 0, 0, 0, 0, 2, 0, 0, 2, 4, 0, 0, 0, 4, 0, 0, 0, 2, 0, 0, 1, 0, 0, 1, 0, 4, 2, 2, 0, 0, 0, 0, 0, 0, 1, 2, 1, 2, 4, 0, 4, 4, 1, 0, 4, 0, 0, 0, 0, 2, 0, 4, 4, 0, 4, 0, 4, 3, 0, 3, 4, 2, 0, 4, 3, 2, 4, 0, 0, 0, 3, 0, 0, 4, 2, 3, 0, 0, 4, 2, 0, 4, 0, 0, 1, 0, 0, 4, 0, 0, 4, 0, 2, 2, 0, 4, 0, 1, 1, 0, 3, 3, 4, 3, 0, 0, 4, 4, 0, 3, 0, 1, 0, 0, 0, 0, 2, 0, 0, 0, 0, 0, 0, 0, 0, 1, 3, 1, 1, 0, 0, 0, 0, 2, 0, 2, 3, 3, 1, 4, 0, 0, 0, 2, 3, 0, 3, 2, 0, 2, 4, 0, 0, 0, 0, 0, 4, 4, 4, 0, 4, 0, 0, 4, 2, 2, 0, 4, 4, 3, 0, 0, 0, 4, 0, 0, 0, 3, 0, 4, 2, 0, 0, 0, 0, 4, 4, 4, 0, 0, 0, 2, 0, 0, 0, 1, 0, 1, 2, 0, 2, 3, 0, 0, 0, 3, 2, 0, 0, 0, 1, 4, 1, 2, 0, 0, 2, 0, 4, 0, 1, 0, 1, 0, 0, 3, 2, 4, 0, 1, 1, 4, 0, 0, 0, 0, 2, 3, 0, 2, 0, 4, 0, 0, 0, 3, 2, 0, 3, 0, 0, 1, 0, 4, 0, 0, 0, 4, 0, 4, 0, 4, 3, 0, 0, 0, 0, 0, 0, 0, 1, 3, 0, 3, 0, 4, 4, 1, 0, 0, 3, 3, 4, 2, 0, 0, 2, 0, 0, 0, 0, 0, 2, 4, 4, 2, 0, 0, 0, 2, 0, 0, 0, 4, 4, 0, 0, 0, 0, 0, 0, 0, 2, 1, 4, 2, 0, 0, 0, 0, 0, 1, 2, 0, 3, 3, 0, 1, 0, 1, 4, 0, 4, 0, 0, 0, 0, 0, 0, 0, 3, 0, 4, 0, 0, 0, 0, 4, 0, 0, 3, 0, 0, 0, 0, 4, 2, 1, 0, 4, 0, 0, 0, 0, 0, 0, 0, 2, 0, 0, 0, 0, 2, 0, 4, 0, 4, 0, 0, 1, 2, 0, 0, 0, 0, 1, 1, 4, 2, 0, 0, 0, 0, 0, 0, 4, 1, 0, 0, 0, 4, 0, 0, 0, 0, 4, 0, 4, 1, 2, 2, 0, 0, 0, 0, 0, 0, 1, 1, 0, 3, 0, 0, 0, 0, 0, 4, 4, 3, 0, 2, 2, 1, 0, 0, 1, 0, 3, 0, 0, 0, 0, 1, 4, 4, 0, 4, 3, 0, 3, 0, 0, 0, 0, 4, 2, 0, 0, 2, 0, 0, 4, 1, 0, 2, 2, 0, 4, 0, 0, 0, 4, 4, 4, 0, 0, 3, 1, 0, 0, 0, 4, 0, 0, 3, 1, 4, 0, 0, 0, 1, 0, 1, 4, 2, 0, 2, 2, 2, 4, 4, 2, 0, 2, 4, 4, 3, 0, 4, 0, 4, 0, 0, 2, 0, 0, 0, 0, 1, 0, 0, 2, 1, 0, 0, 1, 4, 2, 0, 1, 1, 4, 0, 2, 3, 0, 4, 1, 0, 4, 4, 1, 4, 0, 0, 0, 0, 2, 0, 0, 0, 0, 3, 0, 0, 0, 3, 1, 0, 0, 0, 0, 4, 2, 0, 1, 2, 2, 0, 0, 0, 0, 2, 0, 0, 0, 2, 4, 4, 0, 2, 0, 0, 0, 0, 0, 1, 2, 1, 4, 1, 0, 3, 1, 3, 3, 1, 0, 0, 1, 0, 2, 4, 0, 4, 0, 4, 0, 0, 0, 0, 1, 0, 0, 4, 0, 2, 2, 4, 0, 2, 0, 0, 0, 0, 3, 0, 4, 0, 3, 2, 2, 0, 0, 0, 0, 1, 2, 0, 2, 2, 0, 2, 0, 0, 0, 3, 4, 4, 0, 1, 4, 0, 2, 0, 0, 0, 4, 0, 2, 2, 0, 0, 3, 4, 0, 1, 3, 0, 2, 0, 0, 4, 4, 3, 1, 4, 0, 1, 3, 0, 4, 0, 0, 3, 4, 1, 0, 4, 4, 1, 0, 2, 0, 0, 0, 0, 0, 0, 2, 0, 4, 1, 0, 0, 0, 0, 4, 1, 4, 2, 4, 2, 2, 0, 4, 2, 4, 3, 1, 0, 0, 3, 1, 4, 0, 3, 1, 0, 4, 2, 1, 1, 2, 0, 4, 2, 2, 0, 0, 3, 0, 3, 0, 0, 4, 2, 4, 4, 0, 3, 0, 0, 2, 0, 4, 0, 1, 2, 0, 0, 0, 0, 0, 0, 2, 0, 4, 0, 2, 0, 4, 2, 1, 4, 0, 0, 0, 1, 0, 3, 1, 3, 0, 2, 3, 2, 4, 2, 0, 0, 2, 2, 4, 0, 0, 3, 0, 0, 0, 0, 4, 3, 2, 4, 0, 0, 4, 1, 1, 4, 0, 2, 4, 1, 0, 2, 0, 0, 0, 1, 2, 0, 0, 4, 2, 0, 0, 0, 4, 2, 0, 0, 0, 4, 0, 0, 0, 4, 0, 4, 0, 1, 0, 4, 1, 4, 3, 0, 1, 0, 0, 0, 0, 1, 0, 3, 0, 2, 2, 0, 0, 0, 1, 1, 3, 0, 0, 2, 0, 3, 4, 0, 0, 3, 0, 1, 2, 0, 0, 2, 0, 0, 0, 0, 2, 1, 3, 0, 1, 4, 3, 2, 4, 1, 4, 0, 4, 0, 0, 4, 0, 0, 0, 4, 1, 0, 4, 4, 0, 4, 0, 0, 0, 3, 2, 1, 0, 3, 0, 0, 2, 0, 0, 3, 0, 3, 0, 0, 0, 1, 1, 0, 0, 4, 0, 0, 4, 4, 2, 0, 0, 3, 0, 4, 1, 4, 0, 4, 2, 2, 1, 0, 0, 0, 0, 0, 3, 0, 0, 0, 0, 0, 1, 3, 0, 0, 0, 4, 1, 1, 0, 0, 1, 0, 0, 0, 4, 0, 0, 0, 0, 0, 1, 1, 4, 4, 0, 0, 2, 3, 4, 2, 0, 0, 4, 2, 0, 0, 0, 0, 0, 3, 0, 3, 4, 1, 3, 0, 0, 0, 2, 2, 0, 0, 4, 2, 4, 4, 0, 2, 1, 3, 3, 2, 1, 0, 0, 0, 0, 0, 0, 4, 4, 4, 0, 0, 4, 0, 0, 0, 0, 1, 0, 4, 1, 1, 3, 0, 1, 0, 1, 3, 0, 2, 0, 0, 3, 4, 4, 0, 0, 1, 4, 0, 4, 3, 1, 0, 0, 0, 0, 1, 2, 2, 0, 0, 0, 0, 4, 0, 0, 0, 0, 0, 0, 0, 0, 3, 0, 0, 0, 4, 3, 0, 0, 2, 2, 0, 4, 3, 0, 0, 2, 0, 0, 0, 2, 0, 0, 1, 2, 0, 0, 2, 0, 0, 2, 2, 0, 0, 0, 0, 0, 0, 0, 3, 0, 0, 0, 3, 0, 1, 1, 0, 3, 0, 1, 1, 4, 3, 2, 1, 4, 4, 0, 2, 2, 2, 0, 4, 0, 0, 0, 0, 4, 0, 1, 4, 1, 3, 4, 1, 0, 0, 0, 1, 3, 0, 2, 4, 4, 0, 0, 3, 3, 2, 0, 0, 1, 0, 0, 4, 0, 0, 4, 0, 4, 4, 3, 3, 0, 0, 2, 0, 0, 0, 0, 0, 0, 4, 0, 3, 0, 0, 3, 3, 2, 3, 0, 0, 0, 2, 0, 0, 2, 0, 2, 2, 4, 3, 4, 0, 0, 0, 2, 1, 0, 4, 4, 0, 0, 2, 4, 0, 0, 0, 1, 1, 0, 0, 0, 3, 2, 0, 4, 0, 2, 4, 4, 4, 0, 2, 0, 0, 4, 0, 0, 1, 0, 0, 0, 2, 1, 1, 3, 0, 4, 0, 2, 0, 3, 0, 1, 0, 0, 3, 2, 0, 0, 0, 0, 1, 0, 0, 0, 3, 0, 3, 0, 0, 0, 0, 2, 0, 2, 0, 0, 0, 0, 0, 0, 1, 0, 0, 3, 1, 4, 0, 0, 4, 3, 4, 4, 4, 0, 0, 3, 2, 0, 1, 4, 0, 0, 3, 0, 0, 4, 4, 0, 0, 1, 4, 0, 0, 0, 0, 3, 0, 0, 0, 0, 4, 1, 0, 0, 0, 4, 0, 3, 0, 0, 0, 4, 1, 0, 4, 0, 2, 0, 0, 1, 3, 0, 0, 0, 0, 0, 1, 1, 2, 0, 0, 0, 1, 0, 4, 2, 0, 0, 0, 2, 0, 0, 0, 3, 0, 1, 4, 0, 0, 4, 0, 0, 0, 4, 0, 0, 0, 0, 0, 2, 3, 2, 3, 0, 0, 0, 0, 3, 2, 2, 4, 0, 0, 0, 0, 0, 0, 1, 2, 0, 4, 0, 0, 4, 4, 3, 0, 0, 4, 0, 2, 3, 2, 1, 0, 0, 0, 2, 0, 0, 0, 1, 2, 0, 2, 1, 4, 3, 0, 0, 3, 0, 0, 0, 0, 0, 0, 0, 2, 3, 4, 1, 1, 4, 3, 0, 0, 0, 3, 0, 0, 3, 0, 0, 1, 0, 0, 3, 0, 1, 4, 0, 0, 0, 0, 0, 0, 2, 4, 0, 4, 4, 0, 0, 0, 0, 0, 4, 0, 0, 2, 2, 0, 0, 0, 0, 0, 4, 0, 2, 2, 2, 0, 0, 4, 4, 0, 0, 0, 3, 2, 4, 0, 0, 0, 1, 3, 0, 0, 4, 0, 2, 4, 0, 1, 4, 0, 4, 4, 3, 0, 0, 3, 0, 0, 0, 0, 2, 4, 0, 0, 1, 0, 0, 0, 1, 4, 2, 0, 0, 2, 3, 0, 2, 0, 0, 2, 0, 0, 1, 0, 0, 0, 0, 1, 0, 0, 0, 0, 2, 0, 4, 0, 0, 0, 4, 2, 0, 3, 0, 0, 0, 2, 4, 0, 0, 0, 2, 2, 0, 0, 4, 4, 0, 0, 4, 0, 0, 0, 0, 0, 1, 0, 0, 1, 0, 0, 3, 0, 0, 3, 1, 0, 2, 0, 0, 3, 0, 3, 3, 0, 0, 2, 1, 2, 4, 1, 0, 0, 0, 1, 4, 0, 2, 2, 4, 0, 3, 0, 0, 3, 0, 4, 0, 2, 2, 0, 4, 0, 0, 2, 0, 4, 3, 0, 0, 3, 0, 0, 4, 1, 0, 2, 0, 0, 0, 0, 1, 0, 0, 0, 3, 0, 2, 0, 0, 0, 2, 4, 0, 0, 0, 0, 0, 4, 0, 0, 2, 0, 0, 0, 2, 1, 0, 0, 4, 2, 0, 2, 4, 2, 0, 0, 0, 0, 2, 0, 4, 2, 0, 2, 0, 0, 4, 1, 4, 2, 3, 4, 2, 0, 0, 0, 4, 1, 0, 4, 0, 0, 0, 0, 1, 0, 0, 1, 0, 3, 2, 0, 0, 4, 0, 0, 0, 2, 0, 1, 0, 2, 0, 2, 3, 0, 0, 0, 4, 4, 4, 0, 4, 4, 4, 1, 0, 4, 0, 4, 0, 4, 0, 1, 0, 3, 3, 3, 1, 2, 0, 0, 1, 4, 0, 0, 4, 4, 0, 1, 0, 4, 0, 3, 0, 3, 2, 0, 0, 2, 0, 0, 0, 0, 0, 4, 2, 4, 0, 2, 0, 2, 2, 0, 0, 0, 4, 0, 0, 3, 4, 0, 0, 0, 4, 0, 0, 0, 0, 0, 1, 3, 2, 0, 0, 2, 4, 0, 2, 0, 0, 0, 2, 2, 0, 0, 0, 0, 0, 4, 4, 1, 0, 0, 0, 0, 0, 0, 0, 0, 0, 0, 1, 0, 4, 0, 0, 0, 0, 0, 0, 0, 1, 0, 0, 2, 0, 0, 0, 1, 0, 1, 1, 4, 0, 3, 0, 0, 4, 0, 0, 0, 0, 0, 4, 3, 0, 0, 0, 3, 0, 0, 0, 0, 0, 0, 0, 1, 2, 3, 2, 0, 0, 0, 3, 3, 0, 1, 4, 0, 0, 0, 2, 0, 3, 0, 0, 0, 4, 0, 4, 2, 0, 2, 1, 3, 0, 0, 4, 0, 4, 2, 0, 4, 0, 0, 2, 0, 4, 2, 0, 0, 0, 1, 4, 1, 0, 0, 0, 4, 0, 0, 0, 0, 0, 4, 0, 0, 3, 4, 2, 0, 0, 0, 3, 4, 2, 0, 0, 0, 0, 2, 0, 4, 4, 1, 4, 4, 0, 0, 0, 0, 0, 0, 1, 0, 3, 0, 2, 0, 0, 0, 0, 0, 0, 0, 0, 2, 0, 0, 0, 4, 4, 4, 3, 0, 0, 0, 2, 0, 3, 2, 1, 0, 0, 3, 0, 0, 0, 1, 2, 3, 0, 4, 0, 1, 0, 0, 0, 1, 4, 4, 0, 0, 0, 0, 2, 0, 0, 0, 0, 4, 0, 0, 0, 2, 0, 0, 0, 2, 4, 2, 0, 0, 2, 0, 1, 4, 0, 3, 0, 2, 0, 0, 3, 0, 0, 1, 0, 2, 0, 2, 0, 0, 0, 0, 1, 0, 1, 4, 1, 0, 0, 2, 0, 0, 0, 2, 0, 2, 1, 0, 0, 4, 0, 0, 0, 0, 0, 3, 0, 0, 0, 0, 4, 0, 2, 1, 2, 2, 0, 0, 0, 0, 0, 3, 1, 1, 4, 4, 3, 0, 0, 2, 0, 0, 4, 0, 0, 0, 0, 1, 0, 0, 0, 1, 4, 0, 4, 1, 0, 1, 0, 0, 2, 0, 0, 0, 0, 0, 4, 4, 0, 0, 0, 0, 4, 4, 0, 2, 0, 3, 4, 2, 0, 0, 2, 0, 0, 0, 4, 4, 3, 4, 0, 0, 0, 3, 0, 4, 1, 3, 0, 2, 0, 0, 0, 0, 4, 0, 2, 0, 2, 4, 0, 0, 0, 0, 0, 0, 3, 0, 0, 0, 0, 2, 0, 0, 0, 4, 1, 0, 0, 3, 0, 0, 4, 4, 0, 0, 0, 1, 0, 0, 0, 3, 2, 2, 2, 4, 4, 0, 0, 3, 0, 0, 0, 0, 2, 1, 0, 0, 0, 0, 2, 1, 0, 2, 2, 4, 0, 0, 4, 3, 0, 4, 1, 4, 0, 2, 0, 3, 0, 4, 0, 0, 2, 3, 0, 2, 0, 0, 4, 0, 0, 0, 4, 0, 2, 0, 4, 2, 0, 3, 0, 0, 0, 4, 3, 0, 0, 0, 3, 0, 2, 0, 0, 0, 4, 4, 1, 0, 0, 3, 0, 0, 4, 0, 4, 0, 0, 0, 4, 4, 2, 4, 0, 0, 2, 3, 0, 0, 0, 0, 0, 0, 3, 4, 2, 3, 0, 0, 0, 0, 0, 3, 4, 0, 0, 2, 0, 0, 3, 0, 0, 0, 4, 0, 4, 4, 1, 2, 0, 0, 0, 0, 4, 0, 2, 3, 1, 0, 4, 3, 0, 4, 1, 4, 2, 0, 4, 0, 3, 0, 0, 0, 2, 3, 3, 3, 0, 0, 0, 4, 4, 0, 0, 3, 4, 0, 4, 0, 0, 1, 0, 0, 0, 0, 4, 0, 0, 0, 0, 1, 1, 4, 2, 2, 0, 0, 0, 4, 0, 0, 2, 0, 4, 0, 1, 0, 4, 3, 0, 3, 1, 2, 2, 4, 0, 0, 4, 0, 4, 4, 1, 0, 0, 2, 0, 0, 0, 2, 0, 0, 0, 3, 0, 1, 2, 4, 0, 1, 0, 2, 2, 0, 0, 0, 2, 4, 0, 0, 4, 0, 2, 4, 3, 0, 4, 0, 0, 1, 0, 0, 2, 2, 4, 1, 4, 1, 0, 2, 0, 0, 0, 4, 2, 0, 0, 0, 0, 4, 0, 4, 0, 0, 0, 0, 0, 0, 0, 0, 2, 2, 3, 0, 2, 0, 0, 0, 0, 1, 4, 3, 0, 2, 1, 1, 0, 0, 0, 0, 0, 0, 1, 0, 4, 0, 0, 2, 0, 0, 3, 0, 0, 0, 0, 4, 2, 4, 4, 0, 4, 3, 0, 0, 1, 0, 2, 4, 4, 4, 0, 2, 4, 0, 4, 0, 0, 0, 2, 0, 0, 4, 0, 0, 0, 0, 4, 4, 4, 1, 0, 1, 0, 0, 0, 4, 0, 2, 0, 3, 0, 4, 4, 2, 0, 1, 4, 0, 3, 3, 0, 0, 0, 0, 4, 0, 3, 0, 1, 0, 0, 0, 0, 0, 4, 0, 2, 3, 0, 0, 0, 0, 0, 0, 2, 1, 2, 0, 4, 1, 0, 0, 1, 0, 0, 2, 0, 1, 4, 2, 0, 4, 0, 4, 0, 1, 0, 0, 4, 0, 0, 1, 0, 2, 1, 0, 0, 2, 0, 0, 3, 0, 0, 4, 4, 0, 3, 0, 4, 4, 4, 0, 0, 0, 0, 0, 0, 0, 0, 3, 0, 0, 0, 0, 0, 1, 0, 4, 1, 0, 0, 3, 3, 4, 1, 3, 2, 1, 0, 1, 0, 0, 0, 3, 4, 0, 0, 0, 4, 0, 0, 0, 0, 0, 3, 0, 3, 1, 0, 0, 0, 1, 2, 2, 1, 4, 0, 4, 3, 2, 0, 0, 0, 0, 0, 0, 4, 4, 0, 0, 2, 0, 3, 0, 0, 3, 0, 0, 1, 3, 0, 1, 0, 0, 0, 0, 0, 2, 0, 0, 4, 0, 0, 2, 1, 0, 2, 0, 0, 2, 0, 3, 0, 4, 0, 0, 0, 0, 2, 4, 0, 0, 2, 0, 0, 0, 0, 4, 0, 4, 3, 4, 0, 0, 0, 0, 1, 3, 0, 0, 0, 4, 1, 0, 1, 0, 4, 0, 0, 0, 0, 0, 0, 0, 0, 2, 1, 4, 0, 4, 4, 4, 0, 0, 0, 0, 2, 0, 2, 1, 4, 2, 0, 0, 2, 0, 2, 0, 3, 2, 1, 1, 0, 1, 4, 2, 0, 4, 1, 0, 0, 2, 3, 0, 2, 1, 1, 4, 1, 0, 3, 4, 0, 0, 4, 0, 0, 2, 0, 1, 4, 0, 2, 0, 3, 1, 0, 0, 4, 4, 4, 1, 4, 0, 0, 3, 4, 3, 1, 1, 0, 0, 1, 0, 3, 4, 0, 0, 0, 0, 0, 0, 0, 0, 2, 0, 2, 0, 4, 0, 2, 4, 0, 0, 0, 0, 0, 3, 2, 0, 3, 2, 4, 0, 3, 1, 2, 0, 4, 3, 0, 0, 4, 4, 4, 4, 1, 0, 2, 2, 3, 0, 1, 4, 0, 3, 0, 1, 3, 0, 2, 0, 4, 0, 3, 2, 1, 1, 3, 0, 0, 0, 0, 0, 0, 1, 0, 0, 0, 1, 0, 2, 0, 2, 0, 4, 0, 0, 0, 0, 2, 4, 2, 0, 2, 0, 0, 0, 4, 0, 1, 0, 4, 2, 4, 0, 3, 3, 4, 0, 2, 3, 0, 1, 0, 4, 1, 4, 0, 0, 4, 0, 3, 1, 0, 2, 4, 0, 3, 2, 3, 0, 0, 4, 2, 0, 0, 0, 0, 3, 0, 2, 1, 0, 1, 0, 4, 2, 4, 3, 3, 0, 0, 0, 0, 4, 0, 2, 0, 0, 0, 0, 4, 0, 0, 2, 0, 2, 1, 4, 1, 1, 0, 1, 0, 3, 1, 0, 0, 1, 0, 2, 0, 3, 0, 2, 0, 0, 0, 0, 0, 2, 3, 0, 4, 0, 4, 1, 3, 0, 4, 0, 0, 0, 0, 2, 0, 1, 4, 3, 0, 0, 0, 0, 4, 0, 0, 0, 3, 0, 4, 0, 0, 1, 3, 0, 4, 1, 2, 4, 0, 0, 0, 0, 2, 0, 2, 0, 1, 0, 0, 0, 2, 3, 1, 2, 1, 0, 4, 0, 0, 0, 2, 0, 0, 2, 0, 4, 4, 0, 3, 0, 0, 0, 0, 0, 0, 0, 3, 4, 4, 2, 1, 0, 4, 2, 0, 1, 1, 2, 0, 0, 0, 4, 0, 2, 0, 0, 3, 0, 0, 0, 3, 0, 2, 0, 2, 1, 0, 2, 2, 0, 0, 0, 0, 0, 4, 0, 2, 0, 3, 0, 4, 2, 0, 4, 4, 0, 0, 0, 0, 0, 1, 0, 0, 0, 0, 0, 0, 1, 0, 0, 2, 4, 4, 2, 2, 0, 3, 4, 0, 4, 0, 4, 0, 0, 1, 0, 0, 2, 0, 0, 0, 0, 0, 0, 4, 0, 0, 2, 0, 2, 0, 0, 0, 4, 0, 0, 0, 2, 1, 3, 0, 0, 2, 2, 0, 1, 1, 1, 1, 0, 4, 0, 0, 2, 1, 1, 0, 0, 0, 2, 0, 0, 1, 1, 3, 0, 1, 0, 4, 2, 0, 2, 0, 0, 4, 4, 0, 2, 0, 0, 4, 0, 0, 3, 0, 0, 0, 2, 0, 1, 4, 0, 0, 3, 1, 0, 1, 0, 0, 0, 0, 4, 1, 0, 0, 0, 2, 0, 0, 0, 0, 4, 3, 2, 4, 0, 0, 0, 0, 4, 0, 2, 4, 2, 0, 0, 3, 4, 4, 0, 0, 1, 2, 4, 0, 0, 0, 0, 0, 1, 2, 3, 1, 0, 0, 0, 0, 0, 0, 0, 2, 0, 0, 4, 0, 3, 0, 4, 4, 2, 0, 0, 2, 0, 4, 0, 0, 1, 0, 3, 4, 1, 4, 0, 0, 4, 0, 0, 0, 0, 3, 1, 1, 0, 4, 4, 0, 0, 4, 0, 0, 0, 4, 4, 2, 0, 0, 2, 0, 0, 4, 0, 0, 3, 0, 2, 0, 0, 0, 1, 0, 0, 4, 0, 0, 0, 2, 2, 0, 4, 4, 0, 3, 2, 0, 0, 2, 4, 0, 2, 0, 0, 0, 4, 2, 0, 0, 0, 0, 0, 0, 1, 1, 2, 4, 0, 2, 0, 1, 0, 0, 0, 4, 1, 0, 1, 3, 0, 0, 0, 0, 0, 0, 4, 2, 1, 0, 0, 0, 0, 0, 0, 0, 4, 4, 2, 0, 1, 0, 0, 0, 4, 1, 0, 0, 0, 0, 2, 0, 0, 0, 0, 1, 0, 3, 0, 0, 3, 0, 0, 0, 4, 0, 0, 4, 0, 0, 4, 0, 3, 0, 1, 0, 1, 0, 2, 0, 0, 0, 0, 4, 1, 0, 0, 0, 2, 3, 0, 3, 3, 0, 0, 1, 2, 2, 0, 4, 0, 0, 3, 0, 0, 1, 3, 0, 0, 0, 0, 4, 0, 2, 1, 1, 0, 0, 1, 0, 0, 0, 4, 4, 3, 0, 0, 0, 1, 1, 0, 0, 4, 0, 0, 2, 3, 0, 1, 4, 0, 1, 0, 3, 3, 0, 0, 3, 1, 4, 3, 0, 4, 4, 3, 4, 3, 2, 4, 4, 0, 0, 3, 3, 4, 2, 0, 3, 0, 0, 0, 0, 0, 0, 0, 4, 2, 0, 0, 0, 4, 0, 0, 2, 3, 2, 0, 4, 0, 0, 0, 0, 4, 4, 0, 4, 2, 4, 4, 0, 0, 0, 0, 0, 1, 0, 0, 0, 0, 0, 0, 0, 4, 0, 2, 2, 0, 2, 4, 2, 2, 4, 0, 0, 0, 4, 0, 0, 2, 4, 0, 0, 0, 0, 0, 0, 0, 3, 1, 1, 0, 0, 0, 0, 2, 0, 4, 0, 0, 2, 4, 0, 0, 0, 4, 3, 3, 0, 0, 2, 0, 4, 0, 0, 4, 3, 4, 2, 0, 2, 0, 0, 4, 0, 2, 0, 3, 0, 2, 3, 0, 0, 0, 0, 0, 0, 0, 3, 1, 4, 1, 0, 0, 0, 0, 0, 4, 0, 4, 4, 4, 0, 0, 0, 0, 0, 3, 4, 4, 0, 0, 0, 0, 0, 0, 0, 2, 0, 1, 3, 0, 4, 0, 0, 0, 0, 4, 2, 0, 0, 0, 4, 0, 1, 3, 0, 0, 0, 2, 0, 2, 1, 1, 0, 1, 3, 0, 0, 2, 0, 0, 0, 0, 0, 0, 4, 0, 0, 4, 0, 0, 2, 0, 4, 2, 4, 0, 4, 2, 2, 2, 0, 0, 1, 2, 3, 0, 2, 3, 0, 0, 0, 4, 3, 0, 3, 1, 4, 1, 4, 4, 4, 0, 0, 0, 3, 4, 3, 2, 0, 0, 0, 3, 4, 1, 0, 0, 4, 0, 0, 1, 2, 0, 2, 1, 1, 4, 2, 4, 0, 0, 2, 2, 0, 1, 2, 0, 4, 4, 0, 0, 2, 0, 1, 4, 0, 3, 0, 3, 0, 4, 2, 1, 0, 0, 0, 2, 3, 0, 0, 0, 0, 0, 0, 4, 3, 4, 4, 0, 2, 3, 0, 2, 4, 3, 2, 1, 0, 1, 1, 1, 0, 0, 3, 1, 0, 4, 2, 3, 2, 0, 0, 2, 0, 0, 0, 4, 0, 0, 3, 0, 4, 0, 0, 2, 1, 0, 0, 0, 0, 0, 0, 4, 4, 0, 0, 0, 0, 0, 4, 0, 0, 4, 4, 0, 3, 0, 0, 0, 2, 4, 3, 0, 0, 0, 0, 0, 0, 0, 1, 0, 4, 0, 0, 0, 2, 2, 0, 0, 0, 3, 0, 0, 1, 1, 0, 0, 0, 3, 0, 2, 4, 0, 3, 0, 4, 0, 4, 0, 0, 1, 3, 4, 0, 0, 0, 4, 2, 0, 3, 0, 1, 0, 0, 0, 0, 0, 0, 1, 0, 0, 2, 4, 1, 0, 0, 4, 1, 0, 1, 0, 3, 3, 2, 1, 3, 3, 0, 1, 0, 0, 4, 0, 4, 0, 4, 4, 3, 2, 0, 0, 0, 1, 4, 1, 0, 1, 0, 1, 0, 2, 4, 0, 0, 4, 2, 3, 2, 3, 2, 2, 0, 1, 0, 0, 0, 4, 1, 2, 1, 0, 2, 1, 0, 1, 0, 0, 1, 3, 1, 0, 0, 0, 3, 0, 3, 4, 2, 0, 1, 0, 1, 0, 0, 0, 0, 4, 0, 0, 2, 0, 1, 0, 2, 0, 4, 0, 2, 3, 2, 0, 0, 0, 0, 0, 0, 0, 4, 4, 4, 0, 4, 0, 3, 1, 0, 0, 0, 0, 4, 3, 0, 0, 2, 4, 0, 4, 2, 2, 1, 0, 0, 0, 0, 0, 0, 2, 1, 0, 0, 4, 0, 1, 0, 4, 0, 2, 0, 0, 0, 0, 0, 3, 0, 0, 0, 0, 0, 0, 4, 0, 0, 0, 4, 0, 0, 0, 4, 0, 0, 0, 0, 3, 0, 0, 0, 2, 0, 4, 1, 0, 4, 4, 0, 0, 0, 0, 4, 0, 0, 0, 0, 4, 0, 0, 0, 0, 1, 0, 0, 0, 1, 0, 0, 1, 4, 0, 3, 4, 2, 4, 2, 2, 0, 3, 3, 3, 4, 3, 2, 0, 2, 1, 0, 2, 1, 0, 0, 4, 4, 4, 2, 0, 0, 2, 0, 4, 1, 0, 0, 0, 0, 0, 2, 4, 0, 3, 0, 1, 4, 0, 3, 3, 0, 4, 0, 0, 3, 1, 4, 0, 4, 4, 2, 4, 2, 0, 0, 0, 3, 0, 0, 0, 0, 2, 4, 2, 0, 2, 3, 2, 0, 0, 4, 1, 0, 0, 3, 2, 4, 4, 4, 3, 0, 0, 4, 3, 0, 0, 0, 0, 0, 0, 0, 4, 0, 4, 0, 4, 4, 0, 0, 4, 3, 1, 0, 4, 3, 2, 0, 0, 3, 1, 0, 0, 0, 0, 2, 4, 0, 0, 0, 0, 0, 3, 0, 0, 0, 4, 0, 2, 0, 0, 1, 0, 0, 4, 0, 2, 1, 0, 0, 4, 0, 4, 0, 4, 2, 4, 2, 0, 0, 0, 3, 1, 0, 0, 0, 0, 1, 3, 0, 0, 1, 0, 1, 0, 2, 0, 0, 0, 4, 0, 2, 4, 0, 4, 0, 0, 0, 0, 0, 0, 4, 0, 0, 1, 4, 2, 1, 3, 0, 1, 4, 2, 3, 0, 0, 0, 0, 4, 0, 0, 0, 1, 2, 4, 1, 2, 0, 0, 0, 0, 2, 4, 0, 0, 3, 0, 3, 1, 4, 0, 1, 3, 1, 0, 0, 0, 0, 0, 0, 0, 0, 0, 4, 4, 0, 0, 0, 2, 0, 0, 0, 0, 0, 0, 0, 2, 4, 4, 0, 0, 2, 0, 3, 0, 0, 0, 3, 4, 3, 2, 0, 0, 1, 0, 3, 3, 3, 0, 0, 0, 0, 2, 0, 0, 2, 3, 0, 3, 4, 0, 2, 4, 0, 2, 0, 3, 3, 4, 0, 1, 0, 2, 0, 0, 0, 3, 0, 0, 0, 2, 0, 0, 4, 0, 4, 0, 0, 1, 0, 0, 0, 3, 0, 2, 4, 1, 0, 2, 4, 0, 0, 0, 0, 3, 4, 0, 1, 0, 1, 0, 1, 4, 4, 0, 4, 3, 0, 0, 0, 4, 0, 2, 0, 0, 0, 4, 0, 3, 0, 0, 0, 0, 0, 0, 2, 3, 0, 4, 0, 0, 4, 0, 0, 4, 0, 0, 0, 0, 0, 0, 1, 0, 0, 3, 0, 0, 0, 0, 0, 2, 0, 0, 3, 1, 4, 0, 3, 0, 0, 0, 0, 0, 0, 3, 0, 0, 1, 4, 1, 2, 4, 0, 0, 1, 2, 0, 4, 0, 0, 0, 2, 0, 2, 0, 2, 0, 0, 0, 2, 0, 4, 3, 3, 2, 1, 0, 0, 3, 0, 0, 3, 0, 0, 3, 0, 3, 2, 1, 0, 1, 0, 0, 0, 2, 0, 0, 0, 4, 2, 3, 0, 0, 2, 4, 1, 2, 0, 4, 0, 2, 0, 0, 0, 0, 2, 0, 0, 2, 0, 0, 0, 0, 4, 4, 2, 3, 0, 0, 0, 0, 0, 0, 0, 0, 2, 1, 0, 4, 0, 1, 2, 4, 0, 0, 0, 2, 1, 0, 0, 0, 2, 0, 0, 4, 0, 4, 0, 2, 0, 0, 0, 0, 4, 0, 0, 0, 0, 0, 0, 0, 0, 0, 2, 0, 4, 0, 0, 2, 4, 2, 4, 0, 0, 0, 0, 3, 0, 0, 0, 3, 0, 0, 2, 4, 1, 0, 0, 0, 3, 0, 0, 2, 0, 2, 0, 3, 0, 0, 3, 0, 0, 4, 4, 2, 2, 4, 0, 4, 0, 0, 4, 0, 0, 0, 2, 2, 0, 0, 0, 0, 2, 0, 0, 1, 2, 3, 0, 0, 0, 0, 0, 2, 2, 0, 0, 0, 0, 3, 0, 1, 0, 0, 1, 4, 3, 0, 0, 0, 1, 2, 0, 0, 2, 0, 4, 0, 2, 0, 0, 4, 0, 0, 4, 1, 0, 4, 0, 2, 1, 0, 3, 1, 4, 0, 1, 0, 0, 4, 0, 0, 4, 0, 0, 0, 4, 3, 0, 0, 4, 1, 0, 0, 1, 4, 0, 0, 1, 0, 4, 2, 2, 0, 4, 2, 4, 4, 3, 0, 3, 4, 0, 2, 0, 0, 0, 0, 2, 0, 0, 0, 0, 3, 0, 0, 0, 0, 0, 4, 2, 0, 0, 0, 0, 1, 0, 0, 0, 0, 0, 2, 1, 2, 0, 0, 0, 0, 0, 0, 2, 2, 0, 4, 0, 3, 1, 3, 4, 1, 1, 0, 0, 0, 0, 0, 0, 0, 4, 0, 0, 0, 3, 0, 3, 0, 0, 3, 0, 2, 4, 2, 0, 4, 0, 0, 4, 2, 1, 1, 2, 0, 0, 0, 0, 0, 1, 4, 2, 0, 0, 4, 4, 3, 4, 2, 0, 4, 0, 0, 0, 3, 0, 1, 3, 4, 3, 0, 0, 0, 4, 4, 0, 3, 0, 0, 0, 0, 0, 0, 3, 3, 0, 2, 2, 4, 2, 0, 2, 2, 0, 0, 0, 3, 0, 0, 4, 0, 4, 4, 2, 0, 0, 0, 2, 0, 0, 0, 2, 3, 0, 3, 0, 1, 0, 0, 0, 0, 0, 3, 0, 1, 0, 1, 4, 4, 0, 0, 4, 2, 4, 4, 2, 0, 0, 0, 0, 2, 4, 0, 0, 0, 4, 3, 0, 1, 0, 0, 0, 0, 4, 4, 0, 0, 0, 0, 4, 2, 0, 0, 2, 0, 4, 0, 2, 0, 0, 0, 4, 0, 1, 4, 0, 1, 4, 2, 0, 0, 0, 0, 0, 0, 0, 1, 0, 2, 4, 4, 0, 3, 0, 0, 1, 0, 0, 1, 0, 1, 2, 4, 4, 0, 1, 0, 0, 2, 0, 4, 0, 4, 4, 2, 1, 0, 1, 4, 4, 4, 2, 2, 0, 0, 0, 0, 0, 4, 3, 3, 4, 0, 1, 0, 0, 0, 2, 4, 0, 4, 1, 0, 0, 2, 3, 0, 0, 2, 0, 0, 0, 1, 3, 0, 0, 0, 0, 0, 4, 0, 2, 0, 4, 0, 0, 0, 2, 3, 4, 0, 3, 0, 0, 0, 2, 2, 2, 0, 2, 0, 4, 3, 3, 0, 0, 0, 2, 0, 0, 4, 0, 0, 0, 2, 0, 4, 0, 0, 0, 0, 4, 3, 2, 2, 4, 0, 0, 2, 0, 2, 0, 4, 1, 1, 0, 0, 0, 0, 2, 2, 3, 1, 0, 4, 1, 0, 4, 0, 0, 3, 0, 3, 2, 4, 4, 3, 0, 4, 0, 2, 0, 1, 0, 0, 0, 0, 0, 3, 2, 0, 3, 2, 2, 0, 1, 0, 0, 0, 0, 0, 4, 3, 3, 0, 4, 0, 2, 0, 4, 0, 0, 1, 0, 0, 2, 2, 0, 4, 0, 0, 0, 0, 0, 0, 2, 3, 0, 0, 0, 0, 0, 0, 4, 1, 0, 0, 1, 4, 0, 4, 0, 0, 1, 4, 2, 2, 0, 0, 4, 0, 1, 0, 2, 1, 0, 2, 3, 0, 3, 4, 2, 2, 2, 1, 0, 0, 0, 4, 0, 0, 2, 0, 0, 1, 0, 3, 2, 2, 2, 1, 0, 4, 0, 0, 0, 2, 1, 0, 3, 0, 4, 2, 4, 4, 4, 4, 4, 4, 0, 2, 0, 1, 0, 0, 0, 0, 0, 2, 4, 0, 0, 0, 0, 0, 0, 4, 3, 4, 0, 0, 4, 0, 2, 0, 0, 2, 0, 0, 4, 0, 0, 0, 0, 0, 0, 1, 0, 4, 0, 1, 0, 0, 0, 0, 0, 1, 0, 0, 0, 1, 2, 2, 4, 2, 2, 1, 1, 2, 2, 0, 0, 4, 4, 0, 0, 3, 0, 0, 0, 0, 3, 4, 0, 0, 3, 0, 0, 0, 1, 4, 0, 3, 0, 4, 0, 1, 1, 4, 0, 2, 2, 0, 0, 0, 0, 2, 4, 2, 0, 1, 2, 0, 0, 1, 0, 0, 0, 0, 4, 3, 2, 4, 0, 0, 1, 4, 2, 0, 0, 4, 4, 2, 0, 0, 4, 4, 0, 2, 0, 0, 1, 0, 1, 0, 3, 1, 0, 2, 1, 2, 1, 1, 4, 0, 2, 0, 0, 4, 0, 4, 3, 0, 0, 0, 4, 4, 1, 0, 4, 0, 0, 0, 0, 0, 2, 4, 0, 1, 0, 0, 0, 0, 4, 0, 1, 4, 0, 4, 2, 3, 0, 0, 0, 0, 0, 4, 2, 4, 0, 0, 1, 3, 3, 0, 0, 1, 0, 3, 0, 3, 0, 0, 0, 4, 2, 3, 4, 0, 0, 4, 0, 3, 2, 0, 1, 0, 0, 1, 0, 0, 0, 4, 0, 0, 4, 0, 0, 0, 2, 3, 0, 2, 0, 0, 4, 3, 4, 4, 0, 4, 0, 0, 3, 0, 1, 0, 3, 0, 2, 0, 0, 0, 4, 0, 4, 0, 1, 3, 0, 2, 4, 3, 4, 0, 0, 2, 0, 1, 0, 0, 2, 0, 2, 4, 4, 1, 0, 4, 1, 4, 0, 3, 0, 0, 1, 4, 1, 0, 2, 1, 0, 0, 3, 0, 4, 0, 1, 0, 4, 4, 0, 0, 0, 0, 0, 0, 1, 0, 4, 0, 0, 0, 0, 2, 0, 3, 4, 4, 0, 0, 2, 1, 3, 0, 0, 2, 4, 0, 0, 4, 0, 0, 4, 2, 4, 0, 0, 1, 2, 0, 1, 2, 1, 0, 0, 3, 0, 4, 0, 1, 4, 0, 0, 0, 0, 3, 0, 0, 0, 0, 3, 0, 1, 0, 1, 0, 0, 0, 4, 0, 2, 2, 0, 0, 0, 0, 1, 0, 3, 3, 4, 4, 3, 2, 4, 0, 0, 0, 3, 2, 0, 0, 3, 4, 3, 0, 2, 0, 0, 0, 1, 1, 2, 0, 0, 4, 1, 0, 0, 4, 0, 0, 2, 4, 4, 0, 0, 4, 0, 0, 0, 4, 0, 2, 0, 4, 2, 0, 0, 0, 4, 0, 0, 4, 0, 0, 2, 1, 3, 0, 0, 0, 4, 0, 0, 0, 0, 0, 0, 0, 4, 3, 0, 0, 0, 0, 0, 0, 0, 4, 0, 2, 0, 1, 0, 2, 1, 2, 2, 0, 0, 2, 3, 4, 0, 4, 0, 0, 0, 0, 2, 0, 1, 4, 3, 3, 4, 0, 2, 1, 0, 0, 0, 0, 3, 3, 0, 3, 1, 0, 0, 2, 4, 0, 4, 0, 0, 4, 3, 2, 3, 0, 0, 0, 2, 0, 0, 0, 0, 4, 3, 4, 0, 0, 0, 1, 2, 0, 0, 0, 4, 0, 0, 0, 0, 0, 0, 0, 2, 4, 1, 0, 0, 0, 4, 3, 0, 0, 0, 0, 4, 0, 3, 2, 0, 0, 1, 2, 0, 4, 0, 2, 1, 4, 0, 0, 0, 2, 0, 2, 0, 0, 1, 0, 2, 0, 4, 0, 3, 0, 0, 4, 0, 1, 1, 2, 3, 0, 0, 0, 2, 1, 2, 0, 4, 0, 0, 2, 2, 3, 0, 4, 0, 1, 0, 4, 0, 2, 0, 3, 0, 0, 0, 1, 0, 4, 2, 0, 4, 3, 0, 0, 2, 0, 1, 0, 0, 0, 0, 2, 0, 2, 0, 0, 2, 1, 0, 0, 0, 1, 0, 0, 0, 4, 0, 4, 4, 0, 0, 0, 0, 0, 2, 3, 0, 0, 0, 4, 0, 0, 4, 4, 0, 4, 0, 2, 0, 0, 0, 0, 4, 0, 0, 0, 1, 0, 0, 0, 0, 2, 0, 0, 0, 4, 3, 2, 0, 4, 0, 0, 0, 3, 4, 0, 0, 1, 0, 0, 3, 2, 0, 0, 1, 0, 2, 0, 2, 0, 2, 0, 0, 3, 4, 2, 2, 0, 1, 2, 0, 0, 4, 4, 0, 0, 1, 0, 0, 0, 1, 0, 1, 3, 3, 0, 0, 0, 0, 0, 3, 1, 0, 4, 0, 0, 0, 2, 0, 0, 3, 4, 0, 4, 0, 0, 2, 0, 1, 3, 0, 1, 1, 0, 4, 4, 0, 2, 0, 4, 0, 0, 0, 0, 0, 1, 1, 3, 2, 1, 0, 0, 3, 2, 0, 3, 0, 0, 2, 3, 3, 4, 4, 0, 1, 0, 0, 4, 0, 3, 0, 1, 0, 0, 0, 1, 1, 2, 0, 0, 4, 3, 4, 4, 0, 2, 4, 4, 0, 0, 4, 2, 0, 0, 0, 1, 0, 0, 0, 4, 0, 0, 0, 3, 3, 0, 0, 4, 0, 3, 2, 1, 4, 0, 4, 4, 0, 0, 1, 0, 4, 1, 3, 3, 0, 0, 0, 0, 2, 2, 0, 2, 0, 0, 4, 0, 3, 0, 0, 0, 2, 1, 0, 0, 0, 0, 4, 0, 1, 0, 0, 0, 4, 0, 3, 4, 0, 4, 0, 4, 2, 2, 3, 4, 0, 1, 0, 0, 0, 0, 1, 3, 0, 0, 0, 0, 0, 1, 2, 0, 1, 4, 0, 0, 0, 4, 0, 3, 0, 0, 0, 0, 0, 4, 0, 0, 0, 1, 0, 4, 0, 0, 0, 0, 4, 3, 2, 0, 4, 4, 0, 4, 4, 0, 4, 0, 3, 0, 2, 0, 0, 0, 4, 0, 0, 0, 0, 0, 0, 2, 0, 0, 1, 1, 0, 0, 0, 0, 4, 4, 1, 2, 0, 2, 0, 0, 0, 3, 0, 0, 4, 2, 0, 0, 0, 0, 0, 3, 0, 0, 0, 4, 1, 0, 0, 0, 0, 3, 0, 0, 0, 0, 0, 4, 4, 3, 2, 2, 0, 0, 0, 4, 0, 0, 0, 3, 4, 3, 0, 0, 0, 4, 2, 0, 0, 3, 0, 0, 1, 0, 0, 2, 0, 1, 0, 1, 4, 0, 2, 2, 0, 0, 0, 4, 0, 0, 0, 4, 2, 4, 2, 0, 0, 4, 0, 0, 0, 3, 0, 1, 4, 0, 2, 0, 0, 4, 0, 0, 0, 0, 0, 1, 0, 3, 0, 4, 0, 0, 0, 2, 0, 0, 4, 2, 0, 3, 0, 2, 4, 0, 2, 0, 1, 3, 0, 4, 1, 4, 4, 2, 0, 4, 2, 1, 0, 0, 1, 2, 2, 0, 2, 0, 0, 0, 0, 2, 3, 1, 0, 0, 4, 0, 0, 0, 4, 0, 0, 0, 4, 0, 0, 0, 0, 0, 4, 0, 3, 0, 4, 0, 0, 0, 4, 4, 0, 0, 0, 0, 4, 0, 0, 0, 0, 0, 0, 0, 2, 3, 1, 3, 0, 3, 1, 0, 0, 3, 1, 0, 4, 0, 3, 1, 0, 0, 0, 0, 0, 1, 0, 4, 2, 1, 0, 0, 0, 4, 0, 3, 4, 0, 0, 1, 4, 2, 0, 1, 1, 0, 4, 3, 0, 2, 4, 0, 0, 0, 4, 0, 0, 2, 0, 0, 0, 0, 2, 0, 0, 0, 0, 2, 0, 1, 0, 3, 1, 0, 2, 0, 0, 4, 2, 4, 4, 2, 0, 4, 4, 4, 2, 3, 0, 0, 1, 0, 0, 0, 0, 0, 0, 0, 4, 3, 0, 4, 4, 0, 4, 0, 0, 0, 3, 0, 0, 2, 1, 2, 2, 0, 0, 4, 2, 1, 3, 0, 4, 0, 1, 0, 3, 0, 0, 0, 0, 0, 0, 0, 2, 4, 3, 3, 0, 0, 1, 0, 2, 2, 4, 0, 0, 2, 2, 0, 0, 4, 0, 4, 1, 0, 3, 0, 3, 2, 0, 0, 3, 0, 2, 0, 0, 0, 0, 0, 1, 0, 0, 0, 3, 1, 0, 4, 0, 0, 4, 4, 0, 2, 2, 0, 4, 4, 1, 1, 2, 0, 1, 0, 1, 2, 4, 0, 2, 0, 0, 0, 4, 2, 0, 0, 0, 0, 0, 0, 0, 0, 0, 3, 1, 0, 0, 0, 0, 0, 4, 1, 3, 0, 3, 1, 0, 0, 4, 0, 0, 0, 0, 0, 0, 0, 1, 3, 4, 1, 1, 0, 4, 3, 2, 0, 0, 1, 2, 3, 0, 4, 0, 0, 0, 2, 0, 0, 0, 0, 0, 0, 0, 0, 4, 0, 0, 4, 2, 0, 4, 2, 2, 0, 0, 4, 2, 0, 1, 3, 1, 2, 4, 0, 4, 0, 4, 4, 4, 0, 2, 0, 2, 0, 0, 0, 0, 4, 0, 0, 0, 0, 2, 0, 3, 0, 0, 1, 2, 0, 4, 0, 4, 0, 0, 3, 2, 0, 0, 0, 4, 0, 0, 0, 1, 0, 0, 0, 0, 0, 0, 1, 0, 2, 2, 2, 0, 0, 0, 0, 0, 1, 0, 0, 0, 0, 0, 3, 0, 1, 4, 2, 2, 4, 0, 4, 1, 0, 0, 4, 4, 4, 0, 0, 1, 1, 2, 0, 2, 0, 0, 0, 2, 0, 0, 2, 0, 1, 0, 0, 0, 0, 2, 0, 0, 4, 2, 3, 3, 0, 0, 4, 0, 0, 0, 2, 4, 0, 4, 4, 0, 0, 0, 0, 1, 0, 0, 2, 2, 0, 1, 2, 2, 0, 1, 2, 0, 3, 3, 0, 0, 4, 4, 0, 3, 4, 0, 0, 4, 0, 0, 0, 0, 2, 0, 4, 4, 2, 0, 1, 0, 0, 0, 4, 3, 1, 0, 0, 0, 0, 1, 4, 3, 1, 0, 2, 0, 3, 0, 0, 0, 0, 1, 0, 0, 2, 0, 2, 2, 2, 4, 4, 3, 0, 3, 0, 0, 4, 4, 1, 1, 1, 4, 0, 0, 1, 0, 0, 0, 0, 4, 3, 2, 0, 0, 0, 0, 0, 0, 2, 4, 3, 0, 4, 0, 4, 0, 2, 0, 0, 0, 0, 0, 0, 0, 0, 0, 3, 4, 0, 4, 2, 0, 2, 1, 4, 1, 0, 4, 0, 0, 1, 0, 0, 0, 3, 0, 2, 1, 0, 0, 0, 2, 0, 4, 0, 4, 0, 2, 0, 4, 0, 0, 0, 0, 3, 0, 4, 1, 0, 2, 0, 3, 0, 0, 2, 2, 0, 0, 2, 3, 1, 3, 0, 3, 1, 0, 4, 4, 0, 0, 0, 4, 3, 2, 0, 0, 4, 4, 0, 4, 0, 0, 2, 4, 0, 0, 0, 0, 0, 4, 0, 0, 0, 4, 0, 0, 4, 0, 3, 4, 0, 0, 0, 1, 2, 1, 0, 1, 2, 2, 0, 1, 0, 0, 1, 3, 0, 0, 4, 0, 0, 3, 0, 0, 0, 0, 0, 0, 0, 2, 1, 0, 0, 4, 2, 1, 4, 0, 0, 2, 0, 2, 0, 0, 1, 0, 4, 0, 4, 0, 1, 0, 0, 0, 0, 3, 2, 0, 1, 0, 0, 0, 0, 0, 0, 2, 3, 4, 0, 0, 2, 0, 1, 0, 1, 4, 1, 0, 0, 0, 0, 1, 0, 0, 4, 0, 0, 4, 0, 1, 1, 0, 4, 3, 0, 3, 3, 1, 0, 0, 0, 3, 0, 0, 3, 0, 0, 0, 0, 0, 0, 0, 0, 0, 0, 0, 2, 0, 4, 0, 2, 1, 0, 4, 3, 0, 0, 0, 4, 0, 4, 4, 0, 0, 0, 0, 4, 0, 0, 0, 0, 0, 0, 0, 1, 3, 0, 0, 0, 3, 0, 1, 4, 0, 0, 0, 3, 0, 2, 0, 0, 0, 0, 0, 4, 0, 0, 0, 4, 0, 1, 0, 4, 4, 0, 0, 4, 3, 1, 0, 0, 0, 0, 2, 2, 0, 2, 2, 0, 0, 0, 0, 0, 0, 0, 0, 0, 0, 3, 0, 0, 0, 0, 0, 0, 0, 4, 0, 0, 0, 0, 2, 0, 0, 1, 4, 1, 1, 0, 0, 0, 3, 0, 1, 0, 3, 1, 1, 4, 4, 0, 0, 3, 3, 0, 4, 3, 0, 0, 3, 0, 1, 0, 4, 1, 0, 0, 0, 0, 0, 0, 0, 1, 3, 4, 0, 2, 0, 0, 0, 2, 0, 0, 0, 0, 0, 0, 0, 0, 0, 0, 2, 3, 0, 2, 0, 4, 1, 0, 0, 0, 0, 3, 3, 4, 3, 0, 4, 3, 0, 3, 2, 0, 0, 2, 3, 4, 0, 0, 0, 0, 0, 2, 3, 0, 0, 0, 0, 1, 0, 0, 2, 2, 4, 0, 3, 0, 2, 2, 2, 0, 1, 2, 0, 2, 0, 0, 2, 2, 0, 0, 1, 2, 4, 2, 0, 0, 0, 0, 0, 0, 1, 4, 0, 0, 0, 1, 0, 4, 4, 0, 2, 1, 0, 2, 0, 4, 2, 0, 0, 3, 3, 1, 4, 0, 0, 2, 0, 0, 0, 0, 0, 0, 0, 3, 3, 0, 4, 0, 2, 0, 0, 4, 0, 2, 0, 0, 0, 4, 0, 2, 1, 0, 0, 0, 4, 0, 0, 0, 0, 0, 4, 0, 4, 4, 0, 0, 4, 3, 2, 1, 4, 4, 0, 0, 1, 3, 0, 0, 0, 3, 0, 4, 2, 1, 0, 2, 2, 4, 4, 3, 0, 4, 4, 3, 3, 3, 0, 0, 0, 2, 0, 0, 3, 2, 0, 0, 0, 0, 1, 3, 0, 0, 0, 2, 4, 4, 4, 0, 0, 0, 0, 0, 0, 4, 4, 0, 0, 3, 0, 1, 2, 0, 4, 0, 0, 0, 0, 4, 2, 0, 0, 0, 0, 3, 4, 0, 3, 0, 0, 4, 0, 0, 0, 0, 0, 0, 0, 0, 0, 0, 0, 4, 0, 2, 0, 0, 0, 0, 0, 0, 0, 2, 0, 0, 2, 0, 0, 1, 0, 0, 3, 0, 0, 0, 1, 2, 0, 0, 0, 4, 3, 0, 1, 3, 0, 0, 2, 0, 0, 4, 0, 0, 2, 2, 0, 0, 3, 0, 0, 0, 1, 0, 2, 2, 4, 0, 0, 0, 0, 0, 0, 0, 0, 0, 0, 2, 2, 0, 0, 0, 0, 2, 2, 3, 4, 4, 4, 0, 2, 1, 0, 4, 0, 1, 3, 3, 2, 4, 3, 4, 2, 4, 0, 0, 1, 3, 0, 4, 2, 0, 4, 0, 2, 4, 1, 0, 0, 0, 0, 0, 0, 0, 4, 0, 0, 0, 2, 0, 0, 0, 4, 0, 0, 0, 4, 2, 0, 4, 0, 2, 4, 0, 0, 2, 1, 0, 0, 0, 0, 2, 1, 0, 0, 2, 0, 0, 0, 0, 3, 3, 0, 4, 1, 4, 2, 0, 0, 0, 3, 1, 2, 4, 0, 0, 0, 3, 1, 0, 2, 0, 0, 1, 4, 0, 1, 4, 2, 0, 0, 2, 0, 0, 0, 4, 2, 4, 0, 2, 0, 4, 0, 0, 2, 2, 4, 0, 4, 0, 2, 0, 4, 0, 0, 0, 0, 0, 4, 2, 4, 0, 2, 1, 0, 0, 0, 0, 4, 0, 0, 0, 0, 0, 3, 0, 0, 0, 1, 0, 0, 4, 3, 0, 0, 4, 0, 3, 1, 0, 1, 1, 1, 2, 4, 2, 0, 0, 0, 2, 0, 0, 0, 0, 0, 2, 2, 0, 0, 2, 0, 0, 0, 0, 0, 2, 4, 0, 0, 1, 0, 0, 0, 0, 0, 3, 0, 0, 4, 4, 0, 2, 0, 0, 4, 4, 3, 0, 2, 2, 0, 0, 2, 0, 4, 4, 2, 2, 0, 2, 0, 0, 0, 0, 0, 0, 0, 0, 4, 2, 0, 0, 3, 1, 0, 0, 4, 0, 4, 2, 0, 4, 0, 0, 0, 0, 4, 3, 3, 2, 0, 0, 0, 0, 0, 4, 0, 3, 4, 1, 0, 4, 2, 1, 4, 0, 0, 0, 3, 4, 0, 2, 2, 0, 4, 3, 0, 0, 0, 4, 0, 2, 0, 0, 0, 0, 0, 0, 0, 0, 4, 0, 1, 0, 0, 3, 4, 3, 3, 0, 1, 0, 0, 0, 0, 0, 3, 0, 0, 0, 0, 2, 0, 0, 3, 0, 4, 0, 3, 0, 1, 0, 0, 1, 2, 3, 2, 0, 0, 0, 0, 2, 0, 0, 2, 2, 0, 0, 2, 0, 2, 2, 0, 4, 0, 0, 0, 1, 2, 0, 4, 2, 3, 2, 0, 4, 0, 0, 2, 0, 0, 0, 0, 0, 0, 4, 0, 0, 0, 0, 1, 2, 0, 0, 0, 3, 0, 0, 1, 0, 0, 0, 0, 4, 3, 0, 0, 0, 0, 0, 0, 0, 0, 1, 0, 2, 2, 0, 3, 4, 0, 0, 0, 2, 0, 1, 0, 0, 0, 0, 3, 3, 0, 4, 0, 3, 0, 0, 3, 2, 0, 0, 4, 0, 1, 0, 2, 0, 0, 0, 0, 3, 0, 2, 0, 4, 4, 4, 0, 0, 4, 4, 0, 0, 0, 1, 4, 4, 0, 3, 0, 0, 2, 0, 0, 0, 2, 2, 1, 4, 0, 0, 0, 0, 2, 0, 0, 0, 4, 0, 1, 4, 0, 3, 0, 2, 2, 0, 0, 4, 4, 0, 0, 0, 0, 0, 3, 4, 0, 0, 0, 4, 0, 4, 4, 0, 0, 0, 4, 0, 0, 0, 0, 0, 0, 3, 0, 4, 4, 0, 0, 2, 4, 2, 4, 0, 0, 0, 0, 0, 0, 0, 1, 0, 0, 1, 0, 0, 2, 0, 2, 2, 2, 0, 0, 1, 2, 0, 4, 4, 0, 4, 4, 4, 4, 1, 4, 0, 0, 4, 0, 0, 4, 3, 4, 0, 0, 0, 0, 2, 2, 0, 0, 0, 2, 4, 1, 1, 0, 0, 2, 4, 0, 0, 0, 4, 4, 4, 0, 3, 0, 0, 0, 1, 3, 1, 4, 2, 0, 1, 0, 4, 2, 0, 0, 4, 4, 0, 2, 0, 0, 0, 4, 0, 3, 2, 0, 3, 3, 0, 1, 2, 1, 0, 2, 3, 3, 0, 0, 3, 0, 1, 0, 0, 3, 0, 3, 0, 2, 0, 2, 4, 0, 4, 4, 0, 0, 2, 3, 0, 3, 2, 0, 4, 0, 0, 0, 2, 0, 0, 0, 3, 2, 1, 0, 0, 0, 0, 4, 4, 0, 0, 0, 4, 0, 0, 4, 0, 0, 0, 0, 4, 0, 0, 0, 0, 0, 0, 0, 0, 4, 3, 1, 0, 0, 0, 3, 3, 4, 0, 4, 0, 0, 2, 0, 0, 0, 3, 0, 0, 0, 0, 0, 0, 0, 0, 2, 2, 0, 4, 0, 4, 3, 0, 0, 0, 4, 0, 0, 0, 1, 3, 0, 0, 3, 0, 2, 1, 1, 3, 3, 0, 1, 0, 0, 1, 1, 3, 4, 0, 4, 2, 4, 3, 0, 0, 0, 2, 2, 0, 0, 0, 1, 0, 3, 0, 3, 0, 1, 2, 0, 4, 4, 1, 4, 0, 0, 1, 1, 0, 2, 2, 0, 0, 0, 0, 3, 0, 3, 0, 4, 1, 2, 4, 0, 4, 0, 0, 2, 4, 1, 0, 1, 0, 2, 0, 0, 0, 3, 0, 2, 2, 3, 2, 0, 0, 4, 4, 0, 0, 0, 0, 0, 0, 0, 2, 2, 2, 0, 0, 3, 0, 0, 0, 0, 3, 0, 2, 4, 1, 1, 0, 0, 4, 0, 2, 4, 0, 3, 4, 0, 4, 1, 1, 0, 3, 0, 0, 3, 4, 0, 0, 0, 1, 0, 0, 0, 4, 3, 0, 2, 0, 0, 3, 3, 0, 0, 0, 4, 0, 0, 3, 0, 2, 0, 0, 0, 0, 3, 1, 0, 0, 0, 1, 0, 4, 0, 3, 0, 4, 1, 3, 0, 0, 4, 0, 0, 4, 1, 0, 4, 2, 0, 4, 0, 0, 0, 0, 2, 0, 1, 0, 0, 0, 0, 2, 0, 2, 4, 4, 4, 3, 1, 3, 3, 0, 2, 3, 1, 0, 3, 1, 4, 0, 0, 0, 3, 0, 0, 2, 3, 1, 2, 0, 1, 0, 0, 2, 3, 0, 0, 0, 2, 0, 0, 0, 4, 0, 4, 0, 4, 3, 0, 0, 4, 0, 0, 0, 0, 4, 0, 0, 3, 3, 2, 0, 0, 2, 4, 4, 4, 4, 0, 0, 0, 2, 0, 1, 0, 0, 0, 0, 4, 0, 0, 0, 2, 2, 0, 2, 0, 3, 0, 3, 0, 0, 0, 4, 0, 0, 4, 0, 0, 3, 0, 4, 2, 3, 0, 0, 0, 2, 4, 4, 4, 0, 2, 0, 4, 0, 2, 0, 0, 1, 4, 2, 3, 3, 0, 0, 4, 3, 0, 0, 0, 1, 0, 0, 0, 0, 2, 0, 0, 0, 2, 4, 0, 4, 0, 3, 0, 2, 0, 0, 0, 2, 1, 0, 0, 2, 0, 2, 0, 0, 3, 0, 1, 4, 0, 4, 0, 2, 1, 0, 0, 0, 0, 4, 0, 4, 1, 4, 1, 4, 0, 0, 1, 0, 0, 3, 3, 0, 0, 0, 0, 1, 0, 0, 0, 4, 0, 0, 4, 2, 0, 0, 0, 1, 4, 1, 1, 4, 0, 0, 2, 0, 0, 3, 2, 1, 1, 3, 2, 1, 2, 0, 4, 0, 2, 2, 2, 0, 0, 4, 1, 1, 2, 0, 2, 4, 2, 1, 1, 0, 0, 0, 0, 1, 2, 1, 3, 0, 1, 0, 0, 4, 0, 4, 0, 0, 0, 4, 2, 0, 4, 1, 0, 3, 3, 3, 4, 4, 0, 0, 0, 1, 0, 0, 0, 2, 0, 3, 0, 0, 0, 0, 2, 0, 0, 0, 0, 2, 0, 0, 2, 0, 0, 0, 3, 0, 1, 0, 0, 0, 4, 0, 2, 4, 0, 2, 1, 4, 4, 4, 4, 0, 4, 0, 4, 0, 0, 0, 0, 0, 0, 4, 0, 0, 0, 0, 0, 0, 0, 3, 4, 1, 0, 2, 0, 2, 3, 0, 2, 1, 0, 1, 0, 1, 0, 0, 0, 0, 2, 0, 0, 0, 0, 4, 4, 1, 0, 0, 0, 1, 4, 4, 0, 0, 1, 1, 1, 0, 0, 0, 0, 1, 0, 0, 0, 0, 0, 0, 3, 3, 3, 0, 0, 0, 4, 2, 2, 0, 1, 2, 0, 2, 0, 1, 0, 1, 1, 0, 4, 0, 4, 0, 4, 3, 0, 2, 2, 0, 2, 0, 3, 0, 1, 4, 2, 0, 0, 0, 0, 0, 3, 0, 0, 0, 0, 0, 4, 4, 2, 0, 0, 3, 3, 0, 0, 2, 0, 0, 0, 0, 0, 1, 2, 0, 4, 0, 0, 0, 0, 0, 0, 4, 3, 2, 2, 0, 0, 0, 2, 0, 0, 0, 4, 0, 0, 0, 2, 0, 3, 4, 2, 0, 0, 2, 0, 3, 0, 0, 4, 0, 2, 0, 2, 0, 0, 0, 1, 0, 0, 0, 1, 4, 4, 0, 3, 0, 0, 4, 2, 2, 0, 0, 4, 0, 2, 4, 0, 0, 0, 0, 0, 2, 0, 0, 4, 0, 2, 0, 0, 0, 0, 4, 0, 0, 0, 0, 0, 4, 0, 1, 0, 3, 2, 2, 3, 0, 0, 4, 0, 0, 3, 0, 0, 0, 4, 0, 1, 0, 2, 0, 4, 4, 0, 2, 0, 2, 2, 0, 3, 2, 0, 3, 0, 1, 0, 4, 0, 1, 0, 3, 0, 0, 4, 0, 0, 1, 0, 4, 0, 2, 0, 4, 0, 0, 0, 2, 0, 0, 0, 4, 0, 0, 0, 0, 0, 0, 0, 4, 0, 3, 2, 0, 3, 0, 0, 4, 1, 0, 1, 0, 3, 3, 0, 1, 3, 3, 4, 4, 0, 0, 0, 0, 0, 0, 0, 2, 1, 0, 1, 3, 0, 0, 0, 3, 4, 3, 2, 0, 0, 3, 2, 4, 2, 2, 0, 0, 2, 0, 2, 2, 0, 0, 0, 1, 0, 0, 0, 4, 0, 0, 0, 0, 0, 3, 4, 2, 4, 0, 0, 1, 0, 0, 0, 0, 0, 3, 0, 0, 2, 0, 0, 3, 0, 1, 0, 0, 3, 2, 2, 0, 2, 4, 4, 0, 3, 0, 3, 0, 4, 0, 0, 1, 0, 4, 0, 2, 2, 0, 2, 1, 3, 1, 0, 4, 1, 1, 0, 0, 3, 0, 3, 0, 3, 0, 3, 0, 0, 0, 0, 3, 2, 0, 0, 2, 4, 0, 2, 0, 0, 0, 4, 3, 0, 1, 4, 2, 0, 0, 0, 2, 4, 0, 0, 3, 3, 0, 0, 4, 0, 0, 3, 0, 0, 0, 0, 0, 0, 0, 3, 2, 0, 0, 4, 4, 0, 0, 0, 0, 0, 3, 0, 0, 0, 0, 4, 3, 0, 2, 2, 0, 2, 0, 0, 0, 0, 0, 3, 3, 1, 0, 0, 0, 0, 0, 4, 2, 0, 4, 0, 3, 0, 1, 0, 0, 4, 0, 0, 2, 0, 0, 0, 0, 4, 0, 0, 2, 1, 4, 4, 0, 0, 4, 0, 0, 4, 3, 3, 0, 3, 0, 0, 2, 0, 4, 0, 0, 3, 2, 0, 0, 0, 0, 0, 0, 0, 3, 0, 0, 3, 0, 0, 0, 0, 0, 3, 0, 0, 0, 2, 0, 2, 2, 0, 3, 0, 1, 0, 3, 0, 0, 0, 0, 2, 4, 0, 1, 0, 0, 0, 0, 2, 0, 4, 0, 0, 1, 1, 0, 4, 1, 0, 0, 0, 1, 4, 1, 4, 0, 0, 2, 0, 3, 0, 0, 0, 3, 0, 1, 3, 0, 1, 4, 4, 0, 3, 0, 3, 0, 3, 0, 2, 0, 0, 0, 2, 0, 0, 2, 0, 2, 4, 0, 0, 4, 4, 0, 3, 4, 3, 0, 1, 0, 0, 0, 0, 0, 4, 0, 3, 3, 0, 1, 0, 4, 4, 4, 2, 0, 0, 1, 0, 0, 3, 0, 0, 2, 2, 0, 1, 0, 0, 4, 0, 0, 4, 4, 0, 4, 0, 4, 0, 1, 0, 0, 4, 0, 0, 0, 4, 0, 0, 0, 0, 1, 0, 0, 4, 0, 4, 0, 0, 0, 0, 0, 0, 0, 0, 0, 2, 0, 4, 4, 3, 0, 0, 0, 0, 3, 0, 4, 2, 1, 2, 0, 0, 1, 2, 0, 0, 0, 2, 4, 1, 0, 3, 4, 2, 1, 3, 4, 0, 3, 4, 0, 0, 4, 0, 4, 1, 0, 4, 4, 4, 1, 1, 0, 0, 0, 2, 0, 0, 2, 4, 2, 0, 3, 0, 4, 0, 0, 0, 0, 2, 0, 0, 1, 0, 0, 0, 3, 4, 0, 0, 1, 2, 2, 0, 1, 0, 1, 2, 0, 2, 4, 0, 1, 3, 4, 0, 0, 0, 1, 0, 4, 0, 0, 0, 2, 0, 4, 1, 1, 3, 0, 1, 4, 1, 0, 0, 0, 1, 0, 0, 0, 2, 0, 0, 4, 0, 2, 0, 0, 4, 0, 4, 0, 0, 0, 0, 2, 0, 0, 2, 2, 3, 0, 4, 3, 2, 4, 0, 1, 4, 0, 0, 0, 0, 0, 3, 0, 4, 0, 0, 0, 0, 0, 0, 0, 0, 1, 0, 0, 0, 1, 4, 0, 0, 0, 1, 1, 0, 0, 0, 3, 0, 0, 2, 4, 2, 0, 0, 0, 1, 0, 0, 0, 0, 3, 0, 0, 0, 2, 0, 0, 4, 0, 2, 0, 0, 0, 2, 0, 2, 0, 0, 4, 1, 1, 0, 0, 0, 0, 4, 4, 0, 4, 0, 4, 0, 0, 0, 0, 2, 0, 4, 0, 4, 0, 2, 2, 0, 3, 3, 0, 3, 0, 4, 2, 0, 4, 0, 2, 0, 0, 3, 0, 3, 2, 0, 0, 0, 0, 1, 0, 2, 0, 0, 0, 0, 4, 0, 0, 4, 0, 0, 0, 0, 2, 2, 2, 4, 0, 1, 2, 1, 0, 3, 2, 1, 4, 2, 0, 4, 0, 4, 3, 0, 2, 0, 2, 0, 3, 2, 0, 3, 1, 4, 3, 0, 0, 1, 0, 0, 0, 0, 1, 1, 2, 0, 0, 0, 3, 0, 1, 2, 2, 0, 0, 2, 0, 0, 4, 4, 0, 0, 0, 4, 0, 0, 0, 0, 0, 2, 0, 0, 4, 0, 0, 2, 3, 0, 0, 0, 0, 0, 0, 4, 1, 0, 0, 2, 4, 0, 2, 1, 1, 0, 0, 0, 2, 0, 2, 3, 0, 3, 0, 3, 0, 1, 0, 0, 2, 0, 0, 0, 0, 2, 0, 0, 2, 2, 3, 0, 2, 0, 0, 0, 0, 0, 0, 4, 0, 0, 4, 0, 0, 3, 0, 4, 0, 0, 3, 2, 3, 2, 0, 0, 0, 0, 4, 3, 0, 0, 4, 0, 0, 0, 4, 2, 0, 0, 1, 0, 2, 0, 2, 0, 0, 4, 0, 0, 0, 0, 0, 1, 2, 4, 2, 0, 2, 4, 4, 0, 4, 1, 0, 0, 3, 4, 0, 4, 2, 0, 3, 0, 0, 0, 2, 0, 2, 4, 1, 4, 4, 1, 0, 0, 0, 3, 2, 0, 0, 1, 0, 3, 2, 0, 0, 1, 0, 3, 0, 0, 0, 2, 0, 3, 0, 0, 2, 3, 0, 0, 4, 0, 1, 0, 0, 0, 4, 0, 0, 0, 0, 0, 0, 1, 4, 4, 0, 0, 4, 0, 0, 0, 0, 0, 0, 2, 0, 0, 0, 0, 0, 0, 2, 0, 0, 0, 0, 0, 1, 2, 3, 4, 0, 0, 0, 2, 4, 0, 0, 4, 0, 1, 1, 0, 4, 0, 0, 0, 0, 2, 0, 2, 2, 0, 1, 0, 0, 0, 0, 0, 1, 0, 0, 4, 0, 0, 0, 0, 1, 3, 4, 2, 0, 0, 3, 2, 4, 4, 0, 0, 1, 3, 0, 2, 1, 2, 0, 0, 0, 0, 1, 0, 4, 4, 0, 4, 3, 4, 0, 2, 0, 3, 4, 0, 2, 3, 0, 0, 1, 1, 0, 3, 2, 0, 4, 0, 0, 1, 0, 0, 0, 0, 3, 0, 0, 2, 0, 0, 0, 0, 2, 0, 1, 0, 0, 1, 4, 0, 0, 2, 0, 2, 1, 0, 1, 0, 0, 1, 2, 4, 0, 3, 2, 0, 0, 0, 0, 2, 0, 4, 0, 0, 0, 2, 4, 0, 0, 0, 0, 3, 1, 0, 3, 4, 4, 0, 2, 0, 0, 0, 0, 1, 4, 0, 4, 1, 0, 0, 3, 1, 0, 3, 0, 3, 3, 0, 0, 3, 0, 0, 0, 0, 0, 4, 0, 0, 0, 4, 0, 4, 0, 1, 0, 1, 3, 0, 0, 2, 1, 2, 3, 1, 1, 4, 2, 0, 0, 0, 1, 0, 0, 0, 4, 0, 2, 0, 0, 2, 4, 3, 1, 0, 1, 0, 4, 0, 0, 0, 3, 0, 0, 0, 0, 0, 0, 1, 0, 0, 2, 0, 2, 0, 1, 0, 0, 4, 2, 0, 3, 4, 0, 0, 1, 0, 0, 0, 0, 0, 3, 0, 2, 0, 3, 4, 1, 0, 2, 4, 1, 0, 1, 0, 0, 0, 0, 2, 2, 2, 2, 0, 0, 0, 0, 0, 0, 0, 0, 0, 0, 2, 1, 0, 1, 0, 0, 2, 0, 0, 3, 0, 4, 0, 3, 1, 2, 1, 0, 2, 0, 0, 1, 0, 0, 0, 3, 0, 0, 1, 3, 0, 3, 2, 0, 0, 2, 0, 4, 2, 0, 0, 0, 3, 0, 2, 0, 0, 0, 0, 0, 1, 3, 0, 4, 2, 3, 4, 0, 3, 4, 0, 0, 0, 2, 4, 0, 0, 3, 0, 1, 0, 0, 0, 0, 0, 2, 0, 0, 2, 4, 1, 4, 1, 4, 0, 0, 0, 2, 2, 1, 0, 4, 1, 0, 0, 1, 0, 0, 0, 0, 2, 0, 2, 0, 0, 0, 2, 2, 1, 4, 0, 0, 4, 1, 4, 1, 0, 0, 2, 2, 0, 0, 0, 2, 0, 1, 1, 2, 3, 0, 0, 0, 3, 1, 0, 0, 0, 0, 0, 1, 0, 4, 0, 3, 0, 4, 0, 0, 0, 2, 0, 2, 1, 1, 2, 0, 0, 1, 0, 0, 0, 1, 4, 1, 0, 0, 0, 0, 0, 3, 2, 0, 2, 1, 0, 0, 0, 4, 0, 2, 0, 0, 4, 3, 0, 0, 1, 3, 4, 2, 0, 0, 0, 0, 4, 0, 0, 4, 0, 2, 0, 0, 0, 2, 0, 0, 0, 0, 0, 4, 0, 4, 1, 0, 2, 0, 0, 0, 3, 0, 2, 0, 3, 0, 4, 0, 1, 0, 2, 0, 0, 4, 2, 2, 0, 0, 0, 0, 3, 0, 0, 2, 0, 0, 0, 4, 0, 1, 0, 0, 4, 0, 0, 4, 0, 4, 0, 0, 0, 4, 0, 4, 4, 0, 0, 1, 0, 2, 4, 0, 3, 0, 0, 0, 0, 0, 2, 0, 0, 4, 1, 0, 2, 0, 4, 2, 0, 0, 0, 4, 3, 0, 0, 0, 2, 0, 2, 0, 0, 4, 0, 3, 0, 4, 0, 2, 4, 0, 0, 0, 0, 0, 0, 0, 0, 0, 4, 0, 0, 3, 0, 1, 0, 3, 1, 0, 3, 0, 1, 0, 0, 0, 1, 0, 0, 0, 0, 0, 0, 0, 3, 4, 0, 0, 0, 1, 4, 0, 0, 4, 2, 2, 0, 3, 1, 0, 0, 4, 0, 0, 0, 0, 4, 0, 4, 2, 3, 0, 0, 0, 0, 1, 4, 4, 2, 0, 4, 0, 4, 0, 4, 0, 2, 1, 0, 4, 0, 0, 4, 0, 1, 1, 1, 0, 0, 4, 0, 0, 3, 0, 2, 0, 1, 0, 0, 0, 2, 0, 0, 0, 2, 0, 0, 0, 0, 0, 0, 3, 3, 0, 0, 2, 0, 0, 1, 0, 0, 3, 1, 2, 0, 0, 0, 0, 0, 0, 0, 0, 0, 0, 2, 0, 0, 2, 3, 0, 0, 1, 0, 2, 0, 0, 3, 3, 0, 0, 0, 1, 4, 2, 0, 0, 0, 4, 2, 2, 2, 1, 3, 2, 4, 0, 3, 0, 0, 0, 0, 0, 0, 0, 0, 0, 0, 2, 0, 0, 4, 0, 0, 0, 3, 1, 2, 0, 2, 0, 2, 2, 0, 0, 3, 0, 0, 1, 0, 0, 0, 0, 0, 3, 0, 0, 0, 0, 1, 0, 1, 0, 3, 2, 0, 0, 0, 3, 0, 2, 0, 0, 4, 0, 1, 3, 0, 0, 4, 0, 0, 0, 0, 0, 0, 3, 0, 1, 0, 0, 0, 0, 0, 1, 0, 3, 1, 0, 1, 3, 0, 2, 2, 0, 2, 0, 2, 0, 1, 0, 0, 0, 0, 2, 0, 1, 4, 0, 4, 2, 0, 3, 0, 0, 0, 0, 4, 0, 2, 0, 0, 1, 0, 3, 0, 0, 4, 0, 1, 0, 0, 0, 0, 0, 4, 2, 0, 0, 1, 0, 0, 0, 0, 0, 0, 0, 0, 0, 0, 0, 0, 1, 1, 2, 0, 0, 2, 4, 0, 0, 4, 0, 0, 3, 3, 2, 0, 0, 0, 0, 0, 4, 0, 0, 0, 0, 0, 0, 0, 3, 0, 0, 0, 0, 0, 1, 0, 3, 3, 0, 0, 0, 4, 4, 0, 4, 0, 2, 2, 0, 0, 1, 1, 3, 0, 4, 4, 2, 0, 0, 4, 0, 0, 0, 0, 0, 4, 0, 1, 0, 0, 2, 0, 0, 0, 3, 4, 0, 0, 0, 1, 0, 0, 0, 4, 0, 4, 0, 4, 0, 1, 0, 0, 0, 2, 4, 0, 4, 0, 2, 0, 0, 2, 0, 2, 0, 0, 0, 3, 4, 4, 0, 0, 0, 0, 4, 0, 2, 2, 3, 4, 3, 4, 4, 2, 0, 0, 4, 0, 0, 0, 0, 0, 0, 1, 0, 4, 4, 1, 1, 2, 3, 0, 0, 2, 3, 4, 0, 2, 0, 0, 3, 1, 0, 0, 3, 0, 0, 0, 4, 3, 0, 1, 0, 0, 0, 0, 2, 4, 2, 1, 4, 0, 0, 3, 1, 4, 0, 3, 0, 0, 4, 1, 4, 4, 0, 0, 0, 4, 2, 2, 3, 0, 0, 0, 2, 0, 0, 1, 3, 4, 1, 0, 2, 0, 4, 0, 2, 3, 0, 0, 0, 3, 0, 0, 0, 0, 0, 4, 3, 4, 1, 1, 3, 0, 3, 0, 0, 2, 3, 0, 2, 0, 0, 0, 0, 0, 2, 1, 0, 0, 2, 0, 2, 4, 0, 0, 1, 3, 0, 0, 4, 0, 4, 3, 0, 0, 0, 0, 0, 0, 4, 2, 0, 0, 0, 1, 0, 0, 0, 3, 0, 3, 3, 3, 1, 0, 1, 0, 3, 0, 4, 0, 3, 0, 0, 0, 0, 4, 0, 0, 4, 0, 1, 0, 2, 1, 0, 4, 0, 0, 2, 4, 1, 1, 0, 0, 0, 4, 0, 0, 0, 0, 0, 0, 0, 0, 4, 0, 0, 0, 3, 2, 3, 0, 3, 3, 0, 0, 4, 2, 0, 0, 0, 4, 0, 0, 0, 1, 0, 0, 0, 1, 0, 4, 0, 3, 0, 4, 2, 2, 1, 2, 0, 0, 3, 0, 0, 1, 3, 0, 4, 3, 0, 0, 0, 0, 0, 2, 4, 3, 1, 0, 0, 3, 2, 0, 3, 0, 0, 4, 0, 0, 0, 3, 3, 2, 4, 0, 0, 4, 4, 4, 0, 0, 0, 0, 4, 0, 4, 0, 0, 0, 0, 0, 0, 4, 0, 4, 0, 2, 0, 0, 0, 3, 0, 0, 0, 0, 0, 4, 0, 3, 4, 1, 0, 2, 1, 0, 0, 0, 0, 3, 0, 0, 0, 0, 4, 0, 0, 2, 3, 2, 0, 0, 0, 2, 2, 0, 0, 0, 3, 4, 2, 2, 1, 2, 0, 3, 3, 3, 0, 0, 2, 4, 0, 0, 3, 2, 0, 3, 0, 3, 0, 0, 0, 0, 1, 0, 0, 0, 0, 0, 2, 0, 0, 0, 4, 2, 0, 4, 0, 0, 0, 0, 2, 2, 3, 0, 0, 1, 0, 0, 0, 3, 0, 0, 0, 0, 0, 0, 0, 0, 0, 2, 2, 4, 4, 0, 0, 0, 0, 1, 4, 0, 0, 0, 3, 1, 0, 0, 0, 0, 0, 2, 0, 0, 2, 0, 0, 4, 4, 0, 0, 0, 4, 0, 0, 4, 1, 2, 0, 0, 4, 4, 3, 2, 2, 0, 4, 1, 0, 4, 0, 4, 0, 0, 0, 0, 2, 0, 1, 0, 1, 0, 2, 0, 0, 0, 0, 4, 0, 4, 0, 0, 2, 0, 3, 4, 0, 0, 0, 4, 0, 3, 4, 0, 0, 0, 1, 0, 0, 4, 4, 3, 3, 0, 0, 0, 0, 1, 0, 4, 1, 0, 3, 0, 1, 0, 1, 4, 2, 2, 0, 2, 4, 4, 2, 0, 0, 4, 2, 0, 0, 0, 2, 3, 0, 0, 0, 0, 0, 1, 0, 0, 0, 0, 1, 4, 0, 0, 3, 4, 0, 4, 4, 0, 1, 0, 1, 4, 4, 1, 3, 0, 4, 0, 0, 0, 0, 0, 2, 2, 0, 1, 0, 0, 4, 3, 4, 0, 3, 4, 0, 4, 0, 0, 0, 0, 1, 2, 1, 2, 0, 0, 0, 4, 4, 3, 4, 0, 0, 0, 0, 2, 0, 0, 3, 1, 0, 0, 0, 0, 0, 0, 0, 0, 0, 0, 3, 3, 0, 2, 4, 0, 0, 0, 4, 1, 0, 1, 4, 1, 0, 4, 0, 0, 3, 4, 2, 2, 0, 0, 4, 0, 0, 2, 0, 4, 0, 0, 0, 1, 0, 1, 0, 4, 0, 0, 0, 2, 0, 2, 0, 2, 0, 4, 3, 4, 0, 3, 0, 4, 3, 4, 2, 0, 4, 0, 2, 0, 2, 0, 0, 3, 0, 0, 0, 0, 0, 0, 0, 0, 0, 3, 1, 0, 3, 0, 4, 3, 1, 0, 1, 0, 0, 1, 2, 0, 0, 0, 2, 4, 1, 2, 0, 4, 0, 3, 4, 0, 0, 3, 0, 0, 0, 0, 0, 2, 0, 0, 0, 0, 0, 0, 0, 0, 2, 2, 0, 0, 0, 0, 0, 4, 0, 0, 0, 0, 2, 0, 0, 4, 0, 2, 3, 2, 0, 4, 4, 0, 0, 0, 4, 0, 0, 0, 4, 3, 0, 2, 1, 0, 0, 0, 0, 0, 1, 2, 2, 1, 4, 0, 0, 2, 2, 4, 1, 0, 0, 0, 0, 0, 0, 4, 0, 4, 1, 0, 2, 0, 1, 0, 0, 0, 0, 0, 0, 0, 0, 0, 1, 0, 2, 0, 0, 0, 4, 1, 0, 1, 1, 3, 0, 4, 0, 4, 0, 0, 2, 0, 3, 0, 0, 0, 0, 4, 0, 3, 0, 2, 0, 4, 0, 2, 0, 3, 0, 4, 4, 0, 0, 3, 4, 4, 0, 0, 0, 0, 0, 1, 4, 0, 0, 0, 3, 4, 2, 2, 0, 0, 3, 4, 4, 1, 4, 0, 3, 0, 2, 0, 0, 0, 0, 2, 2, 2, 2, 2, 0, 0, 2, 0, 1, 0, 0, 0, 0, 3, 0, 0, 0, 0, 3, 2, 2, 2, 0, 0, 0, 0, 0, 2, 4, 3, 1, 0, 2, 0, 0, 0, 0, 0, 0, 1, 2, 4, 4, 3, 0, 0, 0, 0, 0, 3, 1, 0, 0, 0, 1, 4, 0, 0, 0, 0, 0, 2, 3, 2, 1, 4, 4, 0, 0, 0, 0, 0, 2, 0, 0, 2, 4, 4, 2, 0, 0, 0, 0, 0, 0, 0, 4, 4, 3, 0, 1, 2, 2, 0, 4, 1, 3, 4, 0, 0, 0, 0, 3, 4, 0, 0, 1, 4, 0, 4, 0, 2, 0, 0, 4, 0, 4, 4, 1, 0, 0, 3, 0, 0, 3, 2, 0, 0, 0, 4, 4, 2, 0, 3, 3, 2, 0, 3, 0, 0, 0, 0, 0, 0, 4, 0, 0, 4, 0, 4, 0, 3, 0, 0, 0, 2, 2, 1, 2, 0, 0, 0, 4, 0, 0, 3, 0, 0, 0, 0, 0, 0, 3, 0, 1, 2, 0, 0, 0, 0, 0, 3, 3, 3, 4, 0, 0, 3, 0, 0, 0, 3, 1, 0, 0, 0, 3, 2, 0, 1, 0, 0, 0, 0, 0, 0, 0, 0, 3, 2, 0, 0, 0, 0, 2, 4, 0, 0, 3, 0, 4, 0, 0, 0, 4, 0, 2, 0, 0, 0, 0, 0, 0, 0, 0, 0, 0, 2, 0, 2, 0, 0, 4, 0, 0, 0, 0, 4, 1, 0, 0, 0, 0, 0, 0, 2, 0, 0, 0, 0, 2, 0, 4, 3, 0, 0, 4, 0, 0, 0, 0, 3, 0, 0, 1, 0, 0, 0, 0, 0, 0, 0, 0, 0, 0, 3, 0, 0, 3, 0, 0, 4, 0, 2, 0, 2, 0, 0, 0, 0, 0, 0, 0, 0, 1, 0, 4, 4, 0, 0, 2, 0, 1, 4, 0, 0, 0, 0, 0, 0, 3, 3, 0, 3, 0, 2, 1, 3, 2, 0, 2, 0, 0, 0, 2, 2, 1, 0, 0, 0, 0, 0, 0, 4, 1, 0, 3, 3, 2, 0, 0, 1, 0, 0, 0, 3, 0, 0, 4, 0, 0, 0, 3, 0, 1, 0, 2, 4, 0, 0, 0, 1, 4, 4, 3, 2, 0, 0, 0, 0, 4, 0, 2, 0, 0, 0, 2, 4, 4, 1, 0, 4, 0, 0, 1, 0, 0, 0, 0, 1, 0, 0, 4, 0, 0, 0, 0, 2, 3, 0, 0, 1, 0, 0, 1, 0, 3, 2, 0, 2, 0, 1, 0, 3, 4, 0, 0, 0, 0, 1, 0, 4, 0, 0, 0, 1, 0, 4, 2, 0, 1, 4, 0, 0, 2, 0, 2, 0, 0, 3, 0, 0, 2, 2, 0, 1, 0, 0, 4, 1, 0, 0, 0, 2, 0, 0, 0, 3, 0, 4, 2, 2, 2, 0, 4, 3, 0, 0, 1, 3, 4, 3, 0, 0, 0, 4, 0, 4, 0, 4, 0, 4, 4, 0, 0, 0, 0, 3, 4, 4, 1, 0, 2, 0, 0, 0, 0, 0, 0, 0, 0, 3, 3, 2, 0, 4, 2, 0, 0, 0, 0, 1, 0, 0, 0, 0, 1, 0, 2, 0, 2, 0, 1, 2, 0, 4, 0, 0, 0, 0, 4, 2, 0, 0, 0, 0, 0, 0, 0, 3, 0, 3, 0, 0, 2, 0, 0, 0, 2, 0, 0, 0, 0, 0, 2, 0, 0, 4, 0, 0, 4, 2, 0, 0, 1, 0, 4, 0, 0, 0, 0, 3, 4, 4, 3, 0, 0, 0, 4, 0, 3, 0, 2, 4, 0, 0, 0, 0, 0, 4, 2, 1, 0, 0, 2, 4, 1, 0, 0, 0, 4, 3, 0, 1, 4, 0, 4, 4, 4, 0, 1, 4, 2, 2, 1, 0, 0, 0, 0, 0, 4, 0, 0, 4, 0, 0, 4, 3, 0, 2, 0, 0, 1, 4, 0, 0, 2, 0, 0, 4, 0, 0, 0, 2, 4, 0, 0, 0, 2, 4, 2, 0, 0, 0, 0, 0, 1, 0, 0, 2, 1, 1, 0, 0, 0, 1, 0, 0, 0, 1, 0, 3, 0, 0, 0, 0, 2, 1, 0, 2, 3, 0, 0, 2, 0, 4, 0, 0, 0, 4, 0, 2, 0, 0, 0, 0, 0, 0, 0, 2, 3, 0, 0, 3, 4, 3, 0, 4, 3, 0, 4, 0, 0, 0, 2, 4, 4, 2, 0, 0, 3, 4, 4, 1, 1, 4, 0, 2, 0, 0, 1, 1, 2, 0, 3, 0, 0, 0, 4, 0, 4, 4, 0, 0, 3, 0, 4, 0, 0, 4, 2, 1, 0, 0, 2, 4, 1, 4, 4, 0, 1, 0, 0, 0, 2, 1, 0, 0, 0, 0, 3, 4, 0, 4, 0, 0, 3, 0, 0, 0, 1, 3, 4, 4, 4, 0, 0, 4, 0, 4, 2, 2, 4, 4, 4, 1, 2, 4, 1, 0, 2, 2, 0, 2, 2, 0, 0, 2, 2, 0, 0, 0, 4, 0, 0, 0, 0, 0, 0, 0, 3, 0, 0, 0, 1, 0, 0, 1, 0, 0, 4, 0, 0, 1, 0, 0, 3, 0, 4, 1, 2, 0, 0, 0, 0, 0, 0, 4, 0, 0, 0, 0, 0, 0, 0, 4, 4, 0, 1, 0, 4, 3, 0, 1, 0, 0, 0, 0, 0, 0, 2, 4, 0, 0, 0, 0, 0, 0, 3, 0, 0, 0, 4, 1, 0, 0, 1, 0, 0, 0, 0, 0, 1, 0, 4, 3, 0, 3, 0, 0, 3, 1, 0, 4, 0, 0, 0, 0, 0, 4, 1, 2, 0, 0, 4, 3, 3, 0, 0, 0, 2, 0, 0, 0, 2, 0, 0, 0, 0, 1, 3, 0, 0, 0, 0, 0, 4, 4, 0, 1, 0, 4, 3, 0, 3, 0, 2, 0, 2, 3, 0, 0, 3, 0, 0, 3, 4, 0, 0, 2, 4, 1, 3, 2, 3, 0, 4, 0, 0, 1, 0, 0, 0, 3, 4, 0, 3, 0, 0, 3, 4, 0, 0, 0, 3, 1, 0, 0, 4, 0, 0, 0, 0, 1, 0, 0, 4, 4, 0, 0, 1, 2, 3, 1, 4, 0, 3, 0, 0, 0, 0, 4, 0, 0, 4, 3, 4, 0, 4, 0, 4, 0, 4, 0, 3, 4, 0, 0, 0, 4, 4, 0, 1, 2, 0, 0, 2, 0, 0, 1, 0, 0, 0, 0, 4, 0, 0, 0, 0, 0, 3, 1, 0, 0, 4, 0, 0, 4, 2, 0, 4, 0, 0, 0, 3, 0, 0, 0, 0, 0, 3, 0, 0, 4, 0, 0, 0, 0, 4, 0, 0, 0, 0, 0, 4, 0, 0, 3, 0, 0, 0, 0, 0, 0, 0, 2, 0, 4, 2, 4, 0, 2, 0, 0, 4, 0, 0, 4, 2, 3, 4, 0, 0, 2, 0, 0, 0, 4, 0, 0, 0, 3, 0, 4, 0, 0, 2, 0, 0, 0, 4, 0, 0, 0, 4, 1, 4, 0, 0, 3, 1, 0, 2, 3, 4, 1, 2, 4, 0, 0, 0, 0, 0, 3, 0, 0, 0, 0, 1, 0, 2, 1, 2, 4, 0, 0, 0, 0, 0, 0, 0, 0, 4, 0, 2, 2, 0, 0, 4, 0, 0, 3, 3, 0, 0, 3, 0, 0, 0, 1, 2, 0, 4, 0, 2, 2, 0, 3, 4, 3, 4, 0, 0, 0, 3, 0, 0, 0, 4, 0, 0, 3, 0, 0, 0, 0, 0, 1, 0, 0, 0, 0, 4, 3, 0, 3, 4, 0, 0, 4, 4, 0, 3, 0, 0, 2, 0, 0, 0, 0, 0, 0, 4, 4, 2, 0, 0, 2, 1, 0, 0, 0, 0, 0, 0, 0, 3, 2, 0, 1, 0, 2, 0, 0, 0, 2, 2, 0, 2, 0, 0, 0, 0, 3, 0, 0, 4, 4, 4, 4, 0, 0, 4, 0, 4, 4, 2, 0, 4, 0, 4, 0, 4, 3, 0, 0, 0, 0, 0, 3, 1, 4, 0, 0, 0, 0, 0, 0, 0, 1, 2, 0, 0, 0, 0, 0, 4, 0, 4, 0, 2, 0, 2, 0, 4, 0, 2, 1, 3, 0, 0, 0, 4, 4, 0, 1, 0, 2, 0, 0, 0, 0, 4, 0, 0, 0, 0, 4, 0, 2, 0, 4, 0, 0, 1, 0, 2, 0, 0, 4, 1, 4, 0, 0, 0, 0, 0, 2, 3, 0, 4, 2, 0, 0, 0, 2, 0, 0, 0, 0, 4, 0, 0, 2, 0, 0, 0, 4, 0, 0, 4, 4, 2, 0, 2, 0, 2, 0, 0, 0, 4, 0, 0, 0, 2, 0, 0, 0, 3, 0, 0, 2, 0, 0, 0, 3, 3, 0, 0, 2, 0, 0, 0, 0, 4, 0, 4, 2, 0, 2, 0, 3, 0, 0, 1, 3, 4, 0, 2, 4, 0, 1, 1, 0, 0, 0, 0, 0, 4, 4, 0, 1, 0, 3, 0, 0, 0, 0, 0, 0, 0, 0, 1, 0, 2, 0, 4, 4, 0, 0, 4, 0, 4, 2, 0, 1, 0, 3, 0, 0, 0, 0, 0, 0, 0, 4, 0, 0, 0, 0, 0, 0, 3, 0, 0, 0, 2, 0, 0, 3, 2, 3, 0, 0, 0, 1, 0, 0, 0, 0, 2, 0, 0, 0, 3, 4, 0, 4, 0, 2, 2, 0, 0, 0, 0, 0, 4, 1, 0, 0, 0, 0, 2, 0, 0, 0, 1, 0, 2, 0, 0, 2, 0, 4, 0, 4, 0, 0, 3, 0, 4, 0, 1, 4, 0, 0, 4, 0, 0, 0, 0, 4, 2, 4, 0, 0, 0, 2, 4, 1, 0, 0, 2, 0, 2, 0, 0, 0, 0, 2, 2, 0, 2, 0, 4, 3, 2, 1, 0, 2, 0, 0, 0, 4, 0, 2, 0, 0, 0, 2, 0, 0, 0, 4, 2, 0, 0, 4, 0, 0, 2, 0, 2, 0, 2, 2, 0, 2, 0, 4, 0, 0, 0, 0, 0, 0, 0, 3, 0, 3, 4, 2, 0, 0, 0, 0, 0, 0, 0, 4, 0, 0, 0, 0, 0, 2, 0, 0, 0, 0, 2, 0, 1, 0, 0, 3, 3, 2, 3, 2, 3, 4, 0, 3, 0, 0, 2, 0, 2, 0, 0, 0, 0, 0, 2, 0, 0, 0, 1, 0, 0, 1, 2, 0, 3, 0, 0, 2, 0, 4, 4, 0, 0, 3, 2, 1, 0, 4, 2, 0, 2, 0, 4, 3, 3, 2, 0, 0, 4, 1, 1, 1, 3, 3, 0, 0, 0, 0, 1, 4, 0, 0, 0, 0, 1, 0, 2, 1, 2, 0, 4, 4, 0, 2, 0, 0, 0, 1, 0, 1, 0, 1, 0, 0, 0, 4, 0, 0, 2, 0, 0, 0, 3, 3, 0, 2, 0, 0, 0, 0, 4, 0, 0, 4, 3, 2, 4, 0, 1, 0, 2, 0, 0, 0, 0, 3, 4, 0, 4, 0, 0, 0, 2, 0, 0, 0, 0, 4, 2, 0, 0, 0, 0, 0, 3, 4, 2, 0, 0, 0, 1, 2, 2, 1, 4, 0, 1, 0, 4, 0, 0, 4, 1, 0, 2, 1, 4, 4, 1, 2, 2, 0, 4, 0, 0, 0, 0, 2, 4, 0, 0, 0, 0, 0, 2, 0, 0, 0, 0, 3, 0, 0, 2, 0, 0, 0, 0, 0, 3, 0, 1, 0, 0, 0, 0, 4, 2, 2, 0, 0, 0, 0, 0, 0, 0, 2, 4, 0, 3, 3, 4, 0, 1, 0, 0, 4, 0, 0, 4, 0, 4, 0, 2, 3, 0, 0, 0, 0, 1, 0, 1, 4, 0, 0, 1, 0, 0, 0, 4, 2, 1, 0, 1, 4, 0, 0, 0, 4, 0, 0, 0, 4, 4, 1, 2, 4, 0, 0, 0, 2, 0, 0, 0, 1, 2, 0, 0, 0, 2, 0, 4, 0, 0, 0, 2, 0, 0, 0, 4, 4, 0, 1, 4, 0, 1, 0, 0, 0, 0, 2, 3, 0, 2, 1, 0, 0, 2, 4, 4, 0, 0, 0, 1, 0, 2, 0, 0, 0, 0, 0, 0, 4, 4, 0, 4, 4, 0, 4, 0, 2, 0, 3, 0, 4, 0, 0, 4, 4, 1, 0, 0, 0, 0, 0, 1, 2, 0, 0, 0, 0, 0, 0, 0, 0, 0, 0, 0, 0, 2, 2, 0, 1, 4, 0, 0, 0, 0, 0, 1, 4, 0, 1, 4, 0, 4, 2, 0, 1, 0, 0, 1, 4, 0, 0, 4, 0, 3, 0, 2, 2, 2, 4, 0, 0, 1, 4, 2, 0, 0, 0, 0, 2, 2, 0, 4, 0, 0, 0, 4, 0, 0, 0, 0, 2, 1, 0, 4, 1, 0, 0, 0, 0, 0, 0, 0, 0, 0, 2, 2, 4, 2, 4, 4, 0, 0, 0, 0, 3, 0, 0, 2, 1, 0, 0, 1, 0, 0, 0, 0, 0, 0, 0, 4, 0, 0, 0, 3, 1, 0, 0, 0, 0, 0, 0, 0, 0, 3, 0, 0, 4, 2, 3, 1, 0, 1, 4, 2, 4, 0, 0, 2, 0, 1, 1, 4, 0, 3, 1, 0, 0, 0, 0, 3, 0, 4, 0, 0, 0, 0, 0, 0, 4, 0, 2, 0, 0, 0, 0, 0, 1, 4, 4, 0, 3, 4, 1, 0, 4, 4, 3, 0, 2, 0, 4, 0, 0, 0, 0, 4, 4, 0, 0, 0, 0, 4, 1, 0, 0, 0, 1, 2, 0, 2, 2, 0, 0, 0, 0, 3, 0, 2, 0, 0, 0, 0, 0, 0, 0, 0, 3, 0, 0, 0, 1, 1, 0, 0, 0, 1, 0, 0, 0, 0, 0, 1, 0, 0, 4, 0, 0, 0, 0, 0, 2, 3, 2, 0, 1, 3, 0, 0, 2, 1, 1, 0, 2, 0, 0, 3, 0, 1, 4, 1, 2, 2, 0, 3, 4, 2, 0, 0, 2, 0, 0, 0, 0, 1, 1, 0, 0, 1, 4, 0, 0, 4, 0, 0, 2, 1, 0, 1, 0, 0, 4, 2, 0, 1, 0, 4, 0, 3, 4, 1, 0, 0, 0, 0, 0, 0, 0, 2, 0, 4, 0, 2, 3, 0, 0, 4, 0, 4, 0, 0, 0, 0, 2, 0, 0, 0, 4, 0, 2, 2, 0, 0, 0, 1, 3, 1, 3, 0, 0, 0, 2, 4, 0, 0, 0, 0, 0, 4, 2, 0, 0, 0, 1, 1, 0, 3, 0, 0, 1, 3, 4, 4, 1, 1, 0, 4, 2, 0, 0, 0, 4, 2, 0, 0, 2, 2, 2, 4, 0, 0, 2, 3, 1, 1, 0, 0, 0, 2, 0, 0, 0, 2, 0, 4, 4, 0, 0, 0, 0, 3, 0, 1, 3, 0, 4, 0, 0, 0, 0, 4, 0, 0, 1, 4, 0, 0, 2, 1, 3, 0, 0, 0, 0, 0, 4, 0, 0, 0, 0, 4, 0, 3, 3, 3, 1, 0, 3, 0, 0, 0, 0, 1, 0, 0, 2, 0, 0, 2, 0, 2, 0, 2, 0, 4, 3, 0, 0, 0, 0, 4, 0, 0, 0, 1, 0, 0, 0, 0, 0, 0, 0, 0, 4, 0, 2, 4, 4, 0, 0, 2, 2, 4, 0, 1, 0, 0, 0, 0, 0, 4, 0, 3, 0, 0, 1, 3, 0, 0, 0, 0, 2, 0, 0, 0, 0, 0, 0, 0, 0, 0, 1, 0, 4, 0, 0, 0, 0, 0, 0, 3, 0, 1, 0, 1, 2, 0, 0, 0, 0, 0, 0, 0, 1, 0, 1, 0, 2, 2, 0, 0, 1, 0, 0, 0, 0, 4, 0, 0, 0, 2, 0, 0, 0, 1, 4, 0, 0, 0, 0, 1, 0, 0, 1, 0, 4, 2, 1, 1, 0, 4, 2, 0, 2, 0, 0, 0, 4, 0, 0, 0, 2, 4, 0, 1, 0, 0, 0, 0, 0, 1, 3, 0, 2, 0, 2, 0, 2, 0, 3, 4, 2, 1, 3, 4, 0, 4, 0, 0, 0, 4, 4, 0, 3, 0, 0, 0, 3, 4, 0, 4, 0, 0, 0, 0, 0, 4, 0, 0, 0, 0, 3, 0, 0, 1, 4, 0, 0, 4, 4, 3, 0, 4, 4, 1, 2, 0, 1, 0, 0, 0, 0, 2, 0, 2, 2, 4, 0, 1, 2, 2, 1, 2, 3, 0, 0, 0, 0, 0, 0, 0, 0, 1, 0, 2, 0, 2, 0, 0, 2, 4, 0, 0, 3, 3, 0, 0, 1, 3, 0, 4, 0, 0, 0, 4, 0, 0, 3, 0, 2, 0, 4, 0, 4, 0, 4, 1, 4, 0, 0, 3, 0, 0, 3, 4, 0, 0, 0, 0, 1, 0, 0, 0, 0, 4, 0, 0, 2, 3, 0, 3, 0, 4, 0, 2, 1, 0, 4, 0, 1, 0, 4, 0, 4, 0, 4, 2, 0, 0, 0, 2, 0, 4, 2, 0, 1, 0, 0, 0, 4, 4, 2, 2, 0, 3, 4, 3, 4, 2, 2, 2, 4, 0, 0, 2, 3, 4, 0, 0, 3, 0, 0, 4, 0, 4, 4, 4, 0, 2, 0, 0, 0, 3, 0, 1, 0, 4, 2, 0, 4, 0, 2, 0, 4, 0, 0, 0, 4, 3, 0, 0, 4, 0, 0, 3, 0, 0, 0, 4, 0, 1, 2, 0, 3, 2, 0, 4, 0, 1, 4, 2, 3, 0, 1, 0, 0, 0, 0, 2, 2, 0, 4, 1, 1, 0, 4, 2, 0, 2, 1, 0, 0, 1, 0, 0, 0, 0, 0, 2, 2, 2, 0, 4, 2, 0, 1, 0, 1, 1, 0, 0, 1, 1, 1, 0, 4, 0, 4, 3, 1, 1, 0, 0, 0, 0, 0, 2, 3, 0, 0, 0, 3, 1, 0, 3, 0, 0, 2, 4, 2, 2, 2, 2, 4, 2, 4, 4, 0, 0, 3, 0, 4, 0, 0, 0, 3, 0, 4, 2, 0, 4, 2, 0, 0, 4, 0, 0, 0, 0, 0, 0, 4, 0, 4, 1, 4, 4, 4, 2, 0, 4, 2, 2, 3, 0, 0, 0, 4, 0, 0, 0, 0, 2, 1, 4, 3, 0, 0, 0, 1, 4, 4, 4, 2, 3, 0, 0, 0, 3, 0, 4, 2, 1, 0, 2, 0, 0, 4, 0, 1, 0, 0, 1, 0, 2, 0, 0, 2, 0, 0, 4, 0, 2, 0, 3, 0, 0, 0, 0, 0, 4, 0, 4, 3, 0, 2, 0, 1, 2, 4, 1, 1, 4, 0, 4, 0, 2, 1, 0, 3, 0, 1, 2, 3, 1, 0, 0, 4, 4, 2, 0, 0, 1, 0, 4, 0, 0, 0, 4, 1, 0, 3, 3, 4, 0, 0, 0, 0, 0, 0, 2, 0, 0, 0, 3, 0, 1, 0, 0, 3, 1, 3, 1, 0, 1, 0, 0, 0, 0, 3, 0, 0, 4, 0, 0, 2, 2, 4, 0, 0, 0, 4, 4, 1, 0, 4, 4, 2, 4, 0, 0, 3, 0, 0, 3, 0, 0, 0, 0, 0, 1, 1, 1, 0, 0, 0, 0, 2, 0, 0, 1, 0, 0, 0, 0, 0, 0, 2, 3, 0, 0, 4, 4, 0, 4, 0, 0, 0, 0, 2, 0, 1, 0, 1, 0, 0, 2, 0, 3, 2, 0, 0, 0, 0, 3, 0, 0, 0, 4, 2, 3, 0, 4, 0, 0, 0, 4, 0, 1, 1, 0, 0, 1, 1, 0, 0, 0, 3, 0, 0, 2, 0, 3, 2, 0, 0, 4, 0, 0, 4, 0, 0, 1, 2, 0, 0, 1, 3, 0, 4, 0, 1, 0, 4, 3, 0, 0, 4, 0, 0, 0, 3, 0, 0, 3, 1, 2, 4, 4, 0, 0, 0, 4, 0, 0, 0, 0, 0, 0, 1, 0, 0, 0, 4, 3, 2, 4, 0, 0, 0, 2, 2, 0, 0, 2, 0, 1, 2, 0, 0, 4, 0, 1, 0, 0, 0, 0, 0, 0, 0, 1, 0, 0, 0, 4, 1, 4, 0, 1, 0, 4, 0, 0, 1, 0, 0, 1, 0, 2, 0, 1, 2, 0, 2, 1, 0, 0, 0, 4, 1, 0, 0, 0, 0, 0, 0, 2, 4, 0, 0, 0, 1, 1, 0, 0, 4, 4, 0, 0, 0, 4, 2, 0, 0, 0, 1, 0, 0, 0, 0, 1, 0, 0, 0, 3, 3, 3, 2, 0, 1, 0, 0, 3, 1, 0, 1, 2, 3, 0, 0, 0, 0, 3, 0, 2, 0, 0, 0, 0, 4, 1, 4, 0, 0, 2, 1, 2, 0, 0, 2, 0, 3, 3, 0, 3, 1, 3, 0, 4, 2, 3, 0, 2, 0, 0, 2, 0, 0, 0, 0, 0, 4, 4, 0, 0, 0, 3, 2, 0, 4, 4, 1, 3, 4, 0, 4, 0, 4, 0, 0, 0, 0, 4, 4, 4, 4, 1, 0, 0, 2, 1, 0, 0, 0, 1, 2, 4, 2, 3, 3, 0, 2, 0, 4, 1, 0, 2, 2, 1, 0, 2, 0, 1, 3, 0, 3, 2, 4, 0, 2, 0, 2, 2, 4, 0, 3, 0, 0, 0, 2, 0, 0, 0, 0, 3, 1, 0, 1, 4, 4, 1, 1, 0, 1, 2, 0, 0, 0, 0, 0, 0, 0, 4, 0, 0, 0, 4, 0, 3, 0, 2, 1, 0, 1, 0, 0, 4, 0, 4, 0, 2, 0, 0, 3, 1, 4, 0, 0, 1, 2, 0, 3, 0, 0, 0, 4, 0, 4, 0, 0, 0, 4, 3, 0, 1, 0, 2, 0, 0, 0, 0, 3, 0, 0, 0, 2, 0, 2, 2, 0, 3, 0, 0, 0, 0, 4, 3, 2, 3, 1, 0, 0, 0, 0, 0, 0, 2, 0, 0, 3, 2, 0, 4, 0, 4, 1, 0, 1, 3, 0, 3, 0, 0, 0, 0, 4, 1, 0, 0, 0, 1, 2, 0, 4, 1, 0, 2, 0, 0, 0, 2, 0, 0, 4, 0, 3, 1, 0, 0, 0, 4, 0, 2, 1, 0, 2, 0, 4, 1, 4, 0, 0, 2, 0, 0, 1, 4, 4, 0, 0, 0, 0, 0, 3, 4, 3, 0, 4, 0, 0, 4, 2, 0, 0, 2, 0, 2, 3, 2, 2, 0, 0, 4, 1, 0, 2, 0, 4, 4, 0, 1, 4, 0, 0, 2, 0, 2, 0, 0, 4, 0, 4, 0, 1, 0, 0, 0, 0, 0, 0, 4, 3, 0, 0, 0, 2, 4, 0, 0, 0, 0, 1, 3, 1, 4, 4, 0, 2, 0, 0, 0, 1, 0, 4, 2, 2, 0, 4, 0, 2, 4, 0, 2, 1, 4, 0, 3, 0, 2, 0, 0, 4, 4, 0, 0, 0, 0, 0, 0, 0, 0, 0, 0, 0, 3, 0, 0, 0, 0, 4, 0, 4, 3, 2, 1, 0, 4, 1, 0, 4, 3, 1, 0, 2, 0, 0, 0, 2, 0, 0, 1, 3, 0, 0, 0, 0, 0, 0, 4, 0, 0, 0, 0, 2, 4, 0, 0, 0, 0, 0, 2, 4, 0, 0, 0, 0, 2, 3, 0, 3, 0, 0, 0, 3, 4, 0, 0, 1, 0, 0, 0, 2, 0, 0, 0, 0, 4, 1, 2, 2, 1, 4, 2, 0, 0, 2, 0, 0, 0, 3, 1, 3, 2, 0, 1, 3, 0, 0, 0, 0, 2, 0, 2, 2, 0, 0, 0, 0, 1, 4, 1, 1, 0, 0, 0, 0, 4, 0, 0, 0, 3, 0, 0, 0, 0, 0, 0, 0, 3, 0, 0, 0, 0, 0, 0, 0, 0, 0, 0, 0, 0, 0, 0, 0, 0, 0, 0, 0, 0, 0, 0, 0, 0, 0, 0, 0, 0, 0, 0, 0, 0, 0, 0, 0, 0, 0, 0, 0, 0, 0, 0, 0, 0, 0, 0, 0, 0, 0, 0, 0, 0, 0, 0, 0, 3, 0, 0, 0, 0, 0, 0, 0, 0, 0, 0, 0, 0, 0, 0, 0, 0, 0, 0, 0, 0, 0, 0, 0, 0, 0, 3, 0, 0, 0, 0, 0, 0, 0, 0, 0, 0, 0, 0, 0, 0, 0, 0, 0, 0, 0, 0, 0, 0, 0, 0, 0, 0, 0, 0, 0, 0, 0, 0, 0, 0, 0, 0, 0, 0, 3, 0, 0, 0, 0, 0, 3, 0, 0, 0, 0, 0, 0, 0, 0, 0, 3, 0, 0, 0, 0, 0, 0, 3, 3, 0, 0, 0, 0, 0, 0, 0, 0, 0, 0, 0, 0, 0, 0, 0, 0, 0, 0, 0, 0, 0, 0, 0, 0, 0, 0, 0, 0, 3, 3, 0, 0, 0, 0, 0, 0, 0, 0, 0, 0, 0, 0, 0, 0, 0, 0, 0, 0, 0, 0, 0, 0, 0, 0, 0, 0, 0, 0, 0, 0, 3, 3, 0, 0, 0, 0, 0, 0, 0, 0, 0, 0, 0, 0, 0, 0, 0, 0, 0, 0, 0, 0, 0, 0, 0, 0, 0, 0, 0, 0, 0, 0, 0, 0, 0, 0, 0, 0, 0, 0, 0, 0, 0, 0, 0, 0, 0, 0, 0, 0, 0, 0, 0, 0, 0, 0, 0, 0, 0, 0, 0, 0, 0, 3, 0, 0, 3, 0, 0, 0, 0, 0, 0, 0, 0, 0, 0, 0, 0, 0, 0, 0, 0, 0, 3, 0, 0, 0, 0, 0, 0, 0, 0, 0, 0, 0, 0, 0, 0, 0, 0, 0, 0, 0, 0, 0, 0, 3, 0, 0, 0, 0, 0, 0, 0, 0, 0, 0, 0, 3, 0, 0, 0, 0, 0, 0, 0, 0, 0, 0, 0, 0, 0, 0, 0, 0, 0, 0, 0, 0, 0, 0, 0, 0, 0, 0, 0, 0, 0, 0, 0, 0, 3, 0, 0, 0, 0, 0, 0, 0, 0, 0, 0, 0, 0, 0, 0, 0, 0, 0, 0, 0, 0, 0, 3, 0, 0, 0, 0, 0, 0, 0, 0, 0, 0, 0, 0, 0, 0, 0, 0, 0, 0, 0, 0, 0, 0, 0, 0, 0, 0, 0, 0, 0, 0, 0, 0, 0, 0, 0, 0, 0, 0, 0, 0, 0, 0, 0, 0, 0, 0, 0, 3, 0, 0, 0, 0, 0, 0, 0, 0, 0, 0, 0, 0, 0, 0, 0, 0, 0, 0, 0, 0, 0, 0, 3, 0, 0, 0, 0, 0, 0, 0, 0, 0, 0, 0, 0, 0, 0, 0, 0, 0, 0, 0, 0, 0, 0, 0, 0, 0, 0, 0, 0, 0, 0, 0, 0, 0, 0, 0, 0, 0, 0, 0, 0, 0, 0, 0, 0, 0, 0, 0, 0, 0, 0, 0, 0, 0, 0, 0, 0, 0, 0, 0, 0, 0, 0, 0, 0, 0, 0, 0, 0, 0, 0, 0, 0, 0, 0, 0, 0, 0, 0, 0, 0, 0, 0, 0, 0, 0, 0, 0, 0, 0, 0, 0, 0, 0, 0, 0, 0, 0, 0, 0, 0, 0, 0, 0, 0, 0, 0, 0, 0, 0, 0, 0, 0, 0, 0, 0, 0, 0, 0, 0, 0, 0, 0, 0, 0, 0, 0, 0, 0, 0, 0, 0, 0, 0, 0, 0, 0, 0, 0, 0, 0, 0, 0, 0, 0, 0, 0, 0, 0, 3, 3, 0, 0, 0, 0, 0, 0, 0, 0, 0, 0, 0, 0, 0, 0, 0, 0, 0, 0, 0, 0, 0, 0, 0, 0, 0, 0, 0, 0, 0, 0, 0, 0, 0, 0, 0, 0, 0, 0, 0, 0, 0, 0, 0, 0, 0, 0, 0, 0, 0, 0, 0, 0, 0, 0, 0, 0, 0, 3, 0, 0, 0, 0, 0, 0, 0, 0, 0, 0, 0, 0, 0, 0, 0, 0, 0, 0, 0, 0, 0, 0, 0, 0, 0, 0, 0, 0, 0, 0, 0, 0, 0, 0, 0, 0, 0, 0, 0, 0, 0, 0, 0, 0, 0, 0, 0, 0, 0, 0, 0, 0, 0, 0, 0, 0, 0, 0, 0, 0, 0, 0, 0, 0, 0, 0, 0, 0, 0, 0, 0, 0, 0, 0, 0, 0, 0, 0, 0, 0, 0, 0, 0, 0, 0, 0, 0, 0, 0, 0, 0, 0, 0, 0, 0, 0, 0, 0, 0, 0, 0, 0, 0, 0, 0, 0, 0, 0, 0, 0, 0, 3, 0, 0, 0, 0, 0, 0, 0, 0, 0, 0, 3, 0, 0, 0, 0, 0, 0, 0, 0, 0, 0, 0, 0, 0, 0, 0, 0, 0, 0, 0, 0, 0, 0, 0, 0, 0, 0, 0, 0, 0, 0, 0, 0, 0, 0, 0, 0, 0, 0, 0, 0, 0, 0, 0, 0, 0, 0, 0, 0, 0, 0, 0, 0, 0, 0, 0, 0, 0, 0, 0, 0, 0, 0, 0, 0, 0, 0, 0, 0, 0, 0, 0, 0, 0, 0, 0, 0, 0, 0, 0, 0, 0, 0, 0, 0, 0, 0, 0, 0, 0, 3, 0, 0, 0, 0, 0, 0, 0, 0, 0, 0, 0, 0, 0, 0, 0, 0, 0, 0, 0, 0, 0, 0, 0, 0, 3, 0, 0, 0, 0, 0, 0, 0, 0, 0, 0, 0, 0, 0, 0, 0, 0, 0, 0, 0, 0, 0, 0, 0, 0, 0, 0, 0, 0, 0, 0, 0, 0, 0, 0, 0, 0, 0, 0, 0, 0, 0, 0, 0, 0, 0, 0, 0, 0, 0, 0, 0, 0, 0, 0, 0, 3, 0, 0, 0, 0, 0, 0, 0, 0, 0, 0, 0, 0, 0, 0, 0, 0, 0, 0, 0, 0, 0, 0, 0, 0, 0, 0, 0, 0, 0, 0, 0, 0, 0, 0, 0, 0, 0, 0, 0, 0, 0, 0, 0, 0, 0, 0, 0, 0, 0, 0, 0, 0, 0, 0, 0, 0, 0, 0, 0, 0, 0, 0, 0, 0, 0, 0, 0, 0, 0, 0, 0, 0, 0, 0, 0, 0, 0, 0, 0, 0, 0, 0, 0, 0, 0, 3, 0, 0, 0, 0, 0, 0, 0, 0, 0, 0, 0, 0, 0, 0, 0, 0, 0, 0, 0, 0, 0, 0, 0, 0, 0, 0, 0, 0, 0, 0, 0, 0, 0, 0, 0, 0, 0, 0, 0, 0, 0, 0, 0, 0, 0, 0, 0, 0, 0, 0, 0, 0, 0, 0, 3, 0, 0, 0, 0, 0, 0, 0, 0, 0, 0, 0, 0, 0, 0, 0, 0, 0, 0, 0, 0, 0, 0, 0, 0, 0, 0, 0, 0, 0, 0, 0, 0, 0, 0, 0, 0, 0, 0, 0, 3, 0, 0, 0, 0, 0, 0, 0, 0, 0, 0, 0, 0, 0, 0, 0, 0, 3, 0, 0, 0, 0, 0, 0, 0, 0, 0, 0, 3, 0, 0, 0, 0, 0, 0, 0, 0, 0, 0, 0, 0, 0, 0, 0, 0, 0, 0, 0, 0, 0, 0, 0, 0, 0, 0, 0, 0, 0, 0, 0, 0, 0, 0, 0, 0, 0, 0, 0, 0, 0, 0, 0, 0, 0, 0, 0, 0, 0, 0, 0, 0, 0, 0, 0, 0, 0, 0, 0, 0, 0, 0, 0, 0, 0, 0, 0, 0, 0, 0, 0, 0, 0, 0, 0, 0, 0, 0, 0, 0, 0, 0, 0, 0, 0, 0, 0, 0, 0, 0, 0, 0, 0, 0, 0, 0, 0, 0, 0, 0, 0, 0, 0, 0, 0, 0, 0, 0, 0, 0, 0, 0, 0, 0, 0, 0, 0, 0, 3, 0, 0, 0, 0, 0, 0, 0, 0, 0, 0, 0, 0, 0, 0, 0, 0, 0, 0, 0, 0, 0, 0, 0, 0, 0, 0, 0, 0, 0, 0, 0, 0, 0, 0, 0, 0, 0, 0, 0, 0, 0, 0, 0, 0, 0, 0, 0, 0, 0, 0, 0, 0, 0, 0, 0, 0, 0, 0, 0, 0, 0, 0, 0, 0, 0, 0, 0, 0, 0, 0, 0, 0, 0, 0, 0, 0, 0, 0, 0, 0, 0, 0, 0, 0, 0, 3, 0, 0, 0, 0, 0, 0, 0, 0, 3, 0, 0, 0, 0, 0, 0, 0, 0, 0, 0, 0, 0, 0, 0, 0, 0, 0, 0, 0, 0, 0, 0, 0, 0, 0, 0, 0, 0, 0, 0, 0, 0, 0, 0, 0, 0, 0, 0, 0, 0, 0, 0, 0, 0, 0, 0, 0, 0, 0, 0, 0, 0, 0, 0, 0, 0, 0, 0, 0, 0, 0, 0, 0, 0, 0, 0, 0, 0, 0, 0, 0, 0, 0, 0, 0, 0, 3, 0, 0, 0, 0, 0, 0, 0, 0, 0, 0, 0, 0, 0, 0, 0, 0, 0, 0, 0, 0, 0, 0, 0, 0, 0, 0, 0, 0, 0, 0, 0, 0, 0, 0, 0, 0, 0, 0, 0, 0, 0, 0, 0, 0, 0, 0, 0, 0, 0, 0, 0, 0, 0, 0, 0, 0, 0, 0, 0, 0, 0, 0, 0, 0, 0, 0, 0, 0, 0, 0, 0, 0, 0, 0, 0, 0, 0, 0, 0, 0, 0, 0, 0, 0, 0, 0, 0, 0, 0, 0, 0, 0, 0, 0, 0, 0, 0, 0, 0, 0, 0, 0, 0, 0, 0, 0, 0, 0, 0, 0, 0, 0, 0, 0, 0, 0, 0, 0, 0, 0, 0, 0, 0, 0, 0, 0, 0, 0, 0, 0, 0, 0, 0, 0, 0, 0, 0, 0, 0, 0, 0, 0, 0, 0, 0, 0, 0, 3, 0, 0, 0, 0, 0, 0, 0, 0, 0, 0, 0, 0, 0, 0, 0, 0, 0, 0, 0, 0, 0, 0, 0, 0, 0, 0, 0, 0, 0, 0, 0, 0, 0, 0, 0, 0, 0, 0, 0, 0, 0, 0, 0, 0, 0, 0, 0, 0, 0, 0, 0, 0, 0, 0, 0, 0, 0, 0, 0, 0, 0, 0, 0, 0, 0, 0, 0, 0, 0, 0, 0, 0, 0, 0, 0, 0, 0, 0, 0, 0, 0, 0, 0, 0, 0, 0, 0, 0, 0, 0, 0, 0, 0, 0, 0, 0, 0, 0, 0, 0, 0, 0, 0, 0, 0, 0, 0, 0, 0, 0, 0, 0, 0, 0, 0, 0, 0, 0, 0, 0, 0, 0, 0, 0, 0, 0, 0, 0, 0, 0, 0, 0, 0, 0, 0, 0, 0, 0, 3, 0, 0, 0, 0, 0, 0, 0, 0, 0, 0, 0, 0, 0, 0, 0, 0, 0, 0, 0, 0, 0, 0, 0, 0, 0, 0, 0, 0, 0, 3, 0, 0, 0, 0, 0, 0, 0, 0, 0, 0, 0, 0, 0, 0, 0, 0, 0, 0, 0, 0, 0, 0, 0, 0, 0, 0, 0, 0, 0, 3, 0, 0, 0, 0, 0, 0, 0, 0, 0, 0, 3, 0, 0, 0, 0, 0, 0, 0, 0, 0, 0, 0, 0, 0, 0, 0, 0, 3, 0, 0, 0, 0, 0, 0, 0, 0, 0, 0, 0, 0, 0, 0, 0, 0, 0, 0, 0, 0, 0, 0, 0, 0, 0, 3, 0, 0, 0, 0, 0, 0, 0, 0, 0, 0, 0, 0, 0, 0, 0, 0, 0, 0, 0, 0, 0, 0, 3, 0, 0, 0, 0, 0, 0, 3, 0, 0, 0, 0, 0, 3, 0, 0, 0, 0, 0, 0, 0, 0, 0, 0, 0, 0, 0, 0, 0, 0, 0, 0, 0, 0, 0, 0, 0, 0, 0, 0, 0, 0, 0, 0, 3, 0, 0, 0, 0, 0, 0, 0, 0, 0, 0, 0, 0, 0, 0, 0, 0, 0, 0, 0, 0, 0, 3, 0, 0, 0, 0, 0, 3, 0, 0, 0, 0, 0, 0, 0, 0, 0, 0, 3, 0, 0, 0, 0, 0, 0, 0, 0, 0, 0, 0, 0, 0, 0, 0, 0, 0, 0, 0, 0, 0, 3, 0, 0, 0, 0, 0, 0, 0, 0, 0, 0, 0, 0, 0, 0, 0, 0, 0, 0, 0, 0, 0, 0, 0, 0, 0, 0, 0, 0, 0, 0, 0, 0, 0, 0, 0, 0, 0, 0, 0, 0, 0, 0, 0, 0, 0, 0, 0, 0, 0, 3, 0, 0, 0, 0, 0, 0, 0, 0, 0, 3, 0, 0, 0, 0, 0, 0, 0, 0, 0, 0, 0, 0, 0, 0, 0, 0, 0, 3, 0, 0, 0, 0, 0, 0, 0, 0, 0, 0, 0, 0, 0, 0, 0, 0, 0, 0, 0, 0, 0, 0, 0, 0, 0, 0, 0, 0, 0, 0, 0, 0, 0, 0, 0, 0, 0, 0, 0, 0, 0, 0, 0, 0, 0, 0, 0, 0, 0, 0, 0, 0, 0, 0, 0, 0, 0, 0, 0, 0, 0, 0, 0, 0, 0, 0, 0, 0, 0, 0, 0, 0, 0, 0, 0, 0, 0, 0, 0, 0, 0, 0, 0, 0, 0, 0, 0, 0, 0, 0, 0, 0, 0, 0, 0, 0, 0, 0, 0, 0, 3, 0, 0, 0, 0, 0, 0, 0, 3, 0, 0, 0, 0, 0, 0, 0, 0, 3, 0, 0, 0, 0, 0, 0, 0, 0, 0, 0, 0, 0, 0, 0, 0, 0, 0, 0, 0, 0, 0, 0, 0, 0, 0, 0, 0, 0, 0, 0, 0, 0, 0, 0, 0, 0, 0, 0, 0, 0, 0, 0, 0, 0, 0, 0, 0, 0, 0, 0, 3, 0, 0, 0, 0, 0, 0, 0, 0, 0, 0, 0, 0, 0, 0, 0, 0, 0, 0, 0, 0, 0, 0, 0, 0, 0, 0, 0, 0, 0, 0, 0, 0, 0, 0, 0, 0, 0, 0, 0, 0, 0, 0, 0, 0, 0, 0, 0, 0, 0, 0, 0, 0, 0, 0, 0, 0, 0, 0, 0, 0, 0, 0, 0, 0, 0, 0, 0, 0, 0, 3, 0, 0, 0, 0, 3, 0, 0, 0, 0, 0, 0, 0, 0, 0, 0, 0, 0, 0, 0, 0, 0, 0, 0, 0, 0, 0, 0, 0, 0, 0, 0, 0, 0, 0, 0, 0, 0, 0, 0, 0, 0, 0, 0, 0, 3, 0, 0, 0, 3, 0, 0, 0, 0, 0, 0, 0, 0, 0, 0, 0, 0, 0, 0, 0, 0, 0, 0, 0, 0, 0, 0, 0, 0, 0, 0, 0, 0, 0, 0, 0, 0, 0, 0, 0, 0, 0, 0, 0, 0, 0, 0, 0, 0, 0, 0, 0, 0, 0, 0, 0, 0, 0, 0, 0, 0, 0, 0, 0, 0, 0, 0, 0, 0, 0, 0, 0, 0, 0, 0, 0, 0, 0, 0, 0, 0, 0, 0, 0, 0, 0, 0, 0, 0, 0, 0, 0, 0, 0, 0, 0, 0, 0, 0, 0, 0, 0, 0, 0, 0, 0, 0, 0, 0, 0, 3, 0, 0, 0, 0, 0, 0, 0, 0, 0, 0, 0, 0, 3, 0, 0, 0, 0, 0, 0, 0, 0, 3, 0, 0, 0, 3, 0, 0, 0, 0, 0, 0, 0, 0, 0, 0, 0, 3, 0, 0, 0, 0, 0, 0, 0, 0, 0, 0, 0, 0, 0, 0, 0, 0, 0, 0, 0, 0, 0, 0, 0, 0, 0, 0, 0, 0, 0, 0, 0, 0, 0, 0, 3, 0, 0, 0, 0, 0, 0, 0, 0, 0, 0, 0, 0, 0, 0, 0, 0, 0, 0, 0, 0, 0, 0, 0, 0, 0, 0, 0, 0, 0, 0, 0, 0, 0, 0, 0, 0, 0, 0, 0, 0, 0, 0, 0, 0, 0, 0, 0, 0, 0, 0, 0, 0, 0, 0, 0, 0, 0, 0, 0, 0, 0, 0, 0, 3, 0, 0, 0, 0, 0, 0, 0, 0, 0, 0, 0, 0, 0, 0, 0, 0, 0, 3, 0, 0, 0, 0, 0, 0, 0, 0, 0, 0, 0, 0, 0, 0, 0, 0, 3, 0, 0, 0, 0, 0, 0, 0, 0, 0, 0, 0, 0, 3, 0, 0, 0, 0, 0, 0, 0, 0, 0, 0, 0, 0, 0, 0, 0, 0, 0, 0, 0, 0, 0, 0, 0, 0, 0, 0, 0, 0, 0, 0, 0, 0, 0, 0, 0, 0, 0, 0, 0, 0, 0, 0, 0, 0, 0, 0, 0, 0, 0, 0, 0, 0, 0, 0, 0, 0, 0, 0, 0, 0, 0, 0, 0, 0, 0, 0, 0, 3, 0, 0, 0, 0, 0, 0, 0, 0, 0, 0, 0, 0, 0, 0, 0, 0, 0, 0, 0, 0, 0, 0, 0, 0, 0, 0, 0, 0, 0, 0, 0, 0, 0, 0, 0, 0, 0, 0, 0, 0, 0, 0, 0, 0, 3, 0, 0, 0, 0, 0, 0, 0, 0, 0, 0, 0, 3, 0, 3, 0, 0, 0, 0, 3, 0, 0, 0, 0, 0, 0, 0, 0, 0, 0, 0, 0, 0, 0, 0, 0, 0, 0, 0, 0, 0, 0, 0, 0, 0, 0, 0, 0, 0, 0, 0, 0, 0, 0, 0, 0, 3, 0, 0, 0, 0, 0, 0, 0, 0, 0, 0, 0, 0, 0, 0, 0, 0, 0, 3, 0, 0, 0, 0, 0, 0, 0, 0, 0, 0, 0, 0, 0, 0, 0, 0, 0, 0, 0, 0, 0, 0, 0, 0, 0, 0, 0, 0, 0, 0, 0, 0, 0, 0, 0, 0, 0, 0, 0, 0, 0, 0, 0, 0, 0, 0, 0, 0, 0, 0, 0, 0, 0, 0, 0, 0, 0, 0, 0, 0, 0, 0, 0, 0, 0, 0, 0, 0, 0, 0, 0, 0, 0, 0, 0, 0, 0, 0, 0, 0, 0, 0, 0, 0, 0, 0, 0, 0, 0, 0, 0, 0, 0, 0, 0, 0, 0, 0, 0, 0, 0, 0, 0, 0, 0, 0, 0, 0, 0, 0, 0, 0, 0, 0, 0, 0, 0, 0, 0, 0, 0, 0, 0, 0, 0, 0, 0, 0, 0, 0, 0, 0, 0, 0, 0, 0, 0, 0, 0, 0, 0, 0, 0, 0, 0, 0, 0, 0, 0, 0, 0, 0, 0, 0, 0, 0, 0, 0, 0, 0, 0, 0, 0, 0, 0, 0, 3, 0, 0, 0, 0, 0, 0, 0, 0, 0, 0, 0, 0, 0, 0, 0, 0, 0, 0, 0, 0, 0, 0, 0, 0, 0, 0, 0, 0, 0, 0, 0, 0, 0, 0, 0, 0, 3, 0, 0, 0, 0, 0, 0, 0, 0, 0, 0, 0, 0, 3, 0, 0, 0, 0, 0, 3, 0, 0, 0, 0, 0, 0, 0, 0, 0, 0, 0, 0, 0, 0, 0, 0, 0, 0, 0, 0, 0, 0, 0, 0, 0, 0, 0, 0, 0, 0, 0, 0, 0, 0, 0, 0, 0, 0, 0, 0, 0, 0, 0, 0, 0, 0, 0, 0, 0, 0, 0, 0, 0, 0, 0, 0, 0, 0, 0, 0, 0, 0, 0, 0, 0, 0, 0, 0, 0, 0, 0, 0, 0, 0, 0, 0, 0, 0, 0, 0, 0, 0, 0, 0, 0, 0, 0, 3, 0, 0, 0, 0, 0, 0, 0, 0, 0, 0, 0, 0, 0, 0, 0, 0, 0, 0, 0, 0, 0, 0, 0, 0, 0, 0, 0, 0, 0, 0, 0, 0, 0, 0, 0, 0, 0, 0, 0, 0, 0, 0, 0, 0, 0, 0, 0, 0, 0, 0, 0, 0, 0, 0, 0, 0, 0, 0, 0, 0, 0, 0, 0, 0, 3, 0, 0, 0, 0, 0, 0, 0, 0, 0, 0, 0, 0, 3, 0, 0, 0, 0, 0, 0, 0, 0, 0, 0, 0, 0, 3, 0, 0, 0, 0, 0, 0, 3, 0, 0, 0, 0, 0, 0, 0, 0, 0, 0, 0, 0, 0, 0, 0, 0, 0, 0, 0, 0, 0, 0, 0, 0, 0, 0, 0, 0, 0, 0, 0, 0, 0, 0, 0, 0, 0, 0, 0, 0, 0, 0, 0, 0, 0, 0, 0, 0, 0, 0, 0, 0, 0, 0, 0, 0, 0, 0, 0, 0, 0, 0, 0, 0, 0, 0, 0, 0, 0, 0, 0, 0, 0, 0, 0, 0, 0, 0, 0, 0, 0, 0, 0, 0, 0, 0, 0, 0, 0, 0, 0, 0, 0, 0, 0, 0, 0, 0, 0, 0, 0, 0, 0, 0, 0, 0, 0, 0, 0, 0, 0, 0, 0, 0, 0, 0, 0, 0, 0, 0, 0, 0, 0, 0, 0, 0, 0, 0, 0, 0, 0, 0, 0, 0, 0, 0, 0, 0, 0, 0, 0, 0, 0, 0, 0, 0, 0, 0, 0, 0, 0, 0, 0, 0, 0, 0, 0, 0, 0, 0, 0, 0, 0, 0, 0, 0, 0, 0, 0, 0, 0, 0, 0, 0, 0, 0, 0, 0, 0, 0, 0, 0, 0, 0, 0, 0, 0, 0, 0, 0, 0, 0, 0, 0, 0, 0, 0, 0, 0, 0, 0, 0, 0, 0, 0, 0, 0, 0, 0, 0, 0, 0, 0, 0, 0, 0, 0, 0, 0, 0, 0, 0, 0, 0, 0, 0, 0, 0, 0, 0, 0, 0, 0, 0, 0, 0, 0, 0, 0, 0, 0, 0, 0, 0, 0, 0, 0, 0, 0, 0, 0, 0, 0, 0, 0, 0, 0, 0, 0, 0, 0, 0, 0, 0, 0, 0, 0, 0, 0, 0, 0, 0, 0, 0, 0, 0, 0, 0, 0, 0, 0, 0, 0, 0, 0, 0, 0, 0, 0, 0, 0, 0, 0, 0, 0, 0, 0, 0, 0, 0, 0, 0, 0, 0, 0, 0, 0, 0, 0, 0, 0, 0, 0, 0, 0, 0, 0, 0, 0, 0, 0, 0, 0, 0, 0, 0, 0, 0, 0, 0, 0, 0, 0, 0, 0, 0, 0, 0, 0, 0, 0, 0, 0, 0, 0, 0, 0, 0, 0, 0, 0, 0, 0, 0, 0, 0, 0, 0, 0, 0, 0, 0, 0, 0, 0, 0, 0, 0, 0, 0, 0, 0, 0, 0, 0, 0, 0, 0, 0, 0, 0, 0, 0, 0, 0, 0, 0, 0, 0, 0, 0, 0, 0, 0, 0, 0, 0, 0, 0, 0, 0, 0, 0, 0, 0, 0, 0, 0, 0, 0, 0, 0, 0, 0, 0, 0, 0, 0, 0, 0, 0, 0, 0, 0, 0, 0, 0, 0, 0, 0, 0, 0, 0, 0, 0, 0, 0, 0, 0, 0, 0, 0, 0, 0, 0, 0, 0, 0, 0, 0, 0, 0, 0, 0, 0, 0, 0, 0, 0, 0, 0, 0, 0, 0, 0, 0, 0, 0, 0, 0, 0, 0, 0, 0, 0, 0, 0, 0, 0, 0, 0, 0, 0, 0, 0, 0, 0, 0, 0, 0, 0, 0, 0, 0, 0, 0, 0, 0, 0, 0, 0, 0, 0, 0, 0, 0, 0, 0, 0, 0, 0, 0, 0, 0, 0, 0, 0, 0, 0, 0, 0, 0, 0, 0, 0, 0, 0, 0, 0, 0, 0, 0, 0, 0, 0, 0, 0, 0, 0, 0, 0, 0, 0, 0, 0, 0, 0, 0, 0, 0, 0, 0, 0, 0, 0, 0, 0, 0, 0, 0, 0, 0, 0, 0, 0, 0, 0, 0, 0, 0, 0, 0, 0, 0, 0, 0, 0, 0, 0, 0, 0, 0, 0, 0, 0, 0, 0, 0, 0, 0, 0, 0, 0, 0, 0, 0, 0, 0, 0, 0, 0, 0, 0, 0, 0, 0, 0, 0, 0, 0, 0, 0, 0, 0, 0, 0, 0, 0, 0, 0, 0, 0, 0, 0, 0, 0, 0, 0, 0, 0, 0, 0, 0, 0, 0, 0, 0, 0, 0, 0, 0, 0, 0, 0, 0, 0, 0, 0, 0, 0, 0, 0, 0, 0, 0, 0, 0, 0, 0, 0, 0, 0, 0, 0, 0, 0, 0, 0, 0, 0, 0, 0, 0, 0, 0, 0, 0, 0, 0, 0, 0, 0, 0, 0, 0, 0, 0, 0, 0, 0, 0, 0, 0, 0, 0, 0, 0, 0, 0, 0, 0, 0, 0, 0, 0, 0, 0, 0, 0, 0, 0, 0, 0, 0, 0, 0, 0, 0, 0, 0, 0, 0, 0, 0, 0, 0, 0, 0, 0, 0, 0, 0, 0, 0, 0, 0, 0, 0, 0, 0, 0, 0, 0, 0, 0, 0, 0, 0, 0, 0, 0, 0, 0, 0, 0, 0, 0, 0, 0, 0, 0, 0, 0, 0, 0, 0, 0, 0, 0, 0, 0, 0, 0, 0, 0, 0, 0, 0, 0, 0, 0, 0, 0, 0, 0, 0, 0, 0, 0, 0, 0, 0, 0, 0, 0, 0, 0, 0, 0, 0, 0, 0, 0, 0, 0, 0, 0, 0, 0, 0, 0, 0, 0, 0, 0, 0, 0, 0, 0, 0, 0, 0, 0, 0, 0, 0, 0, 0, 0, 0, 0, 0, 0, 0, 0, 0, 0, 0, 0, 0, 0, 0, 0, 0, 0, 0, 0, 0, 0, 0, 0, 0, 0, 0, 0, 0, 0, 0, 0, 0, 0, 0, 0, 0, 0, 0, 0, 0, 0, 0, 0, 0, 0, 0, 0, 0, 0, 0, 0, 0, 0, 0, 0, 0, 0, 0, 0, 0, 0, 0, 0, 0, 0, 0, 0, 0, 0, 0, 0, 0, 0, 0, 0, 0, 0, 0, 0, 0, 0, 0, 0, 0, 0, 0, 0, 0, 0, 0, 0, 0, 0, 0, 0, 0, 0, 0, 0, 0, 0, 0, 0, 0, 0, 0, 0, 0, 0, 0, 0, 0, 0, 0, 0, 0, 0, 0, 0, 0, 0, 0, 0, 0, 0, 0, 0, 0, 0, 0, 0, 0, 0, 0, 0, 0, 0, 0, 0, 0, 0, 0, 0, 0, 0, 0, 0, 0, 0, 0, 0, 0, 0, 0, 0, 0, 0, 0, 0, 0, 0, 0, 0, 0, 0, 0, 0, 0, 0, 0, 0, 0, 0, 0, 0, 0, 0, 0, 0, 0, 0, 0, 0, 0, 0, 0, 0, 0, 0, 0, 0, 0, 0, 0, 0, 0, 0, 0, 0, 0, 0, 0, 0, 0, 0, 0, 0, 0, 0, 0, 0, 0, 0, 0, 0, 0, 0, 0, 0, 0, 0, 0, 0, 0, 0, 0, 0, 0, 0, 0, 0, 0, 0, 0, 0, 0, 0, 0, 0, 0, 0, 0, 0, 0, 0, 0, 0, 0, 0, 0, 0, 0, 0, 0, 0, 0, 0, 0, 0, 0, 0, 0, 0, 0, 0, 0, 0, 0, 0, 0, 0, 0, 0, 0, 0, 0, 0, 0, 0, 0, 0, 0, 0, 0, 0, 0, 0, 0, 0, 0, 0, 0, 0, 0, 0, 0, 0, 0, 0, 0, 0, 0, 0, 0, 0, 0, 0, 0, 0, 0, 0, 0, 0, 0, 0, 0, 0, 0, 0, 0, 0, 0, 0, 0, 0, 0, 0, 0, 0, 0, 0, 0, 0, 0, 0, 0, 0, 0, 0, 0, 0, 0, 0, 0, 0, 0, 0, 0, 0, 0, 0, 0, 0, 0, 0, 0, 0, 0, 0, 0, 0, 0, 0, 0, 0, 0, 0, 0, 0, 0, 0, 0, 0, 0, 0, 0, 0, 0, 0, 0, 0, 0, 0, 0, 0, 0, 0, 0, 0, 0, 0, 0, 0, 0, 0, 0, 0, 0, 0, 0, 0, 0, 0, 0, 0, 0, 0, 0, 0, 0, 0, 0, 0, 0, 0, 0, 0, 0, 0, 0, 0, 0, 0, 0, 0, 0, 0, 0, 0, 0, 0, 0, 0, 0, 0, 0, 0, 0, 0, 0, 0, 0, 0, 0, 0, 0, 0, 0, 0, 0, 0, 0, 0, 0, 0, 0, 0, 0, 0, 0, 0, 0, 0, 0, 0, 0, 0, 0, 0, 0, 0, 0, 0, 0, 0, 0, 0, 0, 0, 0, 0, 0, 0, 0, 0, 0, 0, 0, 0, 0, 0, 0, 0, 0, 0, 0, 0, 0, 0, 0, 0, 0, 0, 0, 0, 0, 0, 0, 0, 0, 0, 0, 0, 0, 0, 0, 0, 0, 0, 0, 0, 0, 0, 0, 0, 0, 0, 0, 0, 0, 0, 0, 0, 0, 0, 0, 0, 0, 0, 0, 0, 0, 0, 0, 0, 0, 0, 0, 0, 0, 0, 0, 0, 0, 0, 0, 0, 0, 0, 0, 0, 0, 0, 0, 0, 0, 0, 0, 0, 0, 0, 0, 0, 0, 0, 0, 0, 0, 0, 0, 0, 0, 0, 0, 0, 0, 0, 0, 0, 0, 0, 0, 0, 0, 0, 0, 0, 0, 0, 0, 0, 0, 0, 0, 0, 0, 0, 0, 0, 0, 0, 0, 0, 0, 0, 0, 0, 0, 0, 0, 0, 0, 0, 0, 0, 0, 0, 0, 0, 0, 0, 0, 0, 0, 0, 0, 0, 0, 0, 0, 0, 0, 0, 0, 0, 0, 0, 0, 0, 0, 0, 0, 0, 0, 0, 0, 0, 0, 0, 0, 0, 0, 0, 0, 0, 0, 0, 0, 0, 0, 0, 0, 0, 0, 0, 0, 0, 0, 0, 0, 0, 0, 0, 0, 0, 0, 0, 0, 0, 0, 0, 0, 0, 0, 0, 0, 0, 0, 0, 0, 0, 0, 0, 0, 0, 0, 0, 0, 0, 0, 0, 0, 0, 0, 0, 0, 0, 0, 0, 0, 0, 0, 0, 0, 0, 0, 0, 0, 0, 0, 0, 0, 0, 0, 0, 0, 0, 0, 0, 0, 0, 0, 0, 0, 0, 0, 0, 0, 0, 0, 0, 0, 0, 0, 0, 0, 0, 0, 0, 0, 0, 0, 0, 0, 0, 0, 0, 0, 0, 0, 0, 0, 0, 0, 0, 0, 0, 0, 0, 0, 0, 0, 0, 0, 0, 0, 0, 0, 0, 0, 0, 0, 0, 0, 0, 0, 0, 0, 0, 0, 0, 0, 0, 0, 0, 0, 0, 0, 0, 0, 0, 0, 0, 0, 0, 0, 0, 0, 0, 0, 0, 0, 0, 0, 0, 0, 0, 0, 0, 0, 0, 0, 0, 0, 0, 0, 0, 0, 0, 0, 0, 0, 0, 0, 0, 0, 0, 0, 0, 0, 0, 0, 0, 0, 0, 0, 0, 0, 0, 0, 0, 0, 0, 0, 0, 0, 0, 0, 0, 0, 0, 0, 0, 0, 0, 0, 0, 0, 0, 0, 0, 0, 0, 0, 0, 0, 0, 0, 0, 0, 0, 0, 0, 0, 0, 0, 0, 0, 0, 0, 0, 0, 0, 0, 0, 0, 0, 0, 0, 0, 0, 0, 0, 0, 0, 0, 0, 0, 0, 0, 0, 0, 0, 0, 0, 0, 0, 0, 0, 0, 0, 0, 0, 0, 0, 0, 0, 0, 0, 0, 0, 0, 0, 0, 0, 0, 0, 0, 0, 0, 0, 0, 0, 0, 0, 0, 0, 0, 0, 0, 0, 0, 0, 0, 0, 0, 0, 0, 0, 0, 0, 0, 0, 0, 0, 0, 0, 0, 0, 0, 0, 0, 0, 0, 0, 0, 0, 0, 0, 0, 0, 0, 0, 0, 0, 0, 0, 0, 0, 0, 0, 0, 0, 0, 0, 0, 0, 0, 0, 0, 0, 0, 0, 0, 0, 0, 0, 0, 0, 0, 0, 0, 0, 0, 0, 0, 0, 0, 0, 0, 0, 0, 0, 0, 0, 0, 0, 0, 0, 0, 0, 0, 0, 0, 0, 0, 0, 0, 0, 0, 0, 0, 0, 0, 0, 0, 0, 0, 0, 0, 0, 0, 0, 0, 0, 0, 0, 0, 0, 0, 0, 0, 0, 0, 0, 0, 0, 0, 0, 0, 0, 0, 0, 0, 0, 0, 0, 0, 0, 0, 0, 0, 0, 0, 0, 0, 0, 0, 0, 0, 0, 0, 0, 0, 0, 0, 0, 0, 0, 0, 0, 0, 0, 0, 0, 0, 0, 0, 0, 0, 0, 0, 0, 0, 0, 0, 0, 0, 0, 0, 0, 0, 0, 0, 0, 0, 0, 0, 0, 0, 0, 0, 0, 0, 0, 0, 0, 0, 0, 0, 0, 0, 0, 0, 0, 0, 0, 0, 0, 0, 0, 0, 0, 0, 0, 0, 0, 0, 0, 0, 0, 0, 0, 0, 0, 0, 0, 0, 0, 0, 0, 0, 0, 0, 0, 0, 0, 0, 0, 0, 0, 0, 0, 0, 0, 0, 0, 0, 0, 0, 0, 0, 0, 0, 0, 0, 0, 0, 0, 0, 0, 0, 0, 0, 0, 0, 0, 0, 0, 0, 0, 0, 0, 0, 0, 0, 0, 0, 0, 0, 0, 0, 0, 0, 0, 0, 0, 0, 0, 0, 0, 0, 0, 0, 0, 0, 0, 0, 0, 0, 0, 0, 0, 0, 0, 0, 0, 0, 0, 0, 0, 0, 0, 0, 0, 0, 0, 0, 0, 0, 0, 0, 0, 0, 0, 0, 0, 0, 0, 0, 0, 0, 0, 0, 0, 0, 0, 0, 0, 0, 0, 0, 0, 0, 0, 0, 0, 0, 0, 0, 0, 0, 0, 0, 0, 0, 0, 0, 0, 0, 0, 0, 0, 0, 0, 0, 0, 0, 0, 0, 0, 0, 0, 0, 0, 0, 0, 0, 0, 0, 0, 0, 0, 0, 0, 0, 0, 0, 0, 0, 0, 0, 0, 0, 0, 0, 0, 0, 0, 0, 0, 0, 0, 0, 0, 0, 0, 0, 0, 0, 0, 0, 0, 0, 0, 0, 0, 0, 0, 0, 0, 0, 0, 0, 0, 0, 0, 0, 0, 0, 0, 0, 0, 0, 0, 0, 0, 0, 0, 0, 0, 0, 0, 0, 0, 0, 0, 0, 0, 0, 0, 0, 0, 0, 0, 0, 0, 0, 0, 0, 0, 0, 0, 0, 0, 0, 0, 0, 0, 0, 0, 0, 0, 0, 0, 0, 0, 0, 0, 0, 0, 0, 0, 0, 0, 0, 0, 0, 0, 0, 0, 0, 0, 0, 0, 0, 0, 0, 0, 0, 0, 0, 0, 0, 0, 0, 0, 0, 0, 0, 0, 0, 0, 0, 0, 0, 0, 0, 0, 0, 0, 0, 0, 0, 0, 0, 0, 0, 0, 0, 0, 0, 0, 0, 0, 0, 0, 0, 0, 0, 0, 0, 0, 0, 0, 0, 0, 0, 0, 0, 0, 0, 0, 0, 0, 0, 0, 0, 0, 0, 0, 0, 0, 0, 0, 0, 0, 0, 0, 0, 0, 0, 0, 0, 0, 0, 0, 0, 0, 0, 0, 0, 0, 0, 0, 0, 0, 0, 0, 0, 0, 0, 0, 0, 0, 0, 0, 0, 0, 0, 0, 0, 0, 0, 0, 0, 0, 0, 0, 0, 0, 0, 0, 0, 0, 0, 0, 0, 0, 0, 0, 0, 0, 0, 0, 0, 0, 0, 0, 0, 0, 0, 0, 0, 0, 0, 0, 0, 0, 0, 0, 0, 0, 0, 0, 0, 0, 0, 0, 0, 0, 0, 0, 0, 0, 0, 0, 0, 0, 0, 0, 0, 0, 0, 0, 0, 0, 0, 0, 0, 0, 0, 0, 0, 0, 0, 0, 0, 0, 0, 0, 0, 0, 0, 0, 0, 0, 0, 0, 0, 0, 0, 0, 0, 0, 0, 0, 0, 0, 0, 0, 0, 0, 0, 0, 0, 0, 0, 0, 0, 0, 0, 0, 0, 0, 0, 0, 0, 0, 0, 0, 0, 0, 0, 0, 0, 0, 0, 0, 0, 0, 0, 0, 0, 0, 0, 0, 0, 0, 0, 0, 0, 0, 0, 0, 0, 0, 0, 0, 0, 0, 0, 0, 0, 0, 0, 0, 0, 0, 0, 0, 0, 0, 0, 0, 0, 0, 0, 0, 0, 0, 0, 0, 0, 0, 0, 0, 0, 0, 0, 0, 0, 0, 0, 0, 0, 0, 0, 0, 0, 0, 0, 0, 0, 0, 0, 0, 0, 0, 0, 0, 0, 0, 0, 0, 0, 0, 0, 0, 0, 0, 0, 0, 0, 0, 0, 0, 0, 0, 0, 0, 0, 0, 0, 0, 0, 0, 0, 0, 0, 0, 0, 0, 0, 0, 0, 0, 0, 0, 0, 0, 0, 0, 0, 0, 0, 0, 0, 0, 0, 0, 0, 0, 0, 0, 0, 0, 0, 0, 0, 0, 0, 0, 0, 0, 0, 0, 0, 0, 0, 0, 0, 0, 0, 0, 0, 0, 0, 0, 0, 0, 0, 0, 0, 0, 0, 0, 0, 0, 0, 0, 0, 0, 0, 0, 0, 0, 0, 0, 0, 0, 0, 0, 0, 0, 0, 0, 0, 0, 0, 0, 0, 0, 0, 0, 0, 0, 0, 0, 0, 0, 0, 0, 0, 0, 0, 0, 0, 0, 0, 0, 0, 0, 0, 0, 0, 0, 0, 0, 0, 0, 0, 0, 0, 0, 0, 0, 0, 0, 0, 0, 0, 0, 0, 0, 0, 0, 0, 0, 0, 0, 0, 0, 0, 0, 0, 0, 0, 0, 0, 0, 0, 0, 0, 0, 0, 0, 0, 0, 0, 0, 0, 0, 0, 0, 0, 0, 0, 0, 0, 0, 0, 0, 0, 0, 0, 0, 0, 0, 0, 0, 0, 0, 0, 0, 0, 0, 0, 0, 0, 0, 0, 0, 0, 0, 0, 0, 0, 0, 0, 0, 0, 0, 0, 0, 0, 0, 0, 0, 0, 0, 0, 0, 0, 0, 0, 0, 0, 0, 0, 0, 0, 0, 0, 0, 0, 0, 0, 0, 0, 0, 0, 0, 0, 0, 0, 0, 0, 0, 0, 0, 0, 0, 0, 0, 0, 0, 0, 0, 0, 0, 0, 0, 0, 0, 0, 0, 0, 0, 0, 0, 0, 0, 0, 0, 0, 0, 0, 0, 0, 0, 0, 0, 0, 0, 0, 0, 0, 0, 0, 0, 0, 0, 0, 0, 0, 0, 0, 0, 0, 0, 0, 0, 0, 0, 0, 0, 0, 0, 0, 0, 0, 0, 0, 0, 0, 0, 0, 0, 0, 0, 0, 0, 0, 0, 0, 0, 0, 0, 0, 0, 0, 0, 0, 0, 0, 0, 0, 0, 0, 0, 0, 0, 0, 0, 0, 0, 0, 0, 0, 0, 0, 0, 0, 0, 0, 0, 0, 0, 0, 0, 0, 0, 0, 0, 0, 0, 0, 0, 0, 0, 0, 0, 0, 0, 0, 0, 0, 0, 0, 0, 0, 0, 0, 0, 0, 0, 0, 0, 0, 0, 0, 0, 0, 0, 0, 0, 0, 0, 0, 0, 0, 0, 0, 0, 0, 0, 0, 0, 0, 0, 0, 0, 0, 0, 0, 0, 0, 0, 0, 0, 0, 0, 0, 0, 0, 0, 0, 0, 0, 0, 0, 0, 0, 0, 0, 0, 0, 0, 0, 0, 0, 0, 0, 0, 0, 0, 0, 0, 0, 0, 0, 0, 0, 0, 0, 0, 0, 0, 0, 0, 0, 0, 0, 0, 0, 0, 0, 0, 0, 0, 0, 0, 0, 0, 0, 0, 0, 0, 0, 0, 0, 0, 0, 0, 0, 0, 0, 0, 0, 0, 0, 0, 0, 0, 0, 0, 0, 0, 0, 0, 0, 0, 0, 0, 0, 0, 0, 0, 0, 0, 0, 0, 0, 0, 0, 0, 0, 0, 0, 0, 0, 0, 0, 0, 0, 0, 0, 0, 0, 0, 0, 0, 0, 0, 0, 0, 0, 0, 0, 0, 0, 0, 0, 0, 0, 0, 0, 0, 0, 0, 0, 0, 0, 0, 0, 0, 0, 0, 0, 0, 0, 0, 0, 0, 0, 0, 0, 0, 0, 0, 0, 0, 0, 0, 0, 0, 0, 0, 0, 0, 0, 0, 0, 0, 0, 0, 0, 0, 0, 0, 0, 0, 0, 0, 0, 0, 0, 0, 0, 0, 0, 0, 0, 0, 0, 0, 0, 0, 0, 0, 0, 0, 0, 0, 0, 0, 0, 0, 0, 0, 0, 0, 0, 0, 0, 0, 0, 0, 0, 0, 0, 0, 0, 0, 0, 0, 0, 0, 0, 0, 0, 0, 0, 0, 0, 0, 0, 0, 0, 0, 0, 0, 0, 0, 0, 0, 0, 0, 0, 0, 0, 0, 0, 0, 0, 0, 0, 0, 0, 0, 0, 0, 0, 0, 0, 0, 0, 0, 0, 0, 0, 0, 0, 0, 0, 0, 0, 0, 0, 0, 0, 0, 0, 0, 0, 0, 0, 0, 0, 0, 0, 0, 0, 0, 0, 0, 0, 0, 0, 0, 0, 0, 0, 0, 0, 0, 0, 0, 0, 0, 0, 0, 0, 0, 0, 0, 0, 0, 0, 0, 0, 0, 0, 0, 0, 0, 0, 0, 0, 0, 0, 0, 0, 0, 0, 0, 0, 0, 0, 0, 0, 0, 0, 0, 0, 0, 0, 0, 0, 0, 0, 0, 0, 0, 0, 0, 0, 0, 0, 0, 0, 0, 0, 0, 0, 0, 0, 0, 0, 0, 0, 0, 0, 0, 0, 0, 0, 0, 0, 0, 0, 0, 0, 0, 0, 0, 0, 0, 0, 0, 0, 0, 0, 0, 0, 0, 0, 0, 0, 0, 0, 0, 0, 0, 0, 0, 0, 0, 0, 0, 0, 0, 0, 0, 0, 0, 0, 0, 0, 0, 0, 0, 0, 0, 0, 0, 0, 0, 0, 0, 0, 0, 0, 0, 0, 0, 0, 0, 0, 0, 0, 0, 0, 0, 0, 0, 0, 0, 0, 0, 0, 0, 0, 0, 0, 0, 0, 0, 0, 0, 0, 0, 0, 0, 0, 0, 0, 0, 0, 0, 0, 0, 0, 0, 0, 0, 0, 0, 0, 0, 0, 0, 0, 0, 0, 0, 0, 0, 0, 0, 0, 0, 0, 0, 0, 0, 0, 0, 0, 0, 0, 0, 0, 0, 0, 0, 0, 0, 0, 0, 0, 0, 0, 0, 0, 0, 0, 0, 0, 0, 0, 0, 0, 0, 0, 0, 0, 0, 0, 0, 0, 0, 0, 0, 0, 0, 0, 0, 0, 0, 0, 0, 0, 0, 0, 0, 0, 0, 0, 0, 0, 0, 0, 0, 0, 0, 0, 0, 0, 0, 0, 0, 0, 0, 0, 0, 0, 0, 0, 0, 0, 0, 0, 0, 0, 0, 0, 0, 0, 0, 0, 0, 0, 0, 0, 0, 0, 0, 0, 0, 0, 0, 0, 0, 0, 0, 0, 0, 0, 0, 0, 0, 0, 0, 0, 0, 0, 0, 0, 0, 0, 0, 0, 0, 0, 0, 0, 0, 0, 0, 0, 0, 0, 0, 0, 0, 0, 0, 0, 0, 0, 0, 0, 0, 0, 0, 0, 0, 0, 0, 0, 0, 0, 0, 0, 0, 0, 0, 0, 0, 0, 0, 0, 0, 0, 0, 0, 0, 0, 0, 0, 0, 0, 0, 0, 0, 0, 0, 0, 0, 0, 0, 0, 0, 0, 0, 0, 0, 0, 0, 0, 0, 0, 0, 0, 0, 0, 0, 0, 0, 0, 0, 0, 0, 0, 0, 0, 0, 0, 0, 0, 0, 0, 0, 0, 0, 0, 0, 0, 0, 0, 0, 0, 0, 0, 0, 0, 0, 0, 0, 0, 0, 0, 0, 0, 0, 0, 0, 0, 0, 0, 0, 0, 0, 0, 0, 0, 0, 0, 0, 0, 0, 0, 0, 0, 0, 0, 0, 0, 0, 0, 0, 0, 0, 0, 0, 0, 0, 0, 0, 0, 0, 0, 0, 0, 0, 0, 0, 0, 0, 0, 0, 0, 0, 0, 0, 0, 0, 0, 0, 0, 0, 0, 0, 0, 0, 0, 0, 0, 0, 0, 0, 0, 0, 0, 0, 0, 0, 0, 0, 0, 0, 0, 0, 0, 0, 0, 0, 0, 0, 0, 0, 0, 0, 0, 0, 0, 0, 0, 0, 0, 0, 0, 0, 0, 0, 0, 0, 0, 0, 0, 0, 0, 0, 0, 0, 0, 0, 0, 0, 0, 0, 0, 0, 0, 0, 0, 0, 0, 0, 0, 0, 0, 0, 0, 0, 0, 0, 0, 0, 0, 0, 0, 0, 0, 0, 0, 0, 0, 0, 0, 0, 0, 0, 0, 0, 0, 0, 0, 0, 0, 0, 0, 0, 0, 0, 0, 0, 0, 0, 0, 0, 0, 0, 0, 0, 0, 0, 0, 0, 0, 0, 0, 0, 0, 0, 0, 0, 0, 0, 0, 0, 0, 0, 0, 0, 0, 0, 0, 0, 0, 0, 0, 0, 0, 0, 0, 0, 0, 0, 0, 0, 0, 0, 0, 0, 0, 0, 0, 0, 0, 0, 0, 0, 0, 0, 0, 0, 0, 0, 0, 0, 0, 0, 0, 0, 0, 0, 0, 0, 0, 0, 0, 0, 0, 0, 0, 0, 0, 0, 0, 0, 0, 0, 0, 0, 0, 0, 0, 0, 0, 0, 0, 0, 0, 0, 0, 0, 0, 0, 0, 0, 0, 0, 0, 0, 0, 0, 0, 0, 0, 0, 0, 0, 0, 0, 0, 0, 0, 0, 0, 0, 0, 0, 0, 0, 0, 0, 0, 0, 0, 0, 0, 0, 0, 0, 0, 0, 0, 0, 0, 0, 0, 0, 0, 0, 0, 0, 0, 0, 0, 0, 0, 0, 0, 0, 0, 0, 0, 0, 0, 0, 0, 0, 0, 0, 0, 0, 0, 0, 0, 0, 0, 0, 0, 0, 0, 0, 0, 0, 0, 0, 0, 0, 0, 0, 0, 0, 0, 0, 0, 0, 0, 0, 0, 0, 0, 0, 0, 0, 0, 0, 0, 0, 0, 0, 0, 0, 0, 0, 0, 0, 0, 0, 0, 0, 0, 0, 0, 0, 0, 0, 0, 0, 0, 0, 0, 0, 0, 0, 0, 0, 0, 0, 0, 0, 0, 0, 0, 0, 0, 0, 0, 0, 0, 0, 0, 0, 0, 0, 0, 0, 0, 0, 0, 0, 0, 0, 0, 0, 0, 0, 0, 0, 0, 0, 0, 0, 0, 0, 0, 0, 0, 0, 0, 0, 0, 0, 0, 0, 0, 0, 0, 0, 0, 0, 0, 0, 0, 0, 0, 0, 0, 0, 0, 0, 0, 0, 0, 0, 0, 0, 0, 0, 0, 0, 0, 0, 0, 0, 0, 0, 0, 0, 0, 0, 0, 0, 0, 0, 0, 0, 0, 0, 0, 0, 0, 0, 0, 0, 0, 0, 0, 0, 0, 0, 0, 0, 0, 0, 0, 0, 0, 0, 0, 0, 0, 0, 0, 0, 0, 0, 0, 0, 0, 0, 0, 0, 0, 0, 0, 0, 0, 0, 0, 0, 0, 0, 0, 0, 0, 0, 0, 0, 0, 0, 0, 0, 0, 0, 0, 0, 0, 0, 0, 0, 0, 0, 0, 0, 0, 0, 0, 0, 0, 0, 0, 0, 0, 0, 0, 0, 0, 0, 0, 0, 0, 0, 0, 0, 0, 0, 0, 0, 0, 0, 0, 0, 0, 0, 0, 0, 0, 0, 0, 0, 0, 0, 0, 0, 0, 0, 0, 0, 0, 0, 0, 0, 0, 0, 0, 0, 0, 0, 0, 0, 0, 0, 0, 0, 0, 0, 0, 0, 0, 0, 0, 0, 0, 0, 0, 0, 0, 0, 0, 0, 0, 0, 0, 0, 0, 0, 0, 0, 0, 0, 0, 0, 0, 0, 0, 0, 0, 0, 0, 0, 0, 0, 0, 0, 0, 0, 0, 0, 0, 0, 0, 0, 0, 0, 0, 0, 0, 0, 0, 0, 0, 0, 0, 0, 0, 0, 0, 0, 0, 0, 0, 0, 0, 0, 0, 0, 0, 0, 0, 0, 0, 0, 0, 0, 0, 0, 0, 0, 0, 0, 0, 0, 0, 0, 0, 0, 0, 0, 0, 0, 0, 0, 0, 0, 0, 0, 0, 0, 0, 0, 0, 0, 0, 0, 0, 0, 0, 0, 0, 0, 0, 0, 0, 0, 0, 0, 0, 0, 0, 0, 0, 0, 0, 0, 0, 0, 0, 0, 0, 0, 0, 0, 0, 0, 0, 0, 0, 0, 0, 0, 0, 0, 0, 0, 0, 0, 0, 0, 0, 0, 0, 0, 0, 0, 0, 0, 0, 0, 0, 0, 0, 0, 0, 0, 0, 0, 0, 0, 0, 0, 0, 0, 0, 0, 0, 0, 0, 0, 0, 0, 0, 0, 0, 0, 0, 0, 0, 0, 0, 0, 0, 0, 0, 0, 0, 0, 0, 0, 0, 0, 0, 0, 0, 0, 0, 0, 0, 0, 0, 0, 0, 0, 0, 0, 0, 0, 0, 0, 0, 0, 0, 0, 0, 0, 0, 0, 0, 0, 0, 0, 0, 0, 0, 0, 0, 0, 0, 0, 0, 0, 0, 0, 0, 0, 0, 0, 0, 0, 0, 0, 0, 0, 0, 0, 0, 0, 0, 0, 0, 0, 0, 0, 0, 0, 0, 0, 0, 0, 0, 0, 0, 0, 0, 0, 0, 0, 0, 0, 0, 0, 0, 0, 0, 0, 0, 0, 0, 0, 0, 0, 0, 0, 0, 0, 0, 0, 0, 0, 0, 0, 0, 0, 0, 0, 0, 0, 0, 0, 0, 0, 0, 0, 0, 0, 0, 0, 0, 0, 0, 0, 0, 0, 0, 0, 0, 0, 0, 0, 0, 0, 0, 0, 0, 0, 0, 0, 0, 0, 0, 0, 0, 0, 0, 0, 0, 0, 0, 0, 0, 0, 0, 0, 0, 0, 0, 0, 0, 0, 0, 0, 0, 0, 0, 0, 0, 0, 0, 0, 0, 0, 0, 0, 0, 0, 0, 0, 0, 0, 0, 0, 0, 0, 0, 0, 0, 0, 0, 0, 0, 0, 0, 0, 0, 0, 0, 0, 0, 0, 0, 0, 0, 0, 0, 0, 0, 0, 0, 0, 0, 0, 0, 0, 0, 0, 0, 0, 0, 0, 0, 0, 0, 0, 0, 0, 0, 0, 0, 0, 0, 0, 0, 0, 0, 0, 0, 0, 0, 0, 0, 0, 0, 0, 0, 0, 0, 0, 0, 0, 0, 0, 0, 0, 0, 0, 0, 0, 0, 0, 0, 0, 0, 0, 0, 0, 0, 0, 0, 0, 0, 0, 0, 0, 0, 0, 0, 0, 0, 0, 0, 0, 0, 0, 0, 0, 0, 0, 0, 0, 0, 0, 0, 0, 0, 0, 0, 0, 0, 0, 0, 0, 0, 0, 0, 0, 0, 0, 0, 0, 0, 0, 0, 0, 0, 0, 0, 0, 0, 0, 0, 0, 0, 0, 0, 0, 0, 0, 0, 0, 0, 0, 0, 0, 0, 0, 0, 0, 0, 0, 0, 0, 0, 0, 0, 0, 0, 0, 0, 0, 0, 0, 0, 0, 0, 0, 0, 0, 0, 0, 0, 0, 0, 0, 0, 0, 0, 0, 0, 0, 0, 0, 0, 0, 0, 0, 0, 0, 0, 0, 0, 0, 0, 0, 0, 0, 0, 0, 0, 0, 0, 0, 0, 0, 0, 0, 0, 0, 0, 0, 0, 0, 0, 0, 0, 0, 0, 0, 0, 0, 0, 0, 0, 0, 0, 0, 0, 0, 0, 0, 0, 0, 0, 0, 0, 0, 0, 0, 0, 0, 0, 0, 0, 0, 0, 0, 0, 0, 0, 0, 0, 0, 0, 0, 0, 0, 0, 0, 0, 0, 0, 0, 0, 0, 0, 0, 0, 0, 0, 0, 0, 0, 0, 0, 0, 0, 0, 0, 0, 0, 0, 0, 0, 0, 0, 0, 0, 0, 0, 0, 0, 0, 0, 0, 0, 0, 0, 0, 0, 0, 0, 0, 0, 0, 0, 0, 0, 0, 0, 0, 0, 0, 0, 0, 0, 0, 0, 0, 0, 0, 0, 0, 0, 0, 0, 0, 0, 0, 0, 0, 0, 0, 0, 0, 0, 0, 0, 0, 0, 0, 0, 0, 0, 0, 0, 0, 0, 0, 0, 0, 0, 0, 0, 0, 0, 0, 0, 0, 0, 0, 0, 0, 0, 0, 0, 0, 0, 0, 0, 0, 0, 0, 0, 0, 0, 0, 0, 0, 0, 0, 0, 0, 0, 0, 0, 0, 0, 0, 0, 0, 0, 0, 0, 0, 0, 0, 0, 0, 0, 0, 0, 0, 0, 0, 0, 0, 0, 0, 0, 0, 0, 0, 0, 0, 0, 0, 0, 0, 0, 0, 0, 0, 0, 0, 0, 0, 0, 0, 0, 0, 0, 0, 0, 0, 0, 0, 0, 0, 0, 0, 0, 0, 0, 0, 0, 0, 0, 0, 0, 0, 0, 0, 0, 0, 0, 0, 0, 0, 0, 0, 0, 0, 0, 0, 0, 0, 0, 0, 0, 0, 0, 0, 0, 0, 0, 0, 0, 0, 0, 0, 0, 0, 0, 0, 0, 0, 0, 0, 0, 0, 0, 0, 0, 0, 0, 0, 0, 0, 0, 0, 0, 0, 0, 0, 0, 0, 0, 0, 0, 0, 0, 0, 0, 0, 0, 0, 0, 0, 0, 0, 0, 0, 0, 0, 0, 0, 0, 0, 0, 0, 0, 0, 0, 0, 0, 0, 0, 0, 0, 0, 0, 0, 0, 0, 0, 0, 0, 0, 0, 0, 0, 0, 0, 0, 0, 0, 0, 0, 0, 0, 0, 0, 0, 0, 0, 0, 0, 0, 0, 0, 0, 0, 0, 0, 0, 0, 0, 0, 0, 0, 0, 0, 0, 0, 0, 0, 0, 0, 0, 0, 0, 0, 0, 0, 0, 0, 0, 0, 0, 0, 0, 0, 0, 0, 0, 0, 0, 0, 0, 0, 0, 0, 0, 0, 0, 0, 0, 0, 0, 0, 0, 0, 0, 0, 0, 0, 0, 0, 0, 0, 0, 0, 0, 0, 0, 0, 0, 0, 0, 0, 0, 0, 0, 0, 0, 0, 0, 0, 0, 0, 0, 0, 0, 0, 0, 0, 0, 0, 0, 0, 0, 0, 0, 0, 0, 0, 0, 0, 0, 0, 0, 0, 0, 0, 0, 0, 0, 0, 0, 0, 0, 0, 0, 0, 0, 0, 0, 0, 0, 0, 0, 0, 0, 0, 0, 0, 0, 0, 0, 0, 0, 0, 0, 0, 0, 0, 0, 0, 0, 0, 0, 0, 0, 0, 0, 0, 0, 0, 0, 0, 0, 0, 0, 0, 0, 0, 0, 0, 0, 0, 0, 0, 0, 0, 0, 0, 0, 0, 0, 0, 0, 0, 0, 0, 0, 0, 0, 0, 0, 0, 0, 0, 0, 0, 0, 0, 0, 0, 0, 0, 0, 0, 0, 0, 0, 0, 0, 0, 0, 0, 0, 0, 0, 0, 0, 0, 0, 0, 0, 0, 0, 0, 0, 0, 0, 0, 0, 0, 0, 0, 0, 0, 0, 0, 0, 0, 0, 0, 0, 0, 0, 0, 0, 0, 0, 0, 0, 0, 0, 0, 0, 0, 0, 0, 0, 0, 0, 0, 0, 0, 0, 0, 0, 0, 0, 0, 0, 0, 0, 0, 0, 0, 0, 0, 0, 0, 0, 0, 0, 0, 0, 0, 0, 0, 0, 0, 0, 0, 0, 0, 0, 0, 0, 0, 0, 0, 0, 0, 0, 0, 0, 0, 0, 0, 0, 0, 0, 0, 0, 0, 0, 0, 0, 0, 0, 0, 0, 0, 0, 0, 0, 0, 0, 0, 0, 0, 0, 0, 0, 0, 0, 0, 0, 0, 0, 0, 0, 0, 0, 0, 0, 0, 0, 0, 0, 0, 0, 0, 0, 0, 0, 0, 0, 0, 0, 0, 0, 0, 0, 0, 0, 0, 0, 0, 0, 0, 0, 0, 0, 0, 0, 0, 0, 0, 0, 0, 0, 0, 0, 0, 0, 0, 0, 0, 0, 0, 0, 0, 0, 0, 0, 0, 0, 0, 0, 0, 0, 0, 0, 0, 0, 0, 0, 0, 0, 0, 0, 0, 0, 0, 0, 0, 0, 0, 0, 0, 0, 0, 0, 0, 0, 0, 0, 0, 0, 0, 0, 0, 0, 0, 0, 0, 0, 0, 0, 0, 0, 0, 0, 0, 0, 0, 0, 0, 0, 0, 0, 0, 0, 0, 0, 0, 0, 0, 0, 0, 0, 0, 0, 0, 0, 0, 0, 0, 0, 0, 0, 0, 0, 0, 0, 0, 0, 0, 0, 0, 0, 0, 0, 0, 0, 0, 0, 0, 0, 0, 0, 0, 0, 0, 0, 0, 0, 0, 0, 0, 0, 0, 0, 0, 0, 0, 0, 0, 0, 0, 0, 0, 0, 0, 0, 0, 0, 0, 0, 0, 0, 0, 0, 0, 0, 0, 0, 0, 0, 0, 0, 0, 0, 0, 0, 0, 0, 0, 0, 0, 0, 0, 0, 0, 0, 0, 0, 0, 0, 0, 0, 0, 0, 0, 0, 0, 0, 0, 0, 0, 0, 0, 0, 0, 0, 0, 0, 0, 0, 0, 0, 0, 0, 0, 0, 0, 0, 0, 0, 0, 0, 0, 0, 0, 0, 0, 0, 0, 0, 0, 0, 0, 0, 0, 0, 0, 0, 0, 0, 0, 0, 0, 0, 0, 0, 0, 0, 0, 0, 0, 0, 0, 0, 0, 0, 0, 0, 0, 0, 0, 0, 0, 0, 0, 0, 0, 0, 0, 0, 0, 0, 0, 0, 0, 0, 0, 0, 0, 0, 0, 0, 0, 0, 0, 0, 0, 0, 0, 0, 0, 0, 0, 0, 0, 0, 0, 0, 0, 0, 0, 0, 0, 0, 0, 0, 0, 0, 0, 0, 0, 0, 0, 0, 0, 0, 0, 0, 0, 0, 0, 0, 0, 0, 0, 0, 0, 0, 0, 0, 0, 0, 0, 0, 0, 0, 0, 0, 0, 0, 0, 0, 0, 0, 0, 0, 0, 0, 0, 0, 0, 0, 0, 0, 0, 0, 0, 0, 0, 0, 0, 0, 0, 0, 0, 0, 0, 0, 0, 0, 0, 0, 0, 0, 0, 0, 0, 0, 0, 0, 0, 0, 0, 0, 0, 0, 0, 0, 0, 0, 0, 0, 0, 0, 0, 0, 0, 0, 0, 0, 0, 0, 0, 0, 0, 0, 0, 0, 0, 0, 0, 0, 0, 0, 0, 0, 0, 0, 0, 0, 0, 0, 0, 0, 0, 0, 0, 0, 0, 0, 0, 0, 0, 0, 0, 0, 0, 0, 0, 0, 0, 0, 0, 0, 0, 0, 0, 0, 0, 0, 0, 0, 0, 0, 0, 0, 0, 0, 0, 0, 0, 0, 0, 0, 0, 0, 0, 0, 0, 0, 0, 0, 0, 0, 0, 0, 0, 0, 0, 0, 0, 0, 0, 0, 0, 0, 0, 0, 0, 0, 0, 0, 0, 0, 0, 0, 0, 0, 0, 0, 0, 0, 0, 0, 0, 0, 0, 0, 0, 0, 0, 0, 0, 0, 0, 0, 0, 0, 0, 0, 0, 0, 0, 0, 0, 0, 0, 0, 0, 0, 0, 0, 0, 0, 0, 0, 0, 0, 0, 0, 0, 0, 0, 0, 0, 0, 0, 0, 0, 0, 0, 0, 0, 0, 0, 0, 0, 0, 0, 0, 0, 0, 0, 0, 0, 0, 0, 0, 0, 0, 0, 0, 0, 0, 0, 0, 0, 0, 0, 0, 0, 0, 0, 0, 0, 0, 0, 0, 0, 0, 0, 0, 0, 0, 0, 0, 0, 0, 0, 0, 0, 0, 0, 0, 0, 0, 0, 0, 0, 0, 0, 0, 0, 0, 0, 0, 0, 0, 0, 0, 0, 0, 0, 0, 0, 0, 0, 0, 0, 0, 0, 0, 0, 0, 0, 0, 0, 0, 0, 0, 0, 0, 0, 0, 0, 0, 0, 0, 0, 0, 0, 0, 0, 0, 0, 0, 0, 0, 0, 0, 0, 0, 0, 0, 0, 0, 0, 0, 0, 0, 0, 0, 0, 0, 0, 0, 0, 0, 0, 0, 0, 0, 0, 0, 0, 0, 0, 0, 0, 0, 0, 0, 0, 0, 0, 0, 0, 0, 0, 0, 0, 0, 0, 0, 0, 0, 0, 0, 0, 0, 0, 0, 0, 0, 0, 0, 0, 0, 0, 0, 0, 0, 0, 0, 0, 0, 0, 0, 0, 0, 0, 0, 0, 0, 0, 0, 0, 0, 0, 0, 0, 0, 0, 0, 0, 0, 0, 0, 0, 0, 0, 0, 0, 0, 0, 0, 0, 0, 0, 0, 0, 0, 0, 0, 0, 0, 0, 0, 0, 0, 0, 0, 0, 0, 0, 0, 0, 0, 0, 0, 0, 0, 0, 0, 0, 0, 0, 0, 0, 0, 0, 0, 0, 0, 0, 0, 0, 0, 0, 0, 0, 0, 0, 0, 0, 0, 0, 0, 0, 0, 0, 0, 0, 0, 0, 0, 0, 0, 0, 0, 0, 0, 0, 0, 0, 0, 0, 0, 0, 0, 0, 0, 0, 0, 0, 0, 0, 0, 0, 0, 0, 0, 0, 0, 0, 0, 0, 0, 0, 0, 0, 0, 0, 0, 0, 0, 0, 0, 0, 0, 0, 0, 0, 0, 0, 0, 0, 0, 0, 0, 0, 0, 0, 0, 0, 0, 0, 0, 0, 0, 0, 0, 0, 0, 0, 0, 0, 0, 0, 0, 0, 0, 0, 0, 0, 0, 0, 0, 0, 0, 0, 0, 0, 0, 0, 0, 0, 0, 0, 0, 0, 0, 0, 0, 0, 0, 0, 0, 0, 0, 0, 0, 0, 0, 0, 0, 0, 0, 0, 0, 0, 0, 0, 0, 0, 0, 0, 0, 0, 0, 0, 0, 0, 0, 0, 0, 0, 0, 0, 0, 0, 0, 0, 0, 0, 0, 0, 0, 0, 0, 0, 0, 0, 0, 0, 0, 0, 0, 0, 0, 0, 0, 0, 0, 0, 0, 0, 0, 0, 0, 0, 0, 0, 0, 0, 0, 0, 0, 0, 0, 0, 0, 0, 0, 0, 0, 0, 0, 0, 0, 0, 0, 0, 0, 0, 0, 0, 0, 0, 0, 0, 0, 0, 0, 0, 0, 0, 0, 0, 0, 0, 0, 0, 0, 0, 0, 0, 0, 0, 0, 0, 0, 0, 0, 0, 0, 0, 0, 0, 0, 0, 0, 0, 0, 0, 0, 0, 0, 0, 0, 0, 0, 0, 0, 0, 0, 0, 0, 0, 0, 0, 0, 0, 0, 0, 0, 0, 0, 0, 0, 0, 0, 0, 0, 0, 0, 0, 0, 0, 0, 0, 0, 0, 0, 0, 0, 0, 0, 0, 0, 0, 0, 0, 0, 0, 0, 0, 0, 0, 0, 0, 0, 0, 0, 0, 0, 0, 0, 0, 0, 0, 0, 0, 0, 0, 0, 0, 0, 0, 0, 0, 0, 0, 0, 0, 0, 0, 0, 0, 0, 0, 0, 0, 0, 0, 0, 0, 0, 0, 0, 0, 0, 0, 0, 0, 0, 0, 0, 0, 0, 0, 0, 0, 0, 0, 0, 0, 0, 0, 0, 0, 0, 0, 0, 0, 0, 0, 0, 0, 0, 0, 0, 0, 0, 0, 0, 0, 0, 0, 0, 0, 0, 0, 0, 0, 0, 0, 0, 0, 0, 0, 0, 0, 0, 0, 0, 0, 0, 0, 0, 0, 0, 0, 0, 0, 0, 0, 0, 0, 0, 0, 0, 0, 0, 0, 0, 0, 0, 0, 0, 0, 0, 0, 0, 0, 0, 0, 0, 0, 0, 0, 0, 0, 0, 0, 0, 0, 0, 0, 0, 0, 0, 0, 0, 0, 0, 0, 0, 0, 0, 0, 0, 0, 0, 0, 0, 0, 0, 0, 0, 0, 0, 0, 0, 0, 0, 0, 0, 0, 0, 0, 0, 0, 0, 0, 0, 0, 0, 0, 0, 0, 0, 0, 0, 0, 0, 0, 0, 0, 0, 0, 0, 0, 0, 0, 0, 0, 0, 0, 0, 0, 0, 0, 0, 0, 0, 0, 0, 0, 0, 0, 0, 0, 0, 0, 0, 0, 0, 0, 0, 0, 0, 0, 0, 0, 0, 0, 0, 0, 0, 0, 0, 0, 0, 0, 0, 0, 0, 0, 0, 0, 0, 0, 0, 0, 0, 0, 0, 0, 0, 0, 0, 0, 0, 0, 0, 0, 0, 0, 0, 0, 0, 0, 0, 0, 0, 0, 0, 0, 0, 0, 0, 0, 0, 0, 0, 0, 0, 0, 0, 0, 0, 0, 0, 0, 0, 0, 0, 0, 0, 0, 0, 0, 0, 0, 0, 0, 0, 0, 0, 0, 0, 0, 0, 0, 0, 0, 0, 0, 0, 0, 0, 0, 0, 0, 0, 0, 0, 0, 0, 0, 0, 0, 0, 0, 0, 0, 0, 0, 0, 0, 0, 0, 0, 0, 0, 0, 0, 0, 0, 0, 0, 0, 0, 0, 0, 0, 0, 0, 0, 0, 0, 0, 0, 0, 0, 0, 0, 0, 0, 0, 0, 0, 0, 0, 0, 0, 0, 0, 0, 0, 0, 0, 0, 0, 0, 0, 0, 0, 0, 0, 0, 0, 0, 0, 0, 0, 0, 0, 0, 0, 0, 0, 0, 0, 0, 0, 0, 0, 0, 0, 0, 0, 0, 0, 0, 0, 0, 0, 0, 0, 0, 0, 0, 0, 0, 0, 0, 0, 0, 0, 0, 0, 0, 0, 0, 0, 0, 0, 0, 0, 0, 0, 0, 0, 0, 0, 0, 0, 0, 0, 0, 0, 0, 0, 0, 0, 0, 0, 0, 0, 0, 0, 0, 0, 0, 0, 0, 0, 0, 0, 0, 0, 0, 0, 0, 0, 0, 0, 0, 0, 0, 0, 0, 0, 0, 0, 0, 0, 0, 0, 0, 0, 0, 0, 0, 0, 0, 0, 0, 0, 0, 0, 0, 0, 0, 0, 0, 0, 0, 0, 0, 0, 0, 0, 0, 0, 0, 0, 0, 0, 0, 0, 0, 0, 0, 0, 0, 0, 0, 0, 0, 0, 0, 0, 0, 0, 0, 0, 0, 0, 0, 0, 0, 0, 0, 0, 0, 0, 0, 0, 0, 0, 0, 0, 0, 0, 0, 0, 0, 0, 0, 0, 0, 0, 0, 0, 0, 0, 0, 0, 0, 0, 0, 0, 0, 0, 0, 0, 0, 0, 0, 0, 0, 0, 0, 0, 0, 0, 0, 0, 0, 0, 0, 0, 0, 0, 0, 0, 0, 0, 0, 0, 0, 0, 0, 0, 0, 0, 0, 0, 0, 0, 0, 0, 0, 0, 0, 0, 0, 0, 0, 0, 0, 0, 0, 0, 0, 0, 0, 0, 0, 0, 0, 0, 0, 0, 0, 0, 0, 0, 0, 0, 0, 0, 0, 0, 0, 0, 0, 0, 0, 0, 0, 0, 0, 0, 0, 0, 0, 0, 0, 0, 0, 0, 0, 0, 0, 0, 0, 0, 0, 0, 0, 0, 0, 0, 0, 0, 0, 0, 0, 0, 0, 0, 0, 0, 0, 0, 0, 0, 0, 0, 0, 0, 0, 0, 0, 0, 0, 0, 0, 0, 0, 0, 0, 0, 0, 0, 0, 0, 0, 0, 0, 0, 0, 0, 0, 0, 0, 0, 0, 0, 0, 0, 0, 0, 0, 0, 0, 0, 0, 0, 0, 0, 0, 0, 0, 0, 0, 0, 0, 0, 0, 0, 0, 0, 0, 0, 0, 0, 0, 0, 0, 0, 0, 0, 0, 0, 0, 0, 0, 0, 0, 0, 0, 0, 0, 0, 0, 0, 0, 0, 0, 0, 0, 0, 0, 0, 0, 0, 0, 0, 0, 0, 0, 0, 0, 0, 0, 0, 0, 0, 0, 0, 0, 0, 0, 0, 0, 0, 0, 0, 0, 0, 0, 0, 0, 0, 0, 0, 0, 0, 0, 0, 0, 0, 0, 0, 0, 0, 0, 0, 0, 0, 0, 0, 0, 0, 0, 0, 0, 0, 0, 0, 0, 0, 0, 0, 0, 0, 0, 0, 0, 0, 0, 0, 0, 0, 0, 0, 0, 0, 0, 0, 0, 0, 0, 0, 0, 0, 0, 0, 0, 0, 0, 0, 0, 0, 0, 0, 0, 0, 0, 0, 0, 0, 0, 0, 0, 0, 0, 0, 0, 0, 0, 0, 0, 0, 0, 0, 0, 0, 0, 0, 0, 0, 0, 0, 0, 0, 0, 0, 0, 0, 0, 0, 0, 0, 0, 0, 0, 0, 0, 0, 0, 0, 0, 0, 0, 0, 0, 0, 0, 0, 0, 0, 0, 0, 0, 0, 0, 0, 0, 0, 0, 0, 0, 0, 0, 0, 0, 0, 0, 0, 0, 0, 0, 0, 0, 0, 0, 0, 0, 0, 0, 0, 0, 0, 0, 0, 0, 0, 0, 0, 0, 0, 0, 0, 0, 0, 0, 0, 0, 0, 0, 0, 0, 0, 0, 0, 0, 0, 0, 0, 0, 0, 0, 0, 0, 0, 0, 0, 0, 0, 0, 0, 0, 0, 0, 0, 0, 0, 0, 0, 0, 0, 0, 0, 0, 0, 0, 0, 0, 0, 0, 0, 0, 0, 0, 0, 0, 0, 0, 0, 0, 0, 0, 0, 0, 0, 0, 0, 0, 0, 0, 0, 0, 0, 0, 0, 0, 0, 0, 0, 0, 0, 0, 0, 0, 0, 0, 0, 0, 0, 0, 0, 0, 0, 0, 0, 0, 0, 0, 0, 0, 0, 0, 0, 0, 0, 0, 0, 0, 0, 0, 0, 0, 0, 0, 0, 0, 0, 0, 0, 0, 0, 0, 0, 0, 0, 0, 0, 0, 0, 0, 0, 0, 0, 0, 0, 0, 0, 0, 0, 0, 0, 0, 0, 0, 0, 0, 0, 0, 0, 0, 0, 0, 0, 0, 0, 0, 0, 0, 0, 0, 0, 0, 0, 0, 0, 0, 0, 0, 0, 0, 0, 0, 0, 0, 0, 0, 0, 0, 0, 0, 0, 0, 0, 0, 0, 0, 0, 0, 0, 0, 0, 0, 0, 0, 0, 0, 0, 0, 0, 0, 0, 0, 0, 0, 0, 0, 0, 0, 0, 0, 0, 0, 0, 0, 0, 0, 0, 0, 0, 0, 0, 0, 0, 0, 0, 0, 0, 0, 0, 0, 0, 0, 0, 0, 0, 0, 0, 0, 0, 0, 0, 0, 0, 0, 0, 0, 0, 0, 0, 0, 0, 0, 0, 0, 0, 0, 0, 0, 0, 0, 0, 0, 0, 0, 0, 0, 0, 0, 0, 0, 0, 0, 0, 0, 0, 0, 0, 0, 0, 0, 0, 0, 0, 0, 0, 0, 0, 0, 0, 0, 0, 0, 0, 0, 0, 0, 0, 0, 0, 0, 0, 0, 0, 0, 0, 0, 0, 0, 0, 0, 0, 0, 0, 0, 0, 0, 0, 0, 0, 0, 0, 0, 0, 0, 0, 0, 0, 0, 0, 0, 0, 0, 0, 0, 0, 0, 0, 0, 0, 0, 0, 0, 0, 0, 0, 0, 0, 0, 0, 0, 0, 0, 0, 0, 0, 0, 0, 0, 0, 0, 0, 0, 0, 0, 0, 0, 0, 0, 0, 0, 0, 0, 0, 0, 0, 0, 0, 0, 0, 0, 0, 0, 0, 0, 0, 0, 0, 0, 0, 0, 0, 0, 0, 0, 0, 0, 0, 0, 0, 0, 0, 0, 0, 0, 0, 0, 0, 0, 0, 0, 0, 0, 0, 0, 0, 0, 0, 0, 0, 0, 0, 0, 0, 0, 0, 0, 0, 0, 0, 0, 0, 0, 0, 0, 0, 0, 0, 0, 0, 0, 0, 0, 0, 0, 0, 0, 0, 0, 0, 0, 0, 0, 0, 0, 0, 0, 0, 0, 0, 0, 0, 0, 0, 0, 0, 0, 0, 0, 0, 0, 0, 0, 0, 0, 0, 0, 0, 0, 0, 0, 0, 0, 0, 0, 0, 0, 0, 0, 0, 0, 0, 0, 0, 0, 0, 0, 0, 0, 0, 0, 0, 0, 0, 0, 0, 0, 0, 0, 0, 0, 0, 0, 0, 0, 0, 0, 0, 0, 0, 0, 0, 0, 0, 0, 0, 0, 0, 0, 0, 0, 0, 0, 0, 0, 0, 0, 0, 0, 0, 0, 0, 0, 0, 0, 0, 0, 0, 0, 0, 0, 0, 0, 0, 0, 0, 0, 0, 0, 0, 0, 0, 0, 0, 0, 0, 0, 0, 0, 0, 0, 0, 0, 0, 0, 0, 0, 0, 0, 0, 0, 0, 0, 0, 0, 0, 0, 0, 0, 0, 0, 0, 0, 0, 0, 0, 0, 0, 0, 0, 0, 0, 0, 0, 0, 0, 0, 0, 0, 0, 0, 0, 0, 0, 0, 0, 0, 0, 0, 0, 0, 0, 0, 0, 0, 0, 0, 0, 0, 0, 0, 0, 0, 0, 0, 0, 0, 0, 0, 0, 0, 0, 0, 0, 0, 0, 0, 0, 0, 0, 0, 0, 0, 0, 0, 0, 0, 0, 0, 0, 0, 0, 0, 0, 0, 0, 0, 0, 0, 0, 0, 0, 0, 0, 0, 0, 0, 0, 0, 0, 0, 0, 0, 0, 0, 0, 0, 0, 0, 0, 0, 0, 0, 0, 0, 0, 0, 0, 0, 0, 0, 0, 0, 0, 0, 0, 0, 0, 0, 0, 0, 0, 0, 0, 0, 0, 0, 0, 0, 0, 0, 0, 0, 0, 0, 0, 0, 0, 0, 0, 0, 0, 0, 0, 0, 0, 0, 0, 0, 0, 0, 0, 0, 0, 0, 0, 0, 0, 0, 0, 0, 0, 0, 0, 0, 0, 0, 0, 0, 0, 0, 0, 0, 0, 0, 0, 0, 0, 0, 0, 0, 0, 0, 0, 0, 0, 0, 0, 0, 0, 0, 0, 0, 0, 0, 0, 0, 0, 0, 0, 0, 0, 0, 0, 0, 0, 0, 0, 0, 0, 0, 0, 0, 0, 0, 0, 0, 0, 0, 0, 0, 0, 0, 0, 0, 0, 0, 0, 0, 0, 0, 0, 0, 0, 0, 0, 0, 0, 0, 0, 0, 0, 0, 0, 0, 0, 0, 0, 0, 0, 0, 0, 0, 0, 0, 0, 0, 0, 0, 0, 0, 0, 0, 0, 0, 0, 0, 0, 0, 0, 0, 0, 0, 0, 0, 0, 0, 0, 0, 0, 0, 0, 0, 0, 0, 0, 0, 0, 0, 0, 0, 0, 0, 0, 0, 0, 0, 0, 0, 0, 0, 0, 0, 0, 0, 0, 0, 0, 0, 0, 0, 0, 0, 0, 0, 0, 0, 0, 0, 0, 0, 0, 0, 0, 0, 0, 0, 0, 0, 0, 0, 0, 0, 0, 0, 0, 0, 0, 0, 0, 0, 0, 0, 0, 0, 0, 0, 0, 0, 0, 0, 0, 0, 0, 0, 0, 0, 0, 0, 0, 0, 0, 0, 0, 0, 0, 0, 0, 0, 0, 0, 0, 0, 0, 0, 0, 0, 0, 0, 0, 0, 0, 0, 0, 0, 0, 0, 0, 0, 0, 0, 0, 0, 0, 0, 0, 0, 0, 0, 0, 0, 0, 0, 0, 0, 0, 0, 0, 0, 0, 0, 0, 0, 0, 0, 0, 0, 0, 0, 0, 0, 0, 0, 0, 0, 0, 0, 0, 0, 0, 0, 0, 0, 0, 0, 0, 0, 0, 0, 0, 0, 0, 0, 0, 0, 0, 0, 0, 0, 0, 0, 0, 0, 0, 0, 0, 0, 0, 0, 0, 0, 0, 0, 0, 0, 0, 0, 0, 0, 0, 0, 0, 0, 0, 0, 0, 0, 0, 0, 0, 0, 0, 0, 0, 0, 0, 0, 0, 0, 0, 0, 0, 0, 0, 0, 0, 0, 0, 0, 0, 0, 0, 0, 0, 0, 0, 0, 0, 0, 0, 0, 0, 0, 0, 0, 0, 0, 0, 0, 0, 0, 0, 0, 0, 0, 0, 0, 0, 0, 0, 0, 0, 0, 0, 0, 0, 0, 0, 0, 0, 0, 0, 0, 0, 0, 0, 0, 0, 0, 0, 0, 0, 0, 0, 0, 0, 0, 0, 0, 0, 0, 0, 0, 0, 0, 0, 0, 0, 0, 0, 0, 0, 0, 0, 0, 0, 0, 0, 0, 0, 0, 0, 0, 0, 0, 0, 0, 0, 0, 0, 0, 0, 0, 0, 0, 0, 0, 0, 0, 0, 0, 0, 0, 0, 0, 0, 0, 0, 0, 0, 0, 0, 0, 0, 0, 0, 0, 0, 0, 0, 0, 0, 0, 0, 0, 0, 0, 0, 0, 0, 0, 0, 0, 0, 0, 0, 0, 0, 0, 0, 0, 0, 0, 0, 0, 0, 0, 0, 0, 0, 0, 0, 0, 0, 0, 0, 0, 0, 0, 0, 0, 0, 0, 0, 0, 0, 0, 0, 0, 0, 0, 0, 0, 0, 0, 0, 0, 0, 0, 0, 0, 0, 0, 0, 0, 0, 0, 0, 0, 0, 0, 0, 0, 0, 0, 0, 0, 0, 0, 0, 0, 0, 0, 0, 0, 0, 0, 0, 0, 0, 0, 0, 0, 0, 0, 0, 0, 0, 0, 0, 0, 0, 0, 0, 0, 0, 0, 0, 0, 0, 0, 0, 0, 0, 0, 0, 0, 0, 0, 0, 0, 0, 0, 0, 0, 0, 0, 0, 0, 0, 0, 0, 0, 0, 0, 0, 0, 0, 0, 0, 0, 0, 0, 0, 0, 0, 0, 0, 0, 0, 0, 0, 0, 0, 0, 0, 0, 0, 0, 0, 0, 0, 0, 0, 0, 0, 0, 0, 0, 0, 0, 0, 0, 0, 0, 0, 0, 0, 0, 0, 0, 0, 0, 0, 0, 0, 0, 0, 0, 0, 0, 0, 0, 0, 0, 0, 0, 0, 0, 0, 0, 0, 0, 0, 0, 0, 0, 0, 0, 0, 0, 0, 0, 0, 0, 0, 0, 0, 0, 0, 0, 0, 0, 0, 0, 0, 0, 0, 0, 0, 0, 0, 0, 0, 0, 0, 0, 0, 0, 0, 0, 0, 0, 0, 0, 0, 0, 0, 0, 0, 0, 0, 0, 0, 0, 0, 0, 0, 0, 0, 0, 0, 0, 0, 0, 0, 0, 0, 0, 0, 0, 0, 0, 0, 0, 0, 0, 0, 0, 0, 0, 0, 0, 0, 0, 0, 0, 0, 0, 0, 0, 0, 0, 0, 0, 0, 0, 0, 0, 0, 0, 0, 0, 0, 0, 0, 0, 0, 0, 0, 0, 0, 0, 0, 0, 0, 0, 0, 0, 0, 0, 0, 0, 0, 0, 0, 0, 0, 0, 0, 0, 0, 0, 0, 0, 0, 0, 0, 0, 0, 0, 0, 0, 0, 0, 0, 0, 0, 0, 0, 0, 0, 0, 0, 0, 0, 0, 0, 0, 0, 0, 0, 0, 0, 0, 0, 0, 0, 0, 0, 0, 0, 0, 0, 0, 0, 0, 0, 0, 0, 0, 0, 0, 0, 0, 0, 0, 0, 0, 0, 0, 0, 0, 0, 0, 0, 0, 0, 0, 0, 0, 0, 0, 0, 0, 0, 0, 0, 0, 0, 0, 0, 0, 0, 0, 0, 0, 0, 0, 0, 0, 0, 0, 0, 0, 0, 0, 0, 0, 0, 0, 0, 0, 0, 0, 0, 0, 0, 0, 0, 0, 0, 0, 0, 0, 0, 0, 0, 0, 0, 0, 0, 0, 0, 0, 0, 0, 0, 0, 0, 0, 0, 0, 0, 0, 0, 0, 0, 0, 0, 0, 0, 0, 0, 0, 0, 0, 0, 0, 0, 0, 0, 0, 0, 0, 0, 0, 0, 0, 0, 0, 0, 0, 0, 0, 0, 0, 0, 0, 0, 0, 0, 0, 0, 0, 0, 0, 0, 0, 0, 0, 0, 0, 0, 0, 0, 0, 0, 0, 0, 0, 0, 0, 0, 0, 0, 0, 0, 0, 0, 0, 0, 0, 0, 0, 0, 0, 0, 0, 0, 0, 0, 0, 0, 0, 0, 0, 0, 0, 0, 0, 0, 0, 0, 0, 0, 0, 0, 0, 0, 0, 0, 0, 0, 0, 0, 0, 0, 0, 0, 0, 0, 0, 0, 0, 0, 0, 0, 0, 0, 0, 0, 0, 0, 0, 0, 0, 0, 0, 0, 0, 0, 0, 0, 0, 0, 0, 0, 0, 0, 0, 0, 0, 0, 0, 0, 0, 0, 0, 0, 0, 0, 0, 0, 0, 0, 0, 0, 0, 0, 0, 0, 0, 0, 0, 0, 0, 0, 0, 0, 0, 0, 0, 0, 0, 0, 0, 0, 0, 0, 0, 0, 0, 0, 0, 0, 0, 0, 0, 0, 0, 0, 0, 0, 0, 0, 0, 0, 0, 0, 0, 0, 0, 0, 0, 0, 0, 0, 0, 0, 0, 0, 0, 0, 0, 0, 0, 0, 0, 0, 0, 0, 0, 0, 0, 0, 0, 0, 0, 0, 0, 0, 0, 0, 0, 0, 0, 0, 0, 0, 0, 0, 0, 0, 0, 0, 0, 0, 0, 0, 0, 0, 0, 0, 0, 0, 0, 0, 0, 0, 0, 0, 0, 0, 0, 0, 0, 0, 0, 0, 0, 0, 0, 0, 0, 0, 0, 0, 0, 0, 0, 0, 0, 0, 0, 0, 0, 0, 0, 0, 0, 0, 0, 0, 0, 0, 0, 0, 0, 0, 0, 0, 0, 0, 0, 0, 0, 0, 0, 0, 0, 0, 0, 0, 0, 0, 0, 0, 0, 0, 0, 0, 0, 0, 0, 0, 0, 0, 0, 0, 0, 0, 0, 0, 0, 0, 0, 0, 0, 0, 0, 0, 0, 0, 0, 0, 0, 0, 0, 0, 0, 0, 0, 0, 0, 0, 0, 0, 0, 0, 0, 0, 0, 0, 0, 0, 0, 0, 0, 0, 0, 0, 0, 0, 0, 0, 0, 0, 0, 0, 0, 0, 0, 0, 0, 0, 0, 0, 0, 0, 0, 0, 0, 0, 0, 0, 0, 0, 0, 0, 0, 0, 0, 0, 0, 0, 0, 0, 0, 0, 0, 0, 0, 0, 0, 0, 0, 0, 0, 0, 0, 0, 0, 0, 0, 0, 0, 0, 0, 0, 0, 0, 0, 0, 0, 0, 0, 0, 0, 0, 0, 0, 0, 0, 0, 0, 0, 0, 0, 0, 0, 0, 0, 0, 0, 0, 0, 0, 0, 0, 0, 0, 0, 0, 0, 0, 0, 0, 0, 0, 0, 0, 0, 0, 0, 0, 0, 0, 0, 0, 0, 0, 0, 0, 0, 0, 0, 0, 0, 0, 0, 0, 0, 0, 0, 0, 0, 0, 0, 0, 0, 0, 0, 0, 0, 0, 0, 0, 0, 0, 0, 0, 0, 0, 0, 0, 0, 0, 0, 0, 0, 0, 0, 0, 0, 0, 0, 0, 0, 0, 0, 0, 0, 0, 0, 0, 0, 0, 0, 0, 0, 0, 0, 0, 0, 0, 0, 0, 0, 0, 0, 0, 0, 0, 0, 0, 0, 0, 0, 0, 0, 0, 0, 0, 0, 0, 0, 0, 0, 0, 0, 0, 0, 0, 0, 0, 0, 0, 0, 0, 0, 0, 0, 0, 0, 0, 0, 0, 0, 0, 0, 0, 0, 0, 0, 0, 0, 0, 0, 0, 0, 0, 0, 0, 0, 0, 0, 0, 0, 0, 0, 0, 0, 0, 0, 0, 0, 0, 0, 0, 0, 0, 0, 0, 0, 0, 0, 0, 0, 0, 0, 0, 0, 0, 0, 0, 0, 0, 0, 0, 0, 0, 0, 0, 0, 0, 0, 0, 0, 0, 0, 0, 0, 0, 0, 0, 0, 0, 0, 0, 0, 0, 0, 0, 0, 0, 0, 0, 0, 0, 0, 0, 0, 0, 0, 0, 0, 0, 0, 0, 0, 0, 0, 0, 0, 0, 0, 0, 0, 0, 0, 0, 0, 0, 0, 0, 0, 0, 0, 0, 0, 0, 0, 0, 0, 0, 0, 0, 0, 0, 0, 0, 0, 0, 0, 0, 0, 0, 0, 0, 0, 0, 0, 0, 0, 0, 0, 0, 0, 0, 0, 0, 0, 0, 0, 0, 0, 0, 0, 0, 0, 0, 0, 0, 0, 0, 0, 0, 0, 0, 0, 0, 0, 0, 0, 0, 0, 0, 0, 0, 0, 0, 0, 0, 0, 0, 0, 0, 0, 0, 0, 0, 0, 0, 0, 0, 0, 0, 0, 0, 0, 0, 0, 0, 0, 0, 0, 0, 0, 0, 0, 0, 0, 0, 0, 0, 0, 0, 0, 0, 0, 0, 0, 0, 0, 0, 0, 0, 0, 0, 0, 0, 0, 0, 0, 0, 0, 0, 0, 0, 0, 0, 0, 0, 0, 0, 0, 0, 0, 0, 0, 0, 0, 0, 0, 0, 0, 0, 0, 0, 0, 0, 0, 0, 0, 0, 0, 0, 0, 0, 0, 0, 0, 0, 0, 0, 0, 0, 0, 0, 0, 0, 0, 0, 0, 0, 0, 0, 0, 0, 0, 0, 0, 0, 0, 0, 0, 0, 0, 0, 0, 0, 0, 0, 0, 0, 0, 0, 0, 0, 0, 0, 0, 0, 0, 0, 0, 0, 0, 0, 0, 0, 0, 0, 0, 0, 0, 0, 0, 0, 0, 0, 0, 0, 0, 0, 0, 0, 0, 0, 0, 0, 0, 0, 0, 0, 0, 0, 0, 0, 0, 0, 0, 0, 0, 0, 0, 0, 0, 0, 0, 0, 0, 0, 0, 0, 0, 0, 0, 0, 0, 0, 0, 0, 0, 0, 0, 0, 0, 0, 0, 0, 0, 0, 0, 0, 0, 0, 0, 0, 0, 0, 0, 0, 0, 0, 0, 0, 0, 0, 0, 0, 0, 0, 0, 0, 0, 0, 0, 0, 0, 0, 0, 0, 0, 0, 0, 0, 0, 0, 0, 0, 0, 0, 0, 0, 0, 0, 0, 0, 0, 0, 0, 0, 0, 0, 0, 0, 0, 0, 0, 0, 0, 0, 0, 0, 0, 0, 0, 0, 0, 0, 0, 0, 0, 0, 0, 0, 0, 0, 0, 0, 0, 0, 0, 0, 0, 0, 0, 0, 0, 0, 0, 0, 0, 0, 0, 0, 0, 0, 0, 0, 0, 0, 0, 0, 0, 0, 0, 0, 0, 0, 0, 0, 0, 0, 0, 0, 0, 0, 0, 0, 0, 0, 0, 0, 0, 0, 0, 0, 0, 0, 0, 0, 0, 0, 0, 0, 0, 0, 0, 0, 0, 0, 0, 0, 0, 0, 0, 0, 0, 0, 0, 0, 0, 0, 0, 0, 0, 0, 0, 0, 0, 0, 0, 0, 0, 0, 0, 0, 0, 0, 0, 0, 0, 0, 0, 0, 0, 0, 0, 0, 0, 0, 0, 0, 0, 0, 0, 0, 0, 0, 0, 0, 0, 0, 0, 0, 0, 0, 0, 0, 0, 0, 0, 0, 0, 0, 0, 0, 0, 0, 0, 0, 0, 0, 0, 0, 0, 0, 0, 0, 0, 0, 0, 0, 0, 0, 0, 0, 0, 0, 0, 0, 0, 0, 0, 0, 0, 0, 0, 0, 0, 0, 0, 0, 0, 0, 0, 0, 0, 0, 0, 0, 0, 0, 0, 0, 0, 0, 0, 0, 0, 0, 0, 0, 0, 0, 0, 0, 0, 0, 0, 0, 0, 0, 0, 0, 0, 0, 0, 0, 0, 0, 0, 0, 0, 0, 0, 0, 0, 0, 0, 0, 0, 0, 0, 0, 0, 0, 0, 0, 0, 0, 0, 0, 0, 0, 0, 0, 0, 0, 0, 0, 0, 0, 0, 0, 0, 0, 0, 0, 0, 0, 0, 0, 0, 0, 0, 0, 0, 0, 0, 0, 0, 0, 0, 0, 0, 0, 0, 0, 0, 0, 0, 0, 0, 0, 0, 0, 0, 0, 0, 0, 0, 0, 0, 0, 0, 0, 0, 0, 0, 0, 0, 0, 0, 0, 0, 0, 0, 0, 0, 0, 0, 0, 0, 0, 0, 0, 0, 0, 0, 0, 0, 0, 0, 0, 0, 0, 0, 0, 0, 0, 0, 0, 0, 0, 0, 0, 0, 0, 0, 0, 0, 0, 0, 0, 0, 0, 0, 0, 0, 0, 0, 0, 0, 0, 0, 0, 0, 0, 0, 0, 0, 0, 0, 0, 0, 0, 0, 0, 0, 0, 0, 0, 0, 0, 0, 0, 0, 0, 0, 0, 0, 0, 0, 0, 0, 0, 0, 0, 0, 0, 0, 0, 0, 0, 0, 0, 0, 0, 0, 0, 0, 0, 0, 0, 0, 0, 0, 0, 0, 0, 0, 0, 0, 0, 0, 0, 0, 0, 0, 0, 0, 0, 0, 0, 0, 0, 0, 0, 0, 0, 0, 0, 0, 0, 0, 0, 0, 0, 0, 0, 0, 0, 0, 0, 0, 0, 0, 0, 0, 0, 0, 0, 0, 0, 0, 0, 0, 0, 0, 0, 0, 0, 0, 0, 0, 0, 0, 0, 0, 0, 0, 0, 0, 0, 0, 0, 0, 0, 0, 0, 0, 0, 0, 0, 0, 0, 0, 0, 0, 0, 0, 0, 0, 0, 0, 0, 0, 0, 0, 0, 0, 0, 0, 0, 0, 0, 0, 0, 0, 0, 0, 0, 0, 0, 0, 0, 0, 0, 0, 0, 0, 0, 0, 0, 0, 0, 0, 0, 0, 0, 0, 0, 0, 0, 0, 0, 0, 0, 0, 0, 0, 0, 0, 0, 0, 0, 0, 0, 0, 0, 0, 0, 0, 0, 0, 0, 0, 0, 0, 0, 0, 0, 0, 0, 0, 0, 0, 0, 0, 0, 0, 0, 0, 0, 0, 0, 0, 0, 0, 0, 0, 0, 0, 0, 0, 0, 0, 0, 0, 0, 0, 0, 0, 0, 0, 0, 0, 0, 0, 0, 0, 0, 0, 0, 0, 0, 0, 0, 0, 0, 0, 0, 0, 0, 0, 0, 0, 0, 0, 0, 0, 0, 0, 0, 0, 0, 0, 0, 0, 0, 0, 0, 0, 0, 0, 0, 0, 0, 0, 0, 0, 0, 0, 0, 0, 0, 0, 0, 0, 0, 0, 0, 0, 0, 0, 0, 0, 0, 0, 0, 0, 0, 0, 0, 0, 0, 0, 0, 0, 0, 0, 0, 0, 0, 0, 0, 0, 0, 0, 0, 0, 0, 0, 0, 0, 0, 0, 0, 0, 0, 0, 0, 0, 0, 0, 0, 0, 0, 0, 0, 0, 0, 0, 0, 0, 0, 0, 0, 0, 0, 0, 0, 0, 0, 0, 0, 0, 0, 0, 0, 0, 0, 0, 0, 0, 0, 0, 0, 0, 0, 0, 0, 0, 0, 0, 0, 0, 0, 0, 0, 0, 0, 0, 0, 0, 0, 0, 0, 0, 0, 0, 0, 0, 0, 0, 0, 0, 0, 0, 0, 0, 0, 0, 0, 0, 0, 0, 0, 0, 0, 0, 0, 0, 0, 0, 0, 0, 0, 0, 0, 0, 0, 0, 0, 0, 0, 0, 0, 0, 0, 0, 0, 0, 0, 0, 0, 0, 0, 0, 0, 0, 0, 0, 0, 0, 0, 0, 0, 0, 0, 0, 0, 0, 0, 0, 0, 0, 0, 0, 0, 0, 0, 0, 0, 0, 0, 0, 0, 0, 0, 0, 0, 0, 0, 0, 0, 0, 0, 0, 0, 0, 0, 0, 0, 0, 0, 0, 0, 0, 0, 0, 0, 0, 0, 0, 0, 0, 0, 0, 0, 0, 0, 0, 0, 0, 0, 0, 0, 0, 0, 0, 0, 0, 0, 0, 0, 0, 0, 0, 0, 0, 0, 0, 0, 0, 0, 0, 0, 0, 0, 0, 0, 0, 0, 0, 0, 0, 0, 0, 0, 0, 0, 0, 0, 0, 0, 0, 0, 0, 0, 0, 0, 0, 0, 0, 0, 0, 0, 0, 0, 0, 0, 0, 0, 0, 0, 0, 0, 0, 0, 0, 0, 0, 0, 0, 0, 0, 0, 0, 0, 0, 0, 0, 0, 0, 0, 0, 0, 0, 0, 0, 0, 0, 0, 0, 0, 0, 0, 0, 0, 0, 0, 0, 0, 0, 0, 0, 0, 0, 0, 0, 0, 0, 0, 0, 0, 0, 0, 0, 0, 0, 0, 0, 0, 0, 0, 0, 0, 0, 0, 0, 0, 0, 0, 0, 0, 0, 0, 0, 0, 0, 0, 0, 0, 0, 0, 0, 0, 0, 0, 0, 0, 0, 0, 0, 0, 0, 0, 0, 0, 0, 0, 0, 0, 0, 0, 0, 0, 0, 0, 0, 0, 0, 0, 0, 0, 0, 0, 0, 0, 0, 0, 0, 0, 0, 0, 0, 0, 0, 0, 0, 0, 0, 0, 0, 0, 0, 0, 0, 0, 0, 0, 0, 0, 0, 0, 0, 0, 0, 0, 0, 0, 0, 0, 0, 0, 0, 0, 0, 0, 0, 0, 0, 0, 0, 0, 0, 0, 0, 0, 0, 0, 0, 0, 0, 0, 0, 0, 0, 0, 0, 0, 0, 0, 0, 0, 0, 0, 0, 0, 0, 0, 0, 0, 0, 0, 0, 0, 0, 0, 0, 0, 0, 0, 0, 0, 0, 0, 0, 0, 0, 0, 0, 0, 0, 0, 0, 0, 0, 0, 0, 0, 0, 0, 0, 0, 0, 0, 0, 0, 0, 0, 0, 0, 0, 0, 0, 0, 0, 0, 0, 0, 0, 0, 0, 0, 0, 0, 0, 0, 0, 0, 0, 0, 0, 0, 0, 0, 0, 0, 0, 0, 0, 0, 0, 0, 0, 0, 0, 0, 0, 0, 0, 0, 0, 0, 0, 0, 0, 0, 0, 0, 0, 0, 0, 0, 0, 0, 0, 0, 0, 0, 0, 0, 0, 0, 0, 0, 0, 0, 0, 0, 0, 0, 0, 0, 0, 0, 0, 0, 0, 0, 0, 0, 0, 0, 0, 0, 0, 0, 0, 0, 0, 0, 0, 0, 0, 0, 0, 0, 0, 0, 0, 0, 0, 0, 0, 0, 0, 0, 0, 0, 0, 0, 0, 0, 0, 0, 0, 0, 0, 0, 0, 0, 0, 0, 0, 0, 0, 0, 0, 0, 0, 0, 0, 0, 0, 0, 0, 0, 0, 0, 0, 0, 0, 0, 0, 0, 0, 0, 0, 0, 0, 0, 0, 0, 0, 0, 0, 0, 0, 0, 0, 0, 0, 0, 0, 0, 0, 0, 0, 0, 0, 0, 0, 0, 0, 0, 0, 0, 0, 0, 0, 0, 0, 0, 0, 0, 0, 0, 0, 0, 0, 0, 0, 0, 0, 0, 0, 0, 0, 0, 0, 0, 0, 0, 0, 0, 0, 0, 0, 0, 0, 0, 0, 0, 0, 0, 0, 0, 0, 0, 0, 0, 0, 0, 0, 0, 0, 0, 0, 0, 0, 0, 0, 0, 0, 0, 0, 0, 0, 0, 0, 0, 0, 0, 0, 0, 0, 0, 0, 0, 0, 0, 0, 0, 0, 0, 0, 0, 0, 0, 0, 0, 0, 0, 0, 0, 0, 0, 0, 0, 0, 0, 0, 0, 0, 0, 0, 0, 0, 0, 0, 0, 0, 0, 0, 0, 0, 0, 0, 0, 0, 0, 0, 0, 0, 0, 0, 0, 0, 0, 0, 0, 0, 0, 0, 0, 0, 0, 0, 0, 0, 0, 0, 0, 0, 0, 0, 0, 0, 0, 0, 0, 0, 0, 0, 0, 0, 0, 0, 0, 0, 0, 0, 0, 0, 0, 0, 0, 0, 0, 0, 0, 0, 0, 0, 0, 0, 0, 0, 0, 0, 0, 0, 0, 0, 0, 0, 0, 0, 0, 0, 0, 0, 0, 0, 0, 0, 0, 0, 0, 0, 0, 0, 0, 0, 0, 0, 0, 0, 0, 0, 0, 0, 0, 0, 0, 0, 0, 0, 0, 0, 0, 0, 0, 0, 0, 0, 0, 0, 0, 0, 0, 0, 0, 0, 0, 0, 0, 0, 0, 0, 0, 0, 0, 0, 0, 0, 0, 0, 0, 0, 0, 0, 0, 0, 0, 0, 0, 0, 0, 0, 0, 0, 0, 0, 0, 0, 0, 0, 0, 0, 0, 0, 0, 0, 0, 0, 0, 0, 0, 0, 0, 0, 0, 0, 0, 0, 0, 0, 0, 0, 0, 0, 0, 0, 0, 0, 0, 0, 0, 0, 0, 0, 0, 0, 0, 0, 0, 0, 0, 0, 0, 0, 0, 0, 0, 0, 0, 0, 0, 0, 0, 0, 0, 0, 0, 0, 0, 0, 0, 0, 0, 0, 0, 0, 0, 0, 0, 0, 0, 0, 0, 0, 0, 0, 0, 0, 0, 0, 0, 0, 0, 0, 0, 0, 0, 0, 0, 0, 0, 0, 0, 0, 0, 0, 0, 0, 0, 0, 0, 0, 0, 0, 0, 0, 0, 0, 0, 0, 0, 0, 0, 0, 0, 0, 0, 0, 0, 0, 0, 0, 0, 0, 0, 0, 0, 0, 0, 0, 0, 0, 0, 0, 0, 0, 0, 0, 0, 0, 0, 0, 0, 0, 0, 0, 0, 0, 0, 0, 0, 0, 0, 0, 0, 0, 0, 0, 0, 0, 0, 0, 0, 0, 0, 0, 0, 0, 0, 0, 0, 0, 0, 0, 0, 0, 0, 0, 0, 0, 0, 0, 0, 0, 0, 0, 0, 0, 0, 0, 0, 0, 0, 0, 0, 0, 0, 0, 0, 0, 0, 0, 0, 0, 0, 0, 0, 0, 0, 0, 0, 0, 0, 0, 0, 0, 0, 0, 0, 0, 0, 0, 0, 0, 0, 0, 0, 0, 0, 0, 0, 0, 0, 0, 0, 0, 0, 0, 0, 0, 0, 0, 0, 0, 0, 0, 0, 0, 0, 0, 0, 0, 0, 0, 0, 0, 0, 0, 0, 0, 0, 0, 0, 0, 0, 0, 0, 0, 0, 0, 0, 0, 0, 0, 0, 0, 0, 0, 0, 0, 0, 0, 0, 0, 0, 0, 0, 0, 0, 0, 0, 0, 0, 0, 0, 0, 0, 0, 0, 0, 0, 0, 0, 0, 0, 0, 0, 0, 0, 0, 0, 0, 0, 0, 0, 0, 0, 0, 0, 0, 0, 0, 0, 0, 0, 0, 0, 0, 0, 0, 0, 0, 0, 0, 0, 0, 0, 0, 0, 0, 0, 0, 0, 0, 0, 0, 0, 0, 0, 0, 0, 0, 0, 0, 0, 0, 0, 0, 0, 0, 0, 0, 0, 0, 0, 0, 0, 0, 0, 0, 0, 0, 0, 0, 0, 0, 0, 0, 0, 0, 0, 0, 0, 0, 0, 0, 0, 0, 0, 0, 0, 0, 0, 0, 0, 0, 0, 0, 0, 0, 0, 0, 0, 0, 0, 0, 0, 0, 0, 0, 0, 0, 0, 0, 0, 0, 0, 0, 0, 0, 0, 0, 0, 0, 0, 0, 0, 0, 0, 0, 0, 0, 0, 0, 0, 0, 0, 0, 0, 0, 0, 0, 0, 0, 0, 0, 0, 0, 0, 0, 0, 0, 0, 0, 0, 0, 0, 0, 0, 0, 0, 0, 0, 0, 0, 0, 0, 0, 0, 0, 0, 0, 0, 0, 0, 0, 0, 0, 0, 0, 0, 0, 0, 0, 0, 0, 0, 0, 0, 0, 0, 0, 0, 0, 0, 0, 0, 0, 0, 0, 0, 0, 0, 0, 0, 0, 0, 0, 0, 0, 0, 0, 0, 0, 0, 0, 0, 0, 0, 0, 0, 0, 0, 0, 0, 0, 0, 0, 0, 0, 0, 0, 0, 0, 0, 0, 0, 0, 0, 0, 0, 0, 0, 0, 0, 0, 0, 0, 0, 0, 0, 0, 0, 0, 0, 0, 0, 0, 0, 0, 0, 0, 0, 0, 0, 0, 0, 0, 0, 0, 0, 0, 0, 0, 0, 0, 0, 0, 0, 0, 0, 0, 0, 0, 0, 0, 0, 0, 0, 0, 0, 0, 0, 0, 0, 0, 0, 0, 0, 0, 0, 0, 0, 0, 0, 0, 0, 0, 0, 0, 0, 0, 0, 0, 0, 0, 0, 0, 0, 0, 0, 0, 0, 0, 0, 0, 0, 0, 0, 0, 0, 0, 0, 0, 0, 0, 0, 0, 0, 0, 0, 0, 0, 0, 0, 0, 0, 0, 0, 0, 0, 0, 0, 0, 0, 0, 0, 0, 0, 0, 0, 0, 0, 0, 0, 0, 0, 0, 0, 0, 0, 0, 0, 0, 0, 0, 0, 0, 0, 0, 0, 0, 0, 0, 0, 0, 0, 0, 0, 0, 0, 0, 0, 0, 0, 0, 0, 0, 0, 0, 0, 0, 0, 0, 0, 0, 0, 0, 0, 0, 0, 0, 0, 0, 0, 0, 0, 0, 0, 0, 0, 0, 0, 0, 0, 0, 0, 0, 0, 0, 0, 0, 0, 0, 0, 0, 0, 0, 0, 0, 0, 0, 0, 0, 0, 0, 0, 0, 0, 0, 0, 0, 0, 0, 0, 0, 0, 0, 0, 0, 0, 0, 0, 0, 0, 0, 0, 0, 0, 0, 0, 0, 0, 0, 0, 0, 0, 0, 0, 0, 0, 0, 0, 0, 0, 0, 0, 0, 0, 0, 0, 0, 0, 0, 0, 0, 0, 0, 0, 0, 0, 0, 0, 0, 0, 0, 0, 0, 0, 0, 0, 0, 0, 0, 0, 0, 0, 0, 0, 0, 0, 0, 0, 0, 0, 0, 0, 0, 0, 0, 0, 0, 0, 0, 0, 0, 0, 0, 0, 0, 0, 0, 0, 0, 0, 0, 0, 0, 0, 0, 0, 0, 0, 0, 0, 0, 0, 0, 0, 0, 0, 0, 0, 0, 0, 0, 0, 0, 0, 0, 0, 0, 0, 0, 0, 0, 0, 0, 0, 0, 0, 0, 0, 0, 0, 0, 0, 0, 0, 0, 0, 0, 0, 0, 0, 0, 0, 0, 0, 0, 0, 0, 0, 0, 0, 0, 0, 0, 0, 0, 0, 0, 0, 0, 0, 0, 0, 0, 0, 0, 0, 0, 0, 0, 0, 0, 0, 0, 0, 0, 0, 0, 0, 0, 0, 0, 0, 0, 0, 0, 0, 0, 0, 0, 0, 0, 0, 0, 0, 0, 0, 0, 0, 0, 0, 0, 0, 0, 0, 0, 0, 0, 0, 0, 0, 0, 0, 0, 0, 0, 0, 0, 0, 0, 0, 0, 0, 0, 0, 0, 0, 0, 0, 0, 0, 0, 0, 0, 0, 0, 0, 0, 0, 0, 0, 0, 0, 0, 0, 0, 0, 0, 0, 0, 0, 0, 0, 0, 0, 0, 0, 0, 0, 0, 0, 0, 0, 0, 0, 0, 0, 0, 0, 0, 0, 0, 0, 0, 0, 0, 0, 0, 0, 0, 0, 0, 0, 0, 0, 0, 0, 0, 0, 0, 0, 0, 0, 0, 0, 0, 0, 0, 0, 0, 0, 0, 0, 0, 0, 0, 0, 0, 0, 0, 0, 0, 0, 0, 0, 0, 0, 0, 0, 0, 0, 0, 0, 0, 0, 0, 0, 0, 0, 0, 0, 0, 0, 0, 0, 0, 0, 0, 0, 0, 0, 0, 0, 0, 0, 0, 0, 0, 0, 0, 0, 0, 0, 0, 0, 0, 0, 0, 0, 0, 0, 0, 0, 0, 0, 0, 0, 0, 0, 0, 0, 0, 0, 0, 0, 0, 0, 0, 0, 0, 0, 0, 0, 0, 0, 0, 0, 0, 0, 0, 0, 0, 0, 0, 0, 0, 0, 0, 0, 0, 0, 0, 0, 0, 0, 0, 0, 0, 0, 0, 0, 0, 0, 0, 0, 0, 0, 0, 0, 0, 0, 0, 0, 0, 0, 0, 0, 0, 0, 0, 0, 0, 0, 0, 0, 0, 0, 0, 0, 0, 0, 0, 0, 0, 0, 0, 0, 0, 0, 0, 0, 0, 0, 0, 0, 0, 0, 0, 0, 0, 0, 0, 0, 0, 0, 0, 0, 0, 0, 0, 0, 0, 0, 0, 0, 0, 0, 0, 0, 0, 0, 0, 0, 0, 0, 0, 0, 0, 0, 0, 0, 0, 0, 0, 0, 0, 0, 0, 0, 0, 0, 0, 0, 0, 0, 0, 0, 0, 0, 0, 0, 0, 0, 0, 0, 0, 0, 0, 0, 0, 0, 0, 0, 0, 0, 0, 0, 0, 0, 0, 0, 0, 0, 0, 0, 0, 0, 0, 0, 0, 0, 0, 0, 0, 0, 0, 0, 0, 0, 0, 0, 0, 0, 0, 0, 0, 0, 0, 0, 0, 0, 0, 0, 0, 0, 0, 0, 0, 0, 0, 0, 0, 0, 0, 0, 0, 0, 0, 0, 0, 0, 0, 0, 0, 0, 0, 0, 0, 0, 0, 0, 0, 0, 0, 0, 0, 0, 0, 0, 0, 0, 0, 0, 0, 0, 0, 0, 0, 0, 0, 0, 0, 0, 0, 0, 0, 0, 0, 0, 0, 0, 0, 0, 0, 0, 0, 0, 0, 0, 0, 0, 0, 0, 0, 0, 0, 0, 0, 0, 0, 0, 0, 0, 0, 0, 0, 0, 0, 0, 0, 0, 0, 0, 0, 0, 0, 0, 0, 0, 0, 0, 0, 0, 0, 0, 0, 0, 0, 0, 0, 0, 0, 0, 0, 0, 0, 0, 0, 0, 0, 0, 0, 0, 0, 0, 0, 0, 0, 0, 0, 0, 0, 0, 0, 0, 0, 0, 0, 0, 0, 0, 0, 0, 0, 0, 0, 0, 0, 0, 0, 0, 0, 0, 0, 0, 0, 0, 0, 0, 0, 0, 0, 0, 0, 0, 0, 0, 0, 0, 0, 0, 0, 0, 0, 0, 0, 0, 0, 0, 0, 0, 0, 0, 0, 0, 0, 0, 0, 0, 0, 0, 0, 0, 0, 0, 0, 0, 0, 0, 0, 0, 0, 0, 0, 0, 0, 0, 0, 0, 0, 0, 0, 0, 0, 0, 0, 0, 0, 0, 0, 0, 0, 0, 0, 0, 0, 0, 0, 0, 0, 0, 0, 0, 0, 0, 0, 0, 0, 0, 0, 0, 0, 0, 0, 0, 0, 0, 0, 0, 0, 0, 0, 0, 0, 0, 0, 0, 0, 0, 0, 0, 0, 0, 0, 0, 0, 0, 0, 0, 0, 0, 0, 0, 0, 0, 0, 0, 0, 0, 0, 0, 0, 0, 0, 0, 0, 0, 0, 0, 0, 0, 0, 0, 0, 0, 0, 0, 0, 0, 0, 0, 0, 0, 0, 0, 0, 0, 0, 0, 0, 0, 0, 0, 0, 0, 0, 0, 0, 0, 0, 0, 0, 0, 0, 0, 0, 0, 0, 0, 0, 0, 0, 0, 0, 0, 0, 0, 0, 0, 0, 0, 0, 0, 0, 0, 0, 0, 0, 0, 0, 0, 0, 0, 0, 0, 0, 0, 0, 0, 0, 0, 0, 0, 0, 0, 0, 0, 0, 0, 0, 0, 0, 0, 0, 0, 0, 0, 0, 0, 0, 0, 0, 0, 0, 0, 0, 0, 0, 0, 0, 0, 0, 0, 0, 0, 0, 0, 0, 0, 0, 0, 0, 0, 0, 0, 0, 0, 0, 0, 0, 0, 0, 0, 0, 0, 0, 0, 0, 0, 0, 0, 0, 0, 0, 0, 0, 0, 0, 0, 0, 0, 0, 0, 0, 0, 0, 0, 0, 0, 0, 0, 0, 0, 0, 0, 0, 0, 0, 0, 0, 0, 0, 0, 0, 0, 0, 0, 0, 0, 0, 0, 0, 0, 0, 0, 0, 0, 0, 0, 0, 0, 0, 0, 0, 0, 0, 0, 0, 0, 0, 0, 0, 0, 0, 0, 0, 0, 0, 0, 0, 0, 0, 0, 0, 0, 0, 0, 0, 0, 0, 0, 0, 0, 0, 0, 0, 0, 0, 0, 0, 0, 0, 0, 0, 0, 0, 0, 0, 0, 0, 0, 0, 0, 0, 0, 0, 0, 0, 0, 0, 0, 0, 0, 0, 0, 0, 0, 0, 0, 0, 0, 0, 0, 0, 0, 0, 0, 0, 0, 0, 0, 0, 0, 0, 0, 0, 0, 0, 0, 0, 0, 0, 0, 0, 0, 0, 0, 0, 0, 0, 0, 0, 0, 0, 0, 0, 0, 0, 0, 0, 0, 0, 0, 0, 0, 0, 0, 0, 0, 0, 0, 0, 0, 0, 0, 0, 0, 0, 0, 0, 0, 0, 0, 0, 0, 0, 0, 0, 0, 0, 0, 0, 0, 0, 0, 0, 0, 0, 0, 0, 0, 0, 0, 0, 0, 0, 0, 0, 0, 0, 0, 0, 0, 0, 0, 0, 0, 0, 0, 0, 0, 0, 0, 0, 0, 0, 0, 0, 0, 0, 0, 0, 0, 0, 0, 0, 0, 0, 0, 0, 0, 0, 0, 0, 0, 0, 0, 0, 0, 0, 0, 0, 0, 0, 0, 0, 0, 0, 0, 0, 0, 0, 0, 0, 0, 0, 0, 0, 0, 0, 0, 0, 0, 0, 0, 0, 0, 0, 0, 0, 0, 0, 0, 0, 0, 0, 0, 0, 0, 0, 0, 0, 0, 0, 0, 0, 0, 0, 0, 0, 0, 0, 0, 0, 0, 0, 0, 0, 0, 0, 0, 0, 0, 0, 0, 0, 0, 0, 0, 0, 0, 0, 0, 0, 0, 0, 0, 0, 0, 0, 0, 0, 0, 0, 0, 0, 0, 0, 0, 0, 0, 0, 0, 0, 0, 0, 0, 0, 0, 0, 0, 0, 0, 0, 0, 0, 0, 0, 0, 0, 0, 0, 0, 0, 0, 0, 0, 0, 0, 0, 0, 0, 0, 0, 0, 0, 0, 0, 0, 0, 0, 0, 0, 0, 0, 0, 0, 0, 0, 0, 0, 0, 0, 0, 0, 0, 0, 0, 0, 0, 0, 0, 0, 0, 0, 0, 0, 0, 0, 0, 0, 0, 0, 0, 0, 0, 0, 0, 0, 0, 0, 0, 0, 0, 0, 0, 0, 0, 0, 0, 0, 0, 0, 0, 0, 0, 0, 0, 0, 0, 0, 0, 0, 0, 0, 0, 0, 0, 0, 0, 0, 0, 0, 0, 0, 0, 0, 0, 0, 0, 0, 0, 0, 0, 0, 0, 0, 0, 0, 0, 0, 0, 0, 0, 0, 0, 0, 0, 0, 0, 0, 0, 0, 0, 0, 0, 0, 0, 0, 0, 0, 0, 0, 0, 0, 0, 0, 0, 0, 0, 0, 0, 0, 0, 0, 0, 0, 0, 0, 0, 0, 0, 0, 0, 0, 0, 0, 0, 0, 0, 0, 0, 0, 0, 0, 0, 0, 0, 0, 0, 0, 0, 0, 0, 0, 0, 0, 0, 0, 0, 0, 0, 0, 0, 0, 0, 0, 0, 0, 0, 0, 0, 0, 0, 0, 0, 0, 0, 0, 0, 0, 0, 0, 0, 0, 0, 0, 0, 0, 0, 0, 0, 0, 0, 0, 0, 0, 0, 0, 0, 0, 0, 0, 0, 0, 0, 0, 0, 0, 0, 0, 0, 0, 0, 0, 0, 0, 0, 0, 0, 0, 0, 0, 0, 0, 0, 0, 0, 0, 0, 0, 0, 0, 0, 0, 0, 0, 0, 0, 0, 0, 0, 0, 0, 0, 0, 0, 0, 0, 0, 0, 0, 0, 0, 0, 0, 0, 0, 0, 0, 0, 0, 0, 0, 0, 0, 0, 0, 0, 0, 0, 0, 0, 0, 0, 0, 0, 0, 0, 0, 0, 0, 0, 0, 0, 0, 0, 0, 0, 0, 0, 0, 0, 0, 0, 0, 0, 0, 0, 0, 0, 0, 0, 0, 0, 0, 0, 0, 0, 0, 0, 0, 0, 0, 0, 0, 0, 0, 0, 0, 0, 0, 0, 0, 0, 0, 0, 0, 0, 0, 0, 0, 0, 0, 0, 0, 0, 0, 0, 0, 0, 0, 0, 0, 0, 0, 0, 0, 0, 0, 0, 0, 0, 0, 0, 0, 0, 0, 0, 0, 0, 0, 0, 0, 0, 0, 0, 0, 0, 0, 0, 0, 0, 0, 0, 0, 0, 0, 0, 0, 0, 0, 0, 0, 0, 0, 0, 0, 0, 0, 0, 0, 0, 0, 0, 0, 0, 0, 0, 0, 0, 0, 0, 0, 0, 0, 0, 0, 0, 0, 0, 0, 0, 0, 0, 0, 0, 0, 0, 0, 0, 0, 0, 0, 0, 0, 0, 0, 0, 0, 0, 0, 0, 0, 0, 0, 0, 0, 0, 0, 0, 0, 0, 0, 0, 0, 0, 0, 0, 0, 0, 0, 0, 0, 0, 0, 0, 0, 0, 0, 0, 0, 0, 0, 0, 0, 0, 0, 0, 0, 0, 0, 0, 0, 0, 0, 0, 0, 0, 0, 0, 0, 0, 0, 0, 0, 0, 0, 0, 0, 0, 0, 0, 0, 0, 0, 0, 0, 0, 0, 0, 0, 0, 0, 0, 0, 0, 0, 0, 0, 0, 0, 0, 0, 0, 0, 0, 0, 0, 0, 0, 0, 0, 0, 0, 0, 0, 0, 0, 0, 0, 0, 0, 0, 0, 0, 0, 0, 0, 0, 0, 0, 0, 0, 0, 0, 0, 0, 0, 0, 0, 0, 0, 0, 0, 0, 0, 0, 0, 0, 0, 0, 0, 0, 0, 0, 0, 0, 0, 0, 0, 0, 0, 0, 0, 0, 0, 0, 0, 0, 0, 0, 0, 0, 0, 0, 0, 0, 0, 0, 0, 0, 0, 0, 0, 0, 0, 0, 0, 0, 0, 0, 0, 0, 0, 0, 0, 0, 0, 0, 0, 0, 0, 0, 0, 0, 0, 0, 0, 0, 0, 0, 0, 0, 0, 0, 0, 0, 0, 0, 0, 0, 0, 0, 0, 0, 0, 0, 0, 0, 0, 0, 0, 0, 0, 0, 0, 0, 0, 0, 0, 0, 0, 0, 0, 0, 0, 0, 0, 0, 0, 0, 0, 0, 0, 0, 0, 0, 0, 0, 0, 0, 0, 0, 0, 0, 0, 0, 0, 0, 0, 0, 0, 0, 0, 0, 0, 0, 0, 0, 0, 0, 0, 0, 0, 0, 0, 0, 0, 0, 0, 0, 0, 0, 0, 0, 0, 0, 0, 0, 0, 0, 0, 0, 0, 0, 0, 0, 0, 0, 0, 0, 0, 0, 0, 0, 0, 0, 0, 0, 0, 0, 0, 0, 0, 0, 0, 0, 0, 0, 0, 0, 0, 0, 0, 0, 0, 0, 0, 0, 0, 0, 0, 0, 0, 0, 0, 0, 0, 0, 0, 0, 0, 0, 0, 0, 0, 0, 0, 0, 0, 0, 0, 0, 0, 0, 0, 0, 0, 0, 0, 0, 0, 0, 0, 0, 0, 0, 0, 0, 0, 0, 0, 0, 0, 0, 0, 0, 0, 0, 0, 0, 0, 0, 0, 0, 0, 0, 0, 0, 0, 0, 0, 0, 0, 0, 0, 0, 0, 0, 0, 0, 0, 0, 0, 0, 0, 0, 0, 0, 0, 0, 0, 0, 0, 0, 0, 0, 0, 0, 0, 0, 0, 0, 0, 0, 0, 0, 0, 0, 0, 0, 0, 0, 0, 0, 0, 0, 0, 0, 0, 0, 0, 0, 0, 0, 0, 0, 0, 0, 0, 0, 0, 0, 0, 0, 0, 0, 0, 0, 0, 0, 0, 0, 0, 0, 0, 0, 0, 0, 0, 0, 0, 0, 0, 0, 0, 0, 0, 0, 0, 0, 0, 0, 0, 0, 0, 0, 0, 0, 0, 0, 0, 0, 0, 0, 0, 0, 0, 0, 0, 0, 0, 0, 0, 0, 0, 0, 0, 0, 0, 0, 0, 0, 0, 0, 0, 0, 0, 0, 0, 0, 0, 0, 0, 0, 0, 0, 0, 0, 0, 0, 0, 0, 0, 0, 0, 0, 0, 0, 0, 0, 0, 0, 0, 0, 0, 0, 0, 0, 0, 0, 0, 0, 0, 0, 0, 0, 0, 0, 0, 0, 0, 0, 0, 0, 0, 0, 0, 0, 0, 0, 0, 0, 0, 0, 0, 0, 0, 0, 0, 0, 0, 0, 0, 0, 0, 0, 0, 0, 0, 0, 0, 0, 0, 0, 0, 0, 0, 0, 0, 0, 0, 0, 0, 0, 0, 0, 0, 0, 0, 0, 0, 0, 0, 0, 0, 0, 0, 0, 0, 0, 0, 0, 0, 0, 0, 0, 0, 0, 0, 0, 0, 0, 0, 0, 0, 0, 0, 0, 0, 0, 0, 0, 0, 0, 0, 0, 0, 0, 0, 0, 0, 0, 0, 0, 0, 0, 0, 0, 0, 0, 0, 0, 0, 0, 0, 0, 0, 0, 0, 0, 0, 0, 0, 0, 0, 0, 0, 0, 0, 0, 0, 0, 0, 0, 0, 0, 0, 0, 0, 0, 0, 0, 0, 0, 0, 0, 0, 0, 0, 0, 0, 0, 0, 0, 0, 0, 0, 0, 0, 0, 0, 0, 0, 0, 0, 0, 0, 0, 0, 0, 0, 0, 0, 0, 0, 0, 0, 0, 0, 0, 0, 0, 0, 0, 0, 0, 0, 0, 0, 0, 0, 0, 0, 0, 0, 0, 0, 0, 0, 0, 0, 0, 0, 0, 0, 0, 0, 0, 0, 0, 0, 0, 0, 0, 0, 0, 0, 0, 0, 0, 0, 0, 0, 0, 0, 0, 0, 0, 0, 0, 0, 0, 0, 0, 0, 0, 0, 0, 0, 0, 0, 0, 0, 0, 0, 0, 0, 0, 0, 0, 0, 0, 0, 0, 0, 0, 0, 0, 0, 0, 0, 0, 0, 0, 0, 0, 0, 0, 0, 0, 0, 0, 0, 0, 0, 0, 0, 0, 0, 0, 0, 0, 0, 0, 0, 0, 0, 0, 0, 0, 0, 0, 0, 0, 0, 0, 0, 0, 0, 0, 0, 0, 0, 0, 0, 0, 0, 0, 0, 0, 0, 0, 0, 0, 0, 0, 0, 0, 0, 0, 0, 0, 0, 0, 0, 0, 0, 0, 0, 0, 0, 0, 0, 0, 0, 0, 0, 0, 0, 0, 0, 0, 0, 0, 0, 0, 0, 0, 0, 0, 0, 0, 0, 0, 0, 0, 0, 0, 0, 0, 0, 0, 0, 0, 0, 0, 0, 0, 0, 0, 0, 0, 0, 0, 0, 0, 0, 0, 0, 0, 0, 0, 0, 0, 0, 0, 0, 0, 0, 0, 0, 0, 0, 0, 0, 0, 0, 0, 0, 0, 0, 0, 0, 0, 0, 0, 0, 0, 0, 0, 0, 0, 0, 0, 0, 0, 0, 0, 0, 0, 0, 0, 0, 0, 0, 0, 0, 0, 0, 0, 0, 0, 0, 0, 0, 0, 0, 0, 0, 0, 0, 0, 0, 0, 0, 0, 0, 0, 0, 0, 0, 0, 0, 0, 0, 0, 0, 0, 0, 0, 0, 0, 0, 0, 0, 0, 0, 0, 0, 0, 0, 0, 0, 0, 0, 0, 0, 0, 0, 0, 0, 0, 0, 0, 0, 0, 0, 0, 0, 0, 0, 0, 0, 0, 0, 0, 0, 0, 0, 0, 0, 0, 0, 0, 0, 0, 0, 0, 0, 0, 0, 0, 0, 0, 0, 0, 0, 0, 0, 0, 0, 0, 0, 0, 0, 0, 0, 0, 0, 0, 0, 0, 0, 0, 0, 0, 0, 0, 0, 0, 0, 0, 0, 0, 0, 0, 0, 0, 0, 0, 0, 0, 0, 0, 0, 0, 0, 0, 0, 0, 0, 0, 0, 0, 0, 0, 0, 0, 0, 0, 0, 0, 0, 0, 0, 0, 0, 0, 0, 0, 0, 0, 0, 0, 0, 0, 0, 0, 0, 0, 0, 0, 0, 0, 0, 0, 0, 0, 0, 0, 0, 0, 0, 0, 0, 0, 0, 0, 0, 0, 0, 0, 0, 0, 0, 0, 0, 0, 0, 0, 0, 0, 0, 0, 0, 0, 0, 0, 0, 0, 0, 0, 0, 0, 0, 0, 0, 0, 0, 0, 0, 0, 0, 0, 0, 0, 0, 0, 0, 0, 0, 0, 0, 0, 0, 0, 0, 0, 0, 0, 0, 0, 0, 0, 0, 0, 0, 0, 0, 0, 0, 0, 0, 0, 0, 0, 0, 0, 0, 0, 0, 0, 0, 0, 0, 0, 0, 0, 0, 0, 0, 0, 0, 0, 0, 0, 0, 0, 0, 0, 0, 0, 0, 0, 0, 0, 0, 0, 0, 0, 0, 0, 0, 0, 0, 0, 0, 0, 0, 0, 0, 0, 0, 0, 0, 0, 0, 0, 0, 0, 0, 0, 0, 0, 0, 0, 0, 0, 0, 0, 0, 0, 0, 0, 0, 0, 0, 0, 0, 0, 0, 0, 0, 0, 0, 0, 0, 0, 0, 0, 0, 0, 0, 0, 0, 0, 0, 0, 0, 0, 0, 0, 0, 0, 0, 0, 0, 0, 0, 0, 0, 0, 0, 0, 0, 0, 0, 0, 0, 0, 0, 0, 0, 0, 0, 0, 0, 0, 0, 0, 0, 0, 0, 0, 0, 0, 0, 0, 0, 0, 0, 0, 0, 0, 0, 0, 0, 0, 0, 0, 0, 0, 0, 0, 0, 0, 0, 0, 0, 0, 0, 0, 0, 0, 0, 0, 0, 0, 0, 0, 0, 0, 0, 0, 0, 0, 0, 0, 0, 0, 0, 0, 0, 0, 0, 0, 0, 0, 0, 0, 0, 0, 0, 0, 0, 0, 0, 0, 0, 0, 0, 0, 0, 0, 0, 0, 0, 0, 0, 0, 0, 0, 0, 0, 0, 0, 0, 0, 0, 0, 0, 0, 0, 0, 0, 0, 0, 0, 0, 0, 0, 0, 0, 0, 0, 0, 0, 0, 0, 0, 0, 0, 0, 0, 0, 0, 0, 0, 0, 0, 0, 0, 0, 0, 0, 0, 0, 0, 0, 0, 0, 0, 0, 0, 0, 0, 0, 0, 0, 0, 0, 0, 0, 0, 0, 0, 0, 0, 0, 0, 0, 0, 0, 0, 0, 0, 0, 0, 0, 0, 0, 0, 0, 0, 0, 0, 0, 0, 0, 0, 0, 0, 0, 0, 0, 0, 0, 0, 0, 0, 0, 0, 0, 0, 0, 0, 0, 0, 0, 0, 0, 0, 0, 0, 0, 0, 0, 0, 0, 0, 0, 0, 0, 0, 0, 0, 0, 0, 0, 0, 0, 0, 0, 0, 0, 0, 0, 0, 0, 0, 0, 0, 0, 0, 0, 0, 0, 0, 0, 0, 0, 0, 0, 0, 0, 0, 0, 0, 0, 0, 0, 0, 0, 0, 0, 0, 0, 0, 0, 0, 0, 0, 0, 0, 0, 0, 0, 0, 0, 0, 0, 0, 0, 0, 0, 0, 0, 0, 0, 0, 0, 0, 0, 0, 0, 0, 0, 0, 0, 0, 0, 0, 0, 0, 0, 0, 0, 0, 0, 0, 0, 0, 0, 0, 0, 0, 0, 0, 0, 0, 0, 0, 0, 0, 0, 0, 0, 0, 0, 0, 0, 0, 0, 0, 0, 0, 0, 0, 0, 0, 0, 0, 0, 0, 0, 0, 0, 0, 0, 0, 0, 0, 0, 0, 0, 0, 0, 0, 0, 0, 0, 0, 0, 0, 0, 0, 0, 0, 0, 0, 0, 0, 0, 0, 0, 0, 0, 0, 0, 0, 0, 0, 0, 0, 0, 0, 0, 0, 0, 0, 0, 0, 0, 0, 0, 0, 0, 0, 0, 0, 0, 0, 0, 0, 0, 0, 0, 0, 0, 0, 0, 0, 0, 0, 0, 0, 0, 0, 0, 0, 0, 0, 0, 0, 0, 0, 0, 0, 0, 0, 0, 0, 0, 0, 0, 0, 0, 0, 0, 0, 0, 0, 0, 0, 0, 0, 0, 0, 0, 0, 0, 0, 0, 0, 0, 0, 0, 0, 0, 0, 0, 0, 0, 0, 0, 0, 0, 0, 0, 0, 0, 0, 0, 0, 0, 0, 0, 0, 0, 0, 0, 0, 0, 0, 0, 0, 0, 0, 0, 0, 0, 0, 0, 0, 0, 0, 0, 0, 0, 0, 0, 0, 0, 0, 0, 0, 0, 0, 0, 0, 0, 0, 0, 0, 0, 0, 0, 0, 0, 0, 0, 0, 0, 0, 0, 0, 0, 0, 0, 0, 0, 0, 0, 0, 0, 0, 0, 0, 0, 0, 0, 0, 0, 0, 0, 0, 0, 0, 0, 0, 0, 0, 0, 0, 0, 0, 0, 0, 0, 0, 0, 0, 0, 0, 0, 0, 0, 0, 0, 0, 0, 0, 0, 0, 0, 0, 0, 0, 0, 0, 0, 0, 0, 0, 0, 0, 0, 0, 0, 0, 0, 0, 0, 0, 0, 0, 0, 0, 0, 0, 0, 0, 0, 0, 0, 0, 0, 0, 0, 0, 0, 0, 0, 0, 0, 0, 0, 0, 0, 0, 0, 0, 0, 0, 0, 0, 0, 0, 0, 0, 0, 0, 0, 0, 0, 0, 0, 0, 0, 0, 0, 0, 0, 0, 0, 0, 0, 0, 0, 0, 0, 0, 0, 0, 0, 0, 0, 0, 0, 0, 0, 0, 0, 0, 0, 0, 0, 0, 0, 0, 0, 0, 0, 0, 0, 0, 0, 0, 0, 0, 0, 0, 0, 0, 0, 0, 0, 0, 0, 0, 0, 0, 0, 0, 0, 0, 0, 0, 0, 0, 0, 0, 0, 0, 0, 0, 0, 0, 0, 0, 0, 0, 0, 0, 0, 0, 0, 0, 0, 0, 0, 0, 0, 0, 0, 0, 0, 0, 0, 0, 0, 0, 0, 0, 0, 0, 0, 0, 0, 0, 0, 0, 0, 0, 0, 0, 0, 0, 0, 0, 0, 0, 0, 0, 0, 0, 0, 0, 0, 0, 0, 0, 0, 0, 0, 0, 0, 0, 0, 0, 0, 0, 0, 0, 0, 0, 0, 0, 0, 0, 0, 0, 0, 0, 0, 0, 0, 0, 0, 0, 0, 0, 0, 0, 0, 0, 0, 0, 0, 0, 0, 0, 0, 0, 0, 0, 0, 0, 0, 0, 0, 0, 0, 0, 0, 0, 0, 0, 0, 0, 0, 0, 0, 0, 0, 0, 0, 0, 0, 0, 0, 0, 0, 0, 0, 0, 0, 0, 0, 0, 0, 0, 0, 0, 0, 0, 0, 0, 0, 0, 0, 0, 0, 0, 0, 0, 0, 0, 0, 0, 0, 0, 0, 0, 0, 0, 0, 0, 0, 0, 0, 0, 0, 0, 0, 0, 0, 0, 0, 0, 0, 0, 0, 0, 0, 0, 0, 0, 0, 0, 0, 0, 0, 0, 0, 0, 0, 0, 0, 0, 0, 0, 0, 0, 0, 0, 0, 0, 0, 0, 0, 0, 0, 0, 0, 0, 0, 0, 0, 0, 0, 0, 0, 0, 0, 0, 0, 0, 0, 0, 0, 0, 0, 0, 0, 0, 0, 0, 0, 0, 0, 0, 0, 0, 0, 0, 0, 0, 0, 0, 0, 0, 0, 0, 0, 0, 0, 0, 0, 0, 0, 0, 0, 0, 0, 0, 0, 0, 0, 0, 0, 0, 0, 0, 0, 0, 0, 0, 0, 0, 0, 0, 0, 0, 0, 0, 0, 0, 0, 0, 0, 0, 0, 0, 0, 0, 0, 0, 0, 0, 0, 0, 0, 0, 0, 0, 0, 0, 0, 0, 0, 0, 0, 0, 0, 0, 0, 0, 0, 0, 0, 0, 0, 0, 0, 0, 0, 0, 0, 0, 0, 0, 0, 0, 0, 0, 0, 0, 0, 0, 0, 0, 0, 0, 0, 0, 0, 0, 0, 0, 0, 0, 0, 0, 0, 0, 0, 0, 0, 0, 0, 0, 0, 0, 0, 0, 0, 0, 0, 0, 0, 0, 0, 0, 0, 0, 0, 0, 0, 0, 0, 0, 0, 0, 0, 0, 0, 0, 0, 0, 0, 0, 0, 0, 0, 0, 0, 0, 0, 0, 0, 0, 0, 0, 0, 0, 0, 0, 0, 0, 0, 0, 0, 0, 0, 0, 0, 0, 0, 0, 0, 0, 0, 0, 0, 0, 0, 0, 0, 0, 0, 0, 0, 0, 0, 0, 0, 0, 0, 0, 0, 0, 0, 0, 0, 0, 0, 0, 0, 0, 0, 0, 0, 0, 0, 0, 0, 0, 0, 0, 0, 0, 0, 0, 0, 0, 0, 0, 0, 0, 0, 0, 0, 0, 0, 0, 0, 0, 0, 0, 0, 0, 0, 0, 0, 0, 0, 0, 0, 0, 0, 0, 0, 0, 0, 0, 0, 0, 0, 0, 0, 0, 0, 0, 0, 0, 0, 0, 0, 0, 0, 0, 0, 0, 0, 0, 0, 0, 0, 0, 0, 0, 0, 0, 0, 0, 0, 0, 0, 0, 0, 0, 0, 0, 0, 0, 0, 0, 0, 0, 0, 0, 0, 0, 0, 0, 0, 0, 0, 0, 0, 0, 0, 0, 0, 0, 0, 0, 0, 0, 0, 0, 0, 0, 0, 0, 0, 0, 0, 0, 0, 0, 0, 0, 0, 0, 0, 0, 0, 0, 0, 0, 0, 0, 0, 0, 0, 0, 0, 0, 0, 0, 0, 0, 0, 0, 0, 0, 0, 0, 0, 0, 0, 0, 0, 0, 0, 0, 0, 0, 0, 0, 0, 0, 0, 0, 0, 0, 0, 0, 0, 0, 0, 0, 0, 0, 0, 0, 0, 0, 0, 0, 0, 0, 0, 0, 0, 0, 0, 0, 0, 0, 0, 0, 0, 0, 0, 0, 0, 0, 0, 0, 0, 0, 0, 0, 0, 0, 0, 0, 0, 0, 0, 0, 0, 0, 0, 0, 0, 0, 0, 0, 0, 0, 0, 0, 0, 0, 0, 0, 0, 0, 0, 0, 0, 0, 0, 0, 0, 0, 0, 0, 0, 0, 0, 0, 0, 0, 0, 0, 0, 0, 0, 0, 0, 0, 0, 0, 0, 0, 0, 0, 0, 0, 0, 0, 0, 0, 0, 0, 0, 0, 0, 0, 0, 0, 0, 0, 0, 0, 0, 0, 0, 0, 0, 0, 0, 0, 0, 0, 0, 0, 0, 0, 0, 0, 0, 0, 0, 0, 0, 0, 0, 0, 0, 0, 0, 0, 0, 0, 0, 0, 0, 0, 0, 0, 0, 0, 0, 0, 0, 0, 0, 0, 0, 0, 0, 0, 0, 0, 0, 0, 0, 0, 0, 0, 0, 0, 0, 0, 0, 0, 0, 0, 0, 0, 0, 0, 0, 0, 0, 0, 0, 0, 0, 0, 0, 0, 0, 0, 0, 0, 0, 0, 0, 0, 0, 0, 0, 0, 0, 0, 0, 0, 0, 0, 0, 0, 0, 0, 0, 0, 0, 0, 0, 0, 0, 0, 0, 0, 0, 0, 0, 0, 0, 0, 0, 0, 0, 0, 0, 0, 0, 0, 0, 0, 0, 0, 0, 0, 0, 0, 0, 0, 0, 0, 0, 0, 0, 0, 0, 0, 0, 0, 0, 0, 0, 0, 0, 0, 0, 0, 0, 0, 0, 0, 0, 0, 0, 0, 0, 0, 0, 0, 0, 0, 0, 0, 0, 0, 0, 0, 0, 0, 0, 0, 0, 0, 0, 0, 0, 0, 0, 0, 0, 0, 0, 0, 0, 0, 0, 0, 0, 0, 0, 0, 0, 0, 0, 0, 0, 0, 0, 0, 0, 0, 0, 0, 0, 0, 0, 0, 0, 0, 0, 0, 0, 0, 0, 0, 0, 0, 0, 0, 0, 0, 0, 0, 0, 0, 0, 0, 0, 0, 0, 0, 0, 0, 0, 0, 0, 0, 0, 0, 0, 0, 0, 0, 0, 0, 0, 0, 0, 0, 0, 0, 0, 0, 0, 0, 0, 0, 0, 0, 0, 0, 0, 0, 0, 0, 0, 0, 0, 0, 0, 0, 0, 0, 0, 0, 0, 0, 0, 0, 0, 0, 0, 0, 0, 0, 0, 0, 0, 0, 0, 0, 0, 0, 0, 0, 0, 0, 0, 0, 0, 0, 0, 0, 0, 0, 0, 0, 0, 0, 0, 0, 0, 0, 0, 0, 0, 0, 0, 0, 0, 0, 0, 0, 0, 0, 0, 0, 0, 0, 0, 0, 0, 0, 0, 0, 0, 0, 0, 0, 0, 0, 0, 0, 0, 0, 0, 0, 0, 0, 0, 0, 0, 0, 0, 0, 0, 0, 0, 0, 0, 0, 0, 0, 0, 0, 0, 0, 0, 0, 0, 0, 0, 0, 0, 0, 0, 0, 0, 0, 0, 0, 0, 0, 0, 0, 0, 0, 0, 0, 0, 0, 0, 0, 0, 0, 0, 0, 0, 0, 0, 0, 0, 0, 0, 0, 0, 0, 0, 0, 0, 0, 0, 0, 0, 0, 0, 0, 0, 0, 0, 0, 0, 0, 0, 0, 0, 0, 0, 0, 0, 0, 0, 0, 0, 0, 0, 0, 0, 0, 0, 0, 0, 0, 0, 0, 0, 0, 0, 0, 0, 0, 0, 0, 0, 0, 0, 0, 0, 0, 0, 0, 0, 0, 0, 0, 0, 0, 0, 0, 0, 0, 0, 0, 0, 0, 0, 0, 0, 0, 0, 0, 0, 0, 0, 0, 0, 0, 0, 0, 0, 0, 0, 0, 0, 0, 0, 0, 0, 0, 0, 0, 0, 0, 0, 0, 0, 0, 0, 0, 0, 0, 0, 0, 0, 0, 0, 0, 0, 0, 0, 0, 0, 0, 0, 0, 0, 0, 0, 0, 0, 0, 0, 0, 0, 0, 0, 0, 0, 0, 0, 0, 0, 0, 0, 0, 0, 0, 0, 0, 0, 0, 0, 0, 0, 0, 0, 0, 0, 0, 0, 0, 0, 0, 0, 0, 0, 0, 0, 0, 0, 0, 0, 0, 0, 0, 0, 0, 0, 0, 0, 0, 0, 0, 0, 0, 0, 0, 0, 0, 0, 0, 0, 0, 0, 0, 0, 0, 0, 0, 0, 0, 0, 0, 0, 0, 0, 0, 0, 0, 0, 0, 0, 0, 0, 0, 0, 0, 0, 0, 0, 0, 0, 0, 0, 0, 0, 0, 0, 0, 0, 0, 0, 0, 0, 0, 0, 0, 0, 0, 0, 0, 0, 0, 0, 0, 0, 0, 0, 0, 0, 0, 0, 0, 0, 0, 0, 0, 0, 0, 0, 0, 0, 0, 0, 0, 0, 0, 0, 0, 0, 0, 0, 0, 0, 0, 0, 0, 0, 0, 0, 0, 0, 0, 0, 0, 0, 0, 0, 0, 0, 0, 0, 0, 0, 0, 0, 0, 0, 0, 0, 0, 0, 0, 0, 0, 0, 0, 0, 0, 0, 0, 0, 0, 0, 0, 0, 0, 0, 0, 0, 0, 0, 0, 0, 0, 0, 0, 0, 0, 0, 0, 0, 0, 0, 0, 0, 0, 0, 0, 0, 0, 0, 0, 0, 0, 0, 0, 0, 0, 0, 0, 0, 0, 0, 0, 0, 0, 0, 0, 0, 0, 0, 0, 0, 0, 0, 0, 0, 0, 0, 0, 0, 0, 0, 0, 0, 0, 0, 0, 0, 0, 0, 0, 0, 0, 0, 0, 0, 0, 0, 0, 0, 0, 0, 0, 0, 0, 0, 0, 0, 0, 0, 0, 0, 0, 0, 0, 0, 0, 0, 0, 0, 0, 0, 0, 0, 0, 0, 0, 0, 0, 0, 0, 0, 0, 0, 0, 0, 0, 0, 0, 0, 0, 0, 0, 0, 0, 0, 0, 0, 0, 0, 0, 0, 0, 0, 0, 0, 0, 0, 0, 0, 0, 0, 0, 0, 0, 0, 0, 0, 0, 0, 0, 0, 0, 0, 0, 0, 0, 0, 0, 0, 0, 0, 0, 0, 0, 0, 0, 0, 0, 0, 0, 0, 0, 0, 0, 0, 0, 0, 0, 0, 0, 0, 0, 0, 0, 0, 0, 0, 0, 0, 0, 0, 0, 0, 0, 0, 0, 0, 0, 0, 0, 0, 0, 0, 0, 0, 0, 0, 0, 0, 0, 0, 0, 0, 0, 0, 0, 0, 0, 0, 0, 0, 0, 0, 0, 0, 0, 0, 0, 0, 0, 0, 0, 0, 0, 0, 0, 0, 0, 0, 0, 0, 0, 0, 0, 0, 0, 0, 0, 0, 0, 0, 0, 0, 0, 0, 0, 0, 0, 0, 0, 0, 0, 0, 0, 0, 0, 0, 0, 0, 0, 0, 0, 0, 0, 0, 0, 0, 0, 0, 0, 0, 0, 0, 0, 0, 0, 0, 0, 0, 0, 0, 0, 0, 0, 0, 0, 0, 0, 0, 0, 0, 0, 0, 0, 0, 0, 0, 0, 0, 0, 0, 0, 0, 0, 0, 0, 0, 0, 0, 0, 0, 0, 0, 0, 0, 0, 0, 0, 0, 0, 0, 0, 0, 0, 0, 0, 0, 0, 0, 0, 0, 0, 0, 0, 0, 0, 0, 0, 0, 0, 0, 0, 0, 0, 0, 0, 0, 0, 0, 0, 0, 0, 0, 0, 0, 0, 0, 0, 0, 0, 0, 0, 0, 0, 0, 0, 0, 0, 0, 0, 0, 0, 0, 0, 0, 0, 0, 0, 0, 0, 0, 0, 0, 0, 0, 0, 0, 0, 0, 0, 0, 0, 0, 0, 0, 0, 0, 0, 0, 0, 0, 0, 0, 0, 0, 0, 0, 0, 0, 0, 0, 0, 0, 0, 0, 0, 0, 0, 0, 0, 0, 0, 0, 0, 0, 0, 0, 0, 0, 0, 0, 0, 0, 0, 0, 0, 0, 0, 0, 0, 0, 0, 0, 0, 0, 0, 0, 0, 0, 0, 0, 0, 0, 0, 0, 0, 0, 0, 0, 0, 0, 0, 0, 0, 0, 0, 0, 0, 0, 0, 0, 0, 0, 0, 0, 0, 0, 0, 0, 0, 0, 0, 0, 0, 0, 0, 0, 0, 0, 0, 0, 0, 0, 0, 0, 0, 0, 0, 0, 0, 0, 0, 0, 0, 0, 0, 0, 0, 0, 0, 0, 0, 0, 0, 0, 0, 0, 0, 0, 0, 0, 0, 0, 0, 0, 0, 0, 0, 0, 0, 0, 0, 0, 0, 0, 0, 0, 0, 0, 0, 0, 0, 0, 0, 0, 0, 0, 0, 0, 0, 0, 0, 0, 0, 0, 0, 0, 0, 0, 0, 0, 0, 0, 0, 0, 0, 0, 0, 0, 0, 0, 0, 0, 0, 0, 0, 0, 0, 0, 0, 0, 0, 0, 0, 0, 0, 0, 0, 0, 0, 0, 0, 0, 0, 0, 0, 0, 0, 0, 0, 0, 0, 0, 0, 0, 0, 0, 0, 0, 0, 0, 0, 0, 0, 0, 0, 0, 0, 0, 0, 0, 0, 0, 0, 0, 0, 0, 0, 0, 0, 0, 0, 0, 0, 0, 0, 0, 0, 0, 0, 0, 0, 0, 0, 0, 0, 0, 0, 0, 0, 0, 0, 0, 0, 0, 0, 0, 0, 0, 0, 0, 0, 0, 0, 0, 0, 0, 0, 0, 0, 0, 0, 0, 0, 0, 0, 0, 0, 0, 0, 0, 0, 0, 0, 0, 0, 0, 0, 0, 0, 0, 0, 0, 0, 0, 0, 0, 0, 0, 0, 0, 0, 0, 0, 0, 0, 0, 0, 0, 0, 0, 0, 0, 0, 0, 0, 0, 0, 0, 0, 0, 0, 0, 0, 0, 0, 0, 0, 0, 0, 0, 0, 0, 0, 0, 0, 0, 0, 0, 0, 0, 0, 0, 0, 0, 0, 0, 0, 0, 0, 0, 0, 0, 0, 0, 0, 0, 0, 0, 0, 0, 0, 0, 0, 0, 0, 0, 0, 0, 0, 0, 0, 0, 0, 0, 0, 0, 0, 0, 0, 0, 0, 0, 0, 0, 0, 0, 0, 0, 0, 0, 0, 0, 0, 0, 0, 0, 0, 0, 0, 0, 0, 0, 0, 0, 0, 0, 0, 0, 0, 0, 0, 0, 0, 0, 0, 0, 0, 0, 0, 0, 0, 0, 0, 0, 0, 0, 0, 0, 0, 0, 0, 0, 0, 0, 0, 0, 0, 0, 0, 0, 0, 0, 0, 0, 0, 0, 0, 0, 0, 0, 0, 0, 0, 0, 0, 0, 0, 0, 0, 0, 0, 0, 0, 0, 0, 0, 0, 0, 0, 0, 0, 0, 0, 0, 0, 0, 0, 0, 0, 0, 0, 0, 0, 0, 0, 0, 0, 0, 0, 0, 0, 0, 0, 0, 0, 0, 0, 0, 0, 0, 0, 0, 0, 0, 0, 0, 0, 0, 0, 0, 0, 0, 0, 0, 0, 0, 0, 0, 0, 0, 0, 0, 0, 0, 0, 0, 0, 0, 0, 0, 0, 0, 0, 0, 0, 0, 0, 0, 0, 0, 0, 0, 0, 0, 0, 0, 0, 0, 0, 0, 0, 0, 0, 0, 0, 0, 0, 0, 0, 0, 0, 0, 0, 0, 0, 0, 0, 0, 0, 0, 0, 0, 0, 0, 0, 0, 0, 0, 0, 0, 0, 0, 0, 0, 0, 0, 0, 0, 0, 0, 0, 0, 0, 0, 0, 0, 0, 0, 0, 0, 0, 0, 0, 0, 0, 0, 0, 0, 0, 0, 0, 0, 0, 0, 0, 0, 0, 0, 0, 0, 0, 0, 0, 0, 0, 0, 0, 0, 0, 0, 0, 0, 0, 0, 0, 0, 0, 0, 0, 0, 0, 0, 0, 0, 0, 0, 0, 0, 0, 0, 0, 0, 0, 0, 0, 0, 0, 0, 0, 0, 0, 0, 0, 0, 0, 0, 0, 0, 0, 0, 0, 0, 0, 0, 0, 0, 0, 0, 0, 0, 0, 0, 0, 0, 0, 0, 0, 0, 0, 0, 0, 0, 0, 0, 0, 0, 0, 0, 0, 0, 0, 0, 0, 0, 0, 0, 0, 0, 0, 0, 0, 0, 0, 0, 0, 0, 0, 0, 0, 0, 0, 0, 0, 0, 0, 0, 0, 0, 0, 0, 0, 0, 0, 0, 0, 0, 0, 0, 0, 0, 0, 0, 0, 0, 0, 0, 0, 0, 0, 0, 0, 0, 0, 0, 0, 0, 0, 0, 0, 0, 0, 0, 0, 0, 0, 0, 0, 0, 0, 0, 0, 0, 0, 0, 0, 0, 0, 0, 0, 0, 0, 0, 0, 0, 0, 0, 0, 0, 0, 0, 0, 0, 0, 0, 0, 0, 0, 0, 0, 0, 0, 0, 0, 0, 0, 0, 0, 0, 0, 0, 0, 0, 0, 0, 0, 0, 0, 0, 0, 0, 0, 0, 0, 0, 0, 0, 0, 0, 0, 0, 0, 0, 0, 0, 0, 0, 0, 0, 0, 0, 0, 0, 0, 0, 0, 0, 0, 0, 0, 0, 0, 0, 0, 0, 0, 0, 0, 0, 0, 0, 0, 0, 0, 0, 0, 0, 0, 0, 0, 0, 0, 0, 0, 0, 0, 0, 0, 0, 0, 0, 0, 0, 0, 0, 0, 0, 0, 0, 0, 0, 0, 0, 0, 0, 0, 0, 0, 0, 0, 0, 0, 0, 0, 0, 0, 0, 0, 0, 0, 0, 0, 0, 0, 0, 0, 0, 0, 0, 0, 0, 0, 0, 0, 0, 0, 0, 0, 0, 0, 0, 0, 0, 0, 0, 0, 0, 0, 0, 0, 0, 0, 0, 0, 0, 0, 0, 0, 0, 0, 0, 0, 0, 0, 0, 0, 0, 0, 0, 0, 0, 0, 0, 0, 0, 0, 0, 0, 0, 0, 0, 0, 0, 0, 0, 0, 0, 0, 0, 0, 0, 0, 0, 0, 0, 0, 0, 0, 0, 0, 0, 0, 0, 0, 0, 0, 0, 0, 0, 0, 0, 0, 0, 0, 0, 0, 0, 0, 0, 0, 0, 0, 0, 0, 0, 0, 0, 0, 0, 0, 0, 0, 0, 0, 0, 0, 0, 0, 0, 0, 0, 0, 0, 0, 0, 0, 0, 0, 0, 0, 0, 0, 0, 0, 0, 0, 0, 0, 0, 0, 0, 0, 0, 0, 0, 0, 0, 0, 0, 0, 0, 0, 0, 0, 0, 0, 0, 0, 0, 0, 0, 0, 0, 0, 0, 0, 0, 0, 0, 0, 0, 0, 0, 0, 0, 0, 0, 0, 0, 0, 0, 0, 0, 0, 0, 0, 0, 0, 0, 0, 0, 0, 0, 0, 0, 0, 0, 0, 0, 0, 0, 0, 0, 0, 0, 0, 0, 0, 0, 0, 0, 0, 0, 0, 0, 0, 0, 0, 0, 0, 0, 0, 0, 0, 0, 0, 0, 0, 0, 0, 0, 0, 0, 0, 0, 0, 0, 0, 0, 0, 0, 0, 0, 0, 0, 0, 0, 0, 0, 0, 0, 0, 0, 0, 0, 0, 0, 0, 0, 0, 0, 0, 0, 0, 0, 0, 0, 0, 0, 0, 0, 0, 0, 0, 0, 0]\n",
            "[[0. 0. 0. 0. 1.]\n",
            " [1. 0. 0. 0. 0.]\n",
            " [0. 0. 0. 1. 0.]\n",
            " ...\n",
            " [1. 0. 0. 0. 0.]\n",
            " [1. 0. 0. 0. 0.]\n",
            " [1. 0. 0. 0. 0.]]\n",
            "4\n"
          ]
        }
      ]
    },
    {
      "cell_type": "code",
      "metadata": {
        "colab": {
          "base_uri": "https://localhost:8080/"
        },
        "id": "EySzaXp9q5rK",
        "outputId": "9af4f2db-f236-473f-c4df-7fc58dc2e4dd"
      },
      "source": [
        "label = np.array(convert_data)\n",
        "print(label.shape)\n",
        "print(labels.shape)\n",
        "input_ids = np.array(tf.squeeze(input_ids))\n",
        "attention_masks = np.array(tf.squeeze(attention_masks))\n",
        "print(input_ids.shape)\n",
        "print(attention_masks.shape)"
      ],
      "execution_count": null,
      "outputs": [
        {
          "output_type": "stream",
          "name": "stdout",
          "text": [
            "(39882,)\n",
            "(39882,)\n",
            "(39882, 186)\n",
            "(39882, 186)\n"
          ]
        }
      ]
    },
    {
      "cell_type": "code",
      "metadata": {
        "id": "zfWL_Apc9XR1",
        "colab": {
          "base_uri": "https://localhost:8080/"
        },
        "outputId": "72d7dae5-ac37-4a2a-e2e6-82564f2864cf"
      },
      "source": [
        "#load data into a file\n",
        "#test and train data split\n",
        "train_inp,val_inp,train_label,val_label,train_mask,val_mask=train_test_split(input_ids,label,attention_masks,test_size=0.2)\n",
        "\n",
        "print('Train inp shape {} Val input shape {}\\nTrain label shape {} Val label shape {}\\nTrain attention mask shape {} Val attention mask shape {}'.format(train_inp.shape,val_inp.shape,train_label.shape,val_label.shape,train_mask.shape,val_mask.shape))"
      ],
      "execution_count": null,
      "outputs": [
        {
          "output_type": "stream",
          "name": "stdout",
          "text": [
            "Train inp shape (31905, 186) Val input shape (7977, 186)\n",
            "Train label shape (31905,) Val label shape (7977,)\n",
            "Train attention mask shape (31905, 186) Val attention mask shape (7977, 186)\n"
          ]
        }
      ]
    },
    {
      "cell_type": "code",
      "metadata": {
        "id": "Th0nWLfsa_4O",
        "colab": {
          "base_uri": "https://localhost:8080/"
        },
        "outputId": "59416b7e-5169-44a0-9e72-5869b085ae91"
      },
      "source": [
        "import matplotlib.pyplot as plt\n",
        "from keras.callbacks import ModelCheckpoint\n",
        "\n",
        "model_save_path='dbpedia_category_bert.h5'\n",
        "\n",
        "callbacks = [tf.keras.callbacks.ModelCheckpoint(filepath= model_save_path,save_weights_only=True,monitor='val_loss',mode='min',save_best_only=True)]\n",
        "\n",
        "print('\\nBert Model',bert.summary())\n",
        "\n",
        "loss = tf.keras.losses.SparseCategoricalCrossentropy(from_logits=True)\n",
        "metric = tf.keras.metrics.SparseCategoricalAccuracy('accuracy')\n",
        "optimizer = tf.keras.optimizers.Adam(learning_rate=2e-5,epsilon=1e-08)\n",
        "\n",
        "bert.compile(loss=loss,optimizer=optimizer,metrics=[metric])"
      ],
      "execution_count": null,
      "outputs": [
        {
          "output_type": "stream",
          "name": "stdout",
          "text": [
            "Model: \"tf_roberta_for_sequence_classification\"\n",
            "_________________________________________________________________\n",
            "Layer (type)                 Output Shape              Param #   \n",
            "=================================================================\n",
            "roberta (TFRobertaMainLayer) multiple                  124055040 \n",
            "_________________________________________________________________\n",
            "classifier (TFRobertaClassif multiple                  594437    \n",
            "=================================================================\n",
            "Total params: 124,649,477\n",
            "Trainable params: 124,649,477\n",
            "Non-trainable params: 0\n",
            "_________________________________________________________________\n",
            "\n",
            "Bert Model None\n"
          ]
        }
      ]
    },
    {
      "cell_type": "code",
      "metadata": {
        "id": "ekjMwkOBdkcU",
        "colab": {
          "base_uri": "https://localhost:8080/"
        },
        "outputId": "ca66e982-8d62-4b26-eb7a-710c593b38f6"
      },
      "source": [
        "print(train_inp.shape)\n",
        "print(train_mask.shape)\n",
        "print(train_label.shape)\n",
        "print(val_inp.shape)\n",
        "print(val_mask.shape)\n",
        "print(val_label.shape)"
      ],
      "execution_count": null,
      "outputs": [
        {
          "output_type": "stream",
          "name": "stdout",
          "text": [
            "(31905, 186)\n",
            "(31905, 186)\n",
            "(31905,)\n",
            "(7977, 186)\n",
            "(7977, 186)\n",
            "(7977,)\n"
          ]
        }
      ]
    },
    {
      "cell_type": "code",
      "metadata": {
        "id": "NL5uBpIA-WiY",
        "colab": {
          "base_uri": "https://localhost:8080/"
        },
        "outputId": "576d480e-3b0f-4d03-998f-96ca33589101"
      },
      "source": [
        "history=bert.fit([train_inp,train_mask],train_label,batch_size=32,epochs=4,validation_data=([val_inp,val_mask],val_label),callbacks=callbacks)"
      ],
      "execution_count": null,
      "outputs": [
        {
          "output_type": "stream",
          "name": "stdout",
          "text": [
            "Epoch 1/4\n",
            "WARNING:tensorflow:The parameters `output_attentions`, `output_hidden_states` and `use_cache` cannot be updated when calling a model.They have to be set to True/False in the config object (i.e.: `config=XConfig.from_pretrained('name', output_attentions=True)`).\n",
            "WARNING:tensorflow:AutoGraph could not transform <bound method Socket.send of <zmq.Socket(zmq.PUSH) at 0x7efcb8275c20>> and will run it as-is.\n",
            "Please report this to the TensorFlow team. When filing the bug, set the verbosity to 10 (on Linux, `export AUTOGRAPH_VERBOSITY=10`) and attach the full output.\n",
            "Cause: module, class, method, function, traceback, frame, or code object was expected, got cython_function_or_method\n",
            "To silence this warning, decorate the function with @tf.autograph.experimental.do_not_convert\n",
            "WARNING: AutoGraph could not transform <bound method Socket.send of <zmq.Socket(zmq.PUSH) at 0x7efcb8275c20>> and will run it as-is.\n",
            "Please report this to the TensorFlow team. When filing the bug, set the verbosity to 10 (on Linux, `export AUTOGRAPH_VERBOSITY=10`) and attach the full output.\n",
            "Cause: module, class, method, function, traceback, frame, or code object was expected, got cython_function_or_method\n",
            "To silence this warning, decorate the function with @tf.autograph.experimental.do_not_convert\n",
            "WARNING:tensorflow:AutoGraph could not transform <function wrap at 0x7efcd3421290> and will run it as-is.\n",
            "Cause: while/else statement not yet supported\n",
            "To silence this warning, decorate the function with @tf.autograph.experimental.do_not_convert\n",
            "WARNING: AutoGraph could not transform <function wrap at 0x7efcd3421290> and will run it as-is.\n",
            "Cause: while/else statement not yet supported\n",
            "To silence this warning, decorate the function with @tf.autograph.experimental.do_not_convert\n",
            "WARNING:tensorflow:The parameter `return_dict` cannot be set in graph mode and will always be set to `True`.\n",
            "WARNING:tensorflow:The parameters `output_attentions`, `output_hidden_states` and `use_cache` cannot be updated when calling a model.They have to be set to True/False in the config object (i.e.: `config=XConfig.from_pretrained('name', output_attentions=True)`).\n",
            "WARNING:tensorflow:The parameter `return_dict` cannot be set in graph mode and will always be set to `True`.\n",
            "998/998 [==============================] - ETA: 0s - loss: 0.1762 - accuracy: 0.9514WARNING:tensorflow:The parameters `output_attentions`, `output_hidden_states` and `use_cache` cannot be updated when calling a model.They have to be set to True/False in the config object (i.e.: `config=XConfig.from_pretrained('name', output_attentions=True)`).\n",
            "WARNING:tensorflow:The parameter `return_dict` cannot be set in graph mode and will always be set to `True`.\n",
            "998/998 [==============================] - 2346s 2s/step - loss: 0.1762 - accuracy: 0.9514 - val_loss: 0.0918 - val_accuracy: 0.9747\n",
            "Epoch 2/4\n",
            "998/998 [==============================] - 2290s 2s/step - loss: 0.0756 - accuracy: 0.9802 - val_loss: 0.0760 - val_accuracy: 0.9804\n",
            "Epoch 3/4\n",
            "998/998 [==============================] - 2289s 2s/step - loss: 0.0559 - accuracy: 0.9845 - val_loss: 0.0774 - val_accuracy: 0.9817\n",
            "Epoch 4/4\n",
            "998/998 [==============================] - 2290s 2s/step - loss: 0.0400 - accuracy: 0.9890 - val_loss: 0.1161 - val_accuracy: 0.9783\n"
          ]
        }
      ]
    },
    {
      "cell_type": "code",
      "metadata": {
        "id": "Kr-CrFla-MOE",
        "colab": {
          "base_uri": "https://localhost:8080/"
        },
        "outputId": "a6ef279d-e491-44b9-81e3-2eea6850508a"
      },
      "source": [
        "#save model\n",
        "bert.save('saved_model/dbpedia_model')"
      ],
      "execution_count": null,
      "outputs": [
        {
          "output_type": "stream",
          "name": "stdout",
          "text": [
            "WARNING:tensorflow:The parameters `output_attentions`, `output_hidden_states` and `use_cache` cannot be updated when calling a model.They have to be set to True/False in the config object (i.e.: `config=XConfig.from_pretrained('name', output_attentions=True)`).\n",
            "WARNING:tensorflow:The parameter `return_dict` cannot be set in graph mode and will always be set to `True`.\n",
            "WARNING:tensorflow:The parameters `output_attentions`, `output_hidden_states` and `use_cache` cannot be updated when calling a model.They have to be set to True/False in the config object (i.e.: `config=XConfig.from_pretrained('name', output_attentions=True)`).\n",
            "WARNING:tensorflow:The parameter `return_dict` cannot be set in graph mode and will always be set to `True`.\n",
            "WARNING:tensorflow:The parameters `output_attentions`, `output_hidden_states` and `use_cache` cannot be updated when calling a model.They have to be set to True/False in the config object (i.e.: `config=XConfig.from_pretrained('name', output_attentions=True)`).\n",
            "WARNING:tensorflow:The parameter `return_dict` cannot be set in graph mode and will always be set to `True`.\n",
            "WARNING:tensorflow:The parameters `output_attentions`, `output_hidden_states` and `use_cache` cannot be updated when calling a model.They have to be set to True/False in the config object (i.e.: `config=XConfig.from_pretrained('name', output_attentions=True)`).\n",
            "WARNING:tensorflow:The parameter `return_dict` cannot be set in graph mode and will always be set to `True`.\n",
            "WARNING:tensorflow:The parameters `output_attentions`, `output_hidden_states` and `use_cache` cannot be updated when calling a model.They have to be set to True/False in the config object (i.e.: `config=XConfig.from_pretrained('name', output_attentions=True)`).\n",
            "WARNING:tensorflow:The parameter `return_dict` cannot be set in graph mode and will always be set to `True`.\n",
            "WARNING:tensorflow:The parameters `output_attentions`, `output_hidden_states` and `use_cache` cannot be updated when calling a model.They have to be set to True/False in the config object (i.e.: `config=XConfig.from_pretrained('name', output_attentions=True)`).\n",
            "WARNING:tensorflow:The parameter `return_dict` cannot be set in graph mode and will always be set to `True`.\n",
            "WARNING:tensorflow:The parameters `output_attentions`, `output_hidden_states` and `use_cache` cannot be updated when calling a model.They have to be set to True/False in the config object (i.e.: `config=XConfig.from_pretrained('name', output_attentions=True)`).\n",
            "WARNING:tensorflow:The parameter `return_dict` cannot be set in graph mode and will always be set to `True`.\n",
            "WARNING:tensorflow:The parameters `output_attentions`, `output_hidden_states` and `use_cache` cannot be updated when calling a model.They have to be set to True/False in the config object (i.e.: `config=XConfig.from_pretrained('name', output_attentions=True)`).\n",
            "WARNING:tensorflow:The parameter `return_dict` cannot be set in graph mode and will always be set to `True`.\n"
          ]
        },
        {
          "output_type": "stream",
          "name": "stderr",
          "text": [
            "WARNING:absl:Found untraced functions such as encoder_layer_call_fn, encoder_layer_call_and_return_conditional_losses, embeddings_layer_call_fn, embeddings_layer_call_and_return_conditional_losses, dense_layer_call_fn while saving (showing 5 of 1060). These functions will not be directly callable after loading.\n"
          ]
        },
        {
          "output_type": "stream",
          "name": "stdout",
          "text": [
            "INFO:tensorflow:Assets written to: saved_model/dbpedia_model/assets\n"
          ]
        },
        {
          "output_type": "stream",
          "name": "stderr",
          "text": [
            "INFO:tensorflow:Assets written to: saved_model/dbpedia_model/assets\n",
            "/usr/local/lib/python3.7/dist-packages/keras/utils/generic_utils.py:497: CustomMaskWarning: Custom mask layers require a config and must override get_config. When loading, the custom mask layer must be passed to the custom_objects argument.\n",
            "  category=CustomMaskWarning)\n"
          ]
        }
      ]
    },
    {
      "cell_type": "code",
      "metadata": {
        "id": "GZ7AR_QgIn2g",
        "cellView": "form"
      },
      "source": [
        "#@title `plot_history()` definition\n",
        "from matplotlib import pyplot as plt\n",
        "\n",
        "def plot_history(history, ylim=None):\n",
        "  fig, (ax1, ax2) = plt.subplots(2,1, sharex=True, dpi=150)\n",
        "  epochs = np.array(history.epoch)+1\n",
        "  ax1.plot(epochs, history.history['loss'], \n",
        "           label='training')\n",
        "  if history.history.__contains__('val_loss'):\n",
        "    ax1.plot(epochs, history.history['val_loss'], \n",
        "             label='validation')\n",
        "  if history.history.__contains__('lr'):\n",
        "    ax1b = ax1.twinx()\n",
        "    ax1b.plot(epochs, history.history['lr'], \n",
        "              'g-', linewidth=1)\n",
        "    ax1b.set_yscale('log')\n",
        "    ax1b.set_ylabel('Learning Rate', color='g')\n",
        "\n",
        "  ax1.set_ylabel('Cross-Entropy Loss')\n",
        "  ax1.set_yscale('log')\n",
        "  ax1.grid(alpha=.5)\n",
        "\n",
        "  ax2.plot(epochs, history.history['accuracy'], \n",
        "           label='training')\n",
        "  if history.history.__contains__('val_accuracy'):\n",
        "    ax2.plot(epochs, history.history['val_accuracy'], \n",
        "             label='validation')\n",
        "    ax2.legend()\n",
        "  ax2.set_ylabel('Accuracy')\n",
        "  ax2.set_xlabel('Epochs')\n",
        "  ax2.grid(alpha=.5)\n",
        "  if ylim:\n",
        "    ax2.set_ylim(ylim)\n",
        "  \n",
        "  plt.show() "
      ],
      "execution_count": null,
      "outputs": []
    },
    {
      "cell_type": "code",
      "metadata": {
        "id": "iFsLiW2f7Frb",
        "colab": {
          "base_uri": "https://localhost:8080/",
          "height": 562
        },
        "outputId": "34a2457d-92f7-4070-885f-150ca2071ba6"
      },
      "source": [
        "plot_history(history)"
      ],
      "execution_count": null,
      "outputs": [
        {
          "output_type": "display_data",
          "data": {
            "image/png": "[encoded data removed]",
            "text/plain": [
              "<Figure size 900x600 with 2 Axes>"
            ]
          },
          "metadata": {
            "needs_background": "light"
          }
        }
      ]
    },
    {
      "cell_type": "code",
      "metadata": {
        "id": "Gd3GiGyG78PI",
        "colab": {
          "base_uri": "https://localhost:8080/"
        },
        "outputId": "44c05061-25b5-4639-9e47-6fc27d1595c6"
      },
      "source": [
        "val_predict = bert.predict([val_inp,val_mask])"
      ],
      "execution_count": null,
      "outputs": [
        {
          "output_type": "stream",
          "name": "stdout",
          "text": [
            "WARNING:tensorflow:The parameters `output_attentions`, `output_hidden_states` and `use_cache` cannot be updated when calling a model.They have to be set to True/False in the config object (i.e.: `config=XConfig.from_pretrained('name', output_attentions=True)`).\n"
          ]
        },
        {
          "output_type": "stream",
          "name": "stderr",
          "text": [
            "WARNING:tensorflow:The parameters `output_attentions`, `output_hidden_states` and `use_cache` cannot be updated when calling a model.They have to be set to True/False in the config object (i.e.: `config=XConfig.from_pretrained('name', output_attentions=True)`).\n"
          ]
        },
        {
          "output_type": "stream",
          "name": "stdout",
          "text": [
            "WARNING:tensorflow:The parameter `return_dict` cannot be set in graph mode and will always be set to `True`.\n"
          ]
        },
        {
          "output_type": "stream",
          "name": "stderr",
          "text": [
            "WARNING:tensorflow:The parameter `return_dict` cannot be set in graph mode and will always be set to `True`.\n"
          ]
        }
      ]
    },
    {
      "cell_type": "code",
      "metadata": {
        "id": "eQ0QXaXXM38_"
      },
      "source": [
        "val_predict = np.argmax(val_predict.logits, axis=-1)"
      ],
      "execution_count": null,
      "outputs": []
    },
    {
      "cell_type": "code",
      "metadata": {
        "id": "E9WJDm0HxzQL",
        "colab": {
          "base_uri": "https://localhost:8080/"
        },
        "outputId": "5b001fe1-8651-4f91-8ff6-fff627ef06a2"
      },
      "source": [
        "from sklearn.metrics import classification_report\n",
        "print('      DBPedia Training Dataset - Category Classification')\n",
        "print()\n",
        "print(classification_report(val_label,val_predict,target_names=['resource', 'literal-number', 'literal-string','literal-date','boolean']))"
      ],
      "execution_count": null,
      "outputs": [
        {
          "output_type": "stream",
          "name": "stdout",
          "text": [
            "      DBPedia Training Dataset - Category Classification\n",
            "\n",
            "                precision    recall  f1-score   support\n",
            "\n",
            "      resource       0.98      1.00      0.99      6419\n",
            "literal-number       0.97      0.86      0.91       298\n",
            "literal-string       0.98      0.85      0.91       409\n",
            "  literal-date       0.98      0.88      0.93       340\n",
            "       boolean       0.98      0.98      0.98       511\n",
            "\n",
            "      accuracy                           0.98      7977\n",
            "     macro avg       0.98      0.91      0.94      7977\n",
            "  weighted avg       0.98      0.98      0.98      7977\n",
            "\n"
          ]
        }
      ]
    }
  ]
}